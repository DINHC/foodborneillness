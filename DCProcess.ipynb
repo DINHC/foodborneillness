{
 "cells": [
  {
   "cell_type": "code",
   "execution_count": null,
   "metadata": {},
   "outputs": [],
   "source": [
    "#First we imported our necessaary functions and set up the csv file and named it outbreaks_df \r\n",
    "#The first step is shared amongst the group then we went on to working on our own parts/questions."
   ]
  },
  {
   "cell_type": "code",
   "execution_count": null,
   "metadata": {},
   "outputs": [],
   "source": [
    "#In my case I made sure that the csv was called properly by using outbreaks_df.heads() to call the first five rows. Then I proceeded to created a new dataframe called virus_df by (virus_df = outbreaks_df). This \r\n",
    "# is so I can work on the data without screwing around with the original. \r\n",
    "\r\n",
    "\r\n",
    "# I then used outbreaks_df.count() to list the amount of the original occurences available and virus_df.count to list the total amount of occurences in the data after I applied a dropna() to it focusing on Species. \r\n",
    "# After using the dropna. I used virus_df.value_counts() to get the top ocurrences by species type.\r\n",
    "\r\n",
    "#It then became an issue of shortening the amount of available data which is why I used this filter function to get only those value counts higher than 500 .filter(lambda x : len(x)>500)\r\n",
    "#At this point it was making a bar graph with the Species value counts"
   ]
  },
  {
   "cell_type": "code",
   "execution_count": null,
   "metadata": {},
   "outputs": [],
   "source": [
    "#I created another dataframe called food_df and then focused specifically on food and viruses\r\n",
    "#I went on to use the dropna function again for the Food and Spcecies column \r\n",
    "# I used the value counts function to check both the Food column and Species column \r\n",
    "# I then used .filter(lambda x : len(x)>100) t ofilter out food value counts\r\n",
    "#Then I created a bar graph with the food value count\r\n",
    "#Finally I made a \"scatter\" plot with the food_df dataframe which resulted in a neat \"scatter\" graph listing the top food occurences and all of the diseases that are associated with them. (The graph was too neat and wonder\r\n",
    "# about the inclusion but I found that it helps in seeing which virus goes with which food.)"
   ]
  },
  {
   "cell_type": "code",
   "execution_count": null,
   "metadata": {},
   "outputs": [],
   "source": [
    "#A new dataframe was used once again to look at illnesses and species called foodill\r\n",
    "#I then used a code, with help from my team member Everett, which uses groupby for food and got the valuecount of Illness while limiting the result only to the top 10\r\n",
    "# I then created a bargraph with the top 10 foods and the total illness count from 1998-2015\r\n",
    "# I then used the same code for grouping food and getting value count for Illness but switched out food for species. This way it will focus on Species column.\r\n",
    "#  I then made a bargraph that looked at illness count and virus Species from 1998-2015."
   ]
  }
 ],
 "metadata": {
  "interpreter": {
   "hash": "61ee4eedbb40f6b204db7353fb8ee3c1ac35e9b22dd076c003bd79c74bdea4cf"
  },
  "kernelspec": {
   "display_name": "Python 3.6.10 64-bit ('PythonData': conda)",
   "name": "python3"
  },
  "language_info": {
   "name": "python",
   "version": ""
  },
  "orig_nbformat": 4
 },
 "nbformat": 4,
 "nbformat_minor": 2
}