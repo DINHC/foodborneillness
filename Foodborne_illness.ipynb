{
 "cells": [
  {
   "cell_type": "code",
   "execution_count": 8,
   "metadata": {},
   "outputs": [],
   "source": [
    "import matplotlib.pyplot as plt\n",
    "import pandas as pd\n",
    "import numpy as np"
   ]
  },
  {
   "cell_type": "code",
   "execution_count": 9,
   "metadata": {},
   "outputs": [
    {
     "data": {
      "text/html": [
       "<div>\n",
       "<style scoped>\n",
       "    .dataframe tbody tr th:only-of-type {\n",
       "        vertical-align: middle;\n",
       "    }\n",
       "\n",
       "    .dataframe tbody tr th {\n",
       "        vertical-align: top;\n",
       "    }\n",
       "\n",
       "    .dataframe thead th {\n",
       "        text-align: right;\n",
       "    }\n",
       "</style>\n",
       "<table border=\"1\" class=\"dataframe\">\n",
       "  <thead>\n",
       "    <tr style=\"text-align: right;\">\n",
       "      <th></th>\n",
       "      <th>Year</th>\n",
       "      <th>Month</th>\n",
       "      <th>State</th>\n",
       "      <th>Location</th>\n",
       "      <th>Food</th>\n",
       "      <th>Ingredient</th>\n",
       "      <th>Species</th>\n",
       "      <th>Serotype/Genotype</th>\n",
       "      <th>Status</th>\n",
       "      <th>Illnesses</th>\n",
       "      <th>Hospitalizations</th>\n",
       "      <th>Fatalities</th>\n",
       "    </tr>\n",
       "  </thead>\n",
       "  <tbody>\n",
       "    <tr>\n",
       "      <th>0</th>\n",
       "      <td>1998</td>\n",
       "      <td>January</td>\n",
       "      <td>California</td>\n",
       "      <td>Restaurant</td>\n",
       "      <td>NaN</td>\n",
       "      <td>NaN</td>\n",
       "      <td>NaN</td>\n",
       "      <td>NaN</td>\n",
       "      <td>NaN</td>\n",
       "      <td>20</td>\n",
       "      <td>0.0</td>\n",
       "      <td>0.0</td>\n",
       "    </tr>\n",
       "    <tr>\n",
       "      <th>1</th>\n",
       "      <td>1998</td>\n",
       "      <td>January</td>\n",
       "      <td>California</td>\n",
       "      <td>NaN</td>\n",
       "      <td>Custard</td>\n",
       "      <td>NaN</td>\n",
       "      <td>NaN</td>\n",
       "      <td>NaN</td>\n",
       "      <td>NaN</td>\n",
       "      <td>112</td>\n",
       "      <td>0.0</td>\n",
       "      <td>0.0</td>\n",
       "    </tr>\n",
       "    <tr>\n",
       "      <th>2</th>\n",
       "      <td>1998</td>\n",
       "      <td>January</td>\n",
       "      <td>California</td>\n",
       "      <td>Restaurant</td>\n",
       "      <td>NaN</td>\n",
       "      <td>NaN</td>\n",
       "      <td>NaN</td>\n",
       "      <td>NaN</td>\n",
       "      <td>NaN</td>\n",
       "      <td>35</td>\n",
       "      <td>0.0</td>\n",
       "      <td>0.0</td>\n",
       "    </tr>\n",
       "    <tr>\n",
       "      <th>3</th>\n",
       "      <td>1998</td>\n",
       "      <td>January</td>\n",
       "      <td>California</td>\n",
       "      <td>Restaurant</td>\n",
       "      <td>Fish, Ahi</td>\n",
       "      <td>NaN</td>\n",
       "      <td>Scombroid toxin</td>\n",
       "      <td>NaN</td>\n",
       "      <td>Confirmed</td>\n",
       "      <td>4</td>\n",
       "      <td>0.0</td>\n",
       "      <td>0.0</td>\n",
       "    </tr>\n",
       "    <tr>\n",
       "      <th>4</th>\n",
       "      <td>1998</td>\n",
       "      <td>January</td>\n",
       "      <td>California</td>\n",
       "      <td>Private Home/Residence</td>\n",
       "      <td>Lasagna, Unspecified; Eggs, Other</td>\n",
       "      <td>NaN</td>\n",
       "      <td>Salmonella enterica</td>\n",
       "      <td>Enteritidis</td>\n",
       "      <td>Confirmed</td>\n",
       "      <td>26</td>\n",
       "      <td>3.0</td>\n",
       "      <td>0.0</td>\n",
       "    </tr>\n",
       "    <tr>\n",
       "      <th>5</th>\n",
       "      <td>1998</td>\n",
       "      <td>January</td>\n",
       "      <td>California</td>\n",
       "      <td>Restaurant</td>\n",
       "      <td>NaN</td>\n",
       "      <td>NaN</td>\n",
       "      <td>Shigella boydii</td>\n",
       "      <td>NaN</td>\n",
       "      <td>Confirmed</td>\n",
       "      <td>25</td>\n",
       "      <td>3.0</td>\n",
       "      <td>0.0</td>\n",
       "    </tr>\n",
       "    <tr>\n",
       "      <th>6</th>\n",
       "      <td>1998</td>\n",
       "      <td>January</td>\n",
       "      <td>California</td>\n",
       "      <td>Restaurant</td>\n",
       "      <td>NaN</td>\n",
       "      <td>NaN</td>\n",
       "      <td>NaN</td>\n",
       "      <td>NaN</td>\n",
       "      <td>NaN</td>\n",
       "      <td>8</td>\n",
       "      <td>0.0</td>\n",
       "      <td>0.0</td>\n",
       "    </tr>\n",
       "    <tr>\n",
       "      <th>7</th>\n",
       "      <td>1998</td>\n",
       "      <td>January</td>\n",
       "      <td>California</td>\n",
       "      <td>Restaurant</td>\n",
       "      <td>Stuffing, Unspecified; Sandwich, Turkey</td>\n",
       "      <td>NaN</td>\n",
       "      <td>Salmonella enterica</td>\n",
       "      <td>Enteritidis</td>\n",
       "      <td>Confirmed</td>\n",
       "      <td>4</td>\n",
       "      <td>3.0</td>\n",
       "      <td>0.0</td>\n",
       "    </tr>\n",
       "    <tr>\n",
       "      <th>8</th>\n",
       "      <td>1998</td>\n",
       "      <td>January</td>\n",
       "      <td>Colorado</td>\n",
       "      <td>Restaurant</td>\n",
       "      <td>Salad, Unspecified</td>\n",
       "      <td>NaN</td>\n",
       "      <td>Virus</td>\n",
       "      <td>NaN</td>\n",
       "      <td>Suspected</td>\n",
       "      <td>21</td>\n",
       "      <td>NaN</td>\n",
       "      <td>NaN</td>\n",
       "    </tr>\n",
       "    <tr>\n",
       "      <th>9</th>\n",
       "      <td>1998</td>\n",
       "      <td>January</td>\n",
       "      <td>Colorado</td>\n",
       "      <td>Restaurant</td>\n",
       "      <td>Peppers, Chili</td>\n",
       "      <td>NaN</td>\n",
       "      <td>Virus</td>\n",
       "      <td>NaN</td>\n",
       "      <td>Suspected</td>\n",
       "      <td>3</td>\n",
       "      <td>NaN</td>\n",
       "      <td>0.0</td>\n",
       "    </tr>\n",
       "    <tr>\n",
       "      <th>10</th>\n",
       "      <td>1998</td>\n",
       "      <td>January</td>\n",
       "      <td>Colorado</td>\n",
       "      <td>Grocery Store</td>\n",
       "      <td>NaN</td>\n",
       "      <td>NaN</td>\n",
       "      <td>Virus</td>\n",
       "      <td>NaN</td>\n",
       "      <td>Suspected</td>\n",
       "      <td>8</td>\n",
       "      <td>NaN</td>\n",
       "      <td>NaN</td>\n",
       "    </tr>\n",
       "    <tr>\n",
       "      <th>11</th>\n",
       "      <td>1998</td>\n",
       "      <td>January</td>\n",
       "      <td>Colorado</td>\n",
       "      <td>Restaurant</td>\n",
       "      <td>NaN</td>\n",
       "      <td>NaN</td>\n",
       "      <td>Virus</td>\n",
       "      <td>NaN</td>\n",
       "      <td>Suspected</td>\n",
       "      <td>28</td>\n",
       "      <td>NaN</td>\n",
       "      <td>0.0</td>\n",
       "    </tr>\n",
       "    <tr>\n",
       "      <th>12</th>\n",
       "      <td>1998</td>\n",
       "      <td>January</td>\n",
       "      <td>Colorado</td>\n",
       "      <td>Private Home/Residence</td>\n",
       "      <td>NaN</td>\n",
       "      <td>NaN</td>\n",
       "      <td>Virus</td>\n",
       "      <td>NaN</td>\n",
       "      <td>Suspected</td>\n",
       "      <td>10</td>\n",
       "      <td>NaN</td>\n",
       "      <td>NaN</td>\n",
       "    </tr>\n",
       "    <tr>\n",
       "      <th>13</th>\n",
       "      <td>1998</td>\n",
       "      <td>January</td>\n",
       "      <td>Florida</td>\n",
       "      <td>Restaurant</td>\n",
       "      <td>Chicken Salad</td>\n",
       "      <td>NaN</td>\n",
       "      <td>NaN</td>\n",
       "      <td>NaN</td>\n",
       "      <td>NaN</td>\n",
       "      <td>2</td>\n",
       "      <td>NaN</td>\n",
       "      <td>NaN</td>\n",
       "    </tr>\n",
       "    <tr>\n",
       "      <th>14</th>\n",
       "      <td>1998</td>\n",
       "      <td>January</td>\n",
       "      <td>Florida</td>\n",
       "      <td>Restaurant</td>\n",
       "      <td>Hot Dog, Kielbasa</td>\n",
       "      <td>NaN</td>\n",
       "      <td>NaN</td>\n",
       "      <td>NaN</td>\n",
       "      <td>NaN</td>\n",
       "      <td>3</td>\n",
       "      <td>0.0</td>\n",
       "      <td>0.0</td>\n",
       "    </tr>\n",
       "    <tr>\n",
       "      <th>15</th>\n",
       "      <td>1998</td>\n",
       "      <td>January</td>\n",
       "      <td>Florida</td>\n",
       "      <td>Restaurant</td>\n",
       "      <td>Ethnic Style, Unspecified</td>\n",
       "      <td>NaN</td>\n",
       "      <td>Clostridium perfringens</td>\n",
       "      <td>NaN</td>\n",
       "      <td>Suspected</td>\n",
       "      <td>3</td>\n",
       "      <td>0.0</td>\n",
       "      <td>0.0</td>\n",
       "    </tr>\n",
       "    <tr>\n",
       "      <th>16</th>\n",
       "      <td>1998</td>\n",
       "      <td>January</td>\n",
       "      <td>Florida</td>\n",
       "      <td>Restaurant</td>\n",
       "      <td>Greek Salad</td>\n",
       "      <td>NaN</td>\n",
       "      <td>Norovirus genogroup I</td>\n",
       "      <td>NaN</td>\n",
       "      <td>Suspected</td>\n",
       "      <td>2</td>\n",
       "      <td>NaN</td>\n",
       "      <td>NaN</td>\n",
       "    </tr>\n",
       "    <tr>\n",
       "      <th>17</th>\n",
       "      <td>1998</td>\n",
       "      <td>January</td>\n",
       "      <td>Florida</td>\n",
       "      <td>Restaurant</td>\n",
       "      <td>Ground Beef, Cheeseburger</td>\n",
       "      <td>NaN</td>\n",
       "      <td>Staphylococcus aureus</td>\n",
       "      <td>NaN</td>\n",
       "      <td>Suspected</td>\n",
       "      <td>2</td>\n",
       "      <td>0.0</td>\n",
       "      <td>0.0</td>\n",
       "    </tr>\n",
       "    <tr>\n",
       "      <th>18</th>\n",
       "      <td>1998</td>\n",
       "      <td>January</td>\n",
       "      <td>Florida</td>\n",
       "      <td>Restaurant</td>\n",
       "      <td>Pasta, Unspecified</td>\n",
       "      <td>NaN</td>\n",
       "      <td>Bacillus cereus</td>\n",
       "      <td>NaN</td>\n",
       "      <td>Suspected</td>\n",
       "      <td>2</td>\n",
       "      <td>0.0</td>\n",
       "      <td>0.0</td>\n",
       "    </tr>\n",
       "    <tr>\n",
       "      <th>19</th>\n",
       "      <td>1998</td>\n",
       "      <td>January</td>\n",
       "      <td>Florida</td>\n",
       "      <td>Restaurant</td>\n",
       "      <td>Sauces, Unspecified; Tuna, Unspecified</td>\n",
       "      <td>NaN</td>\n",
       "      <td>Scombroid toxin</td>\n",
       "      <td>NaN</td>\n",
       "      <td>Suspected</td>\n",
       "      <td>2</td>\n",
       "      <td>2.0</td>\n",
       "      <td>0.0</td>\n",
       "    </tr>\n",
       "  </tbody>\n",
       "</table>\n",
       "</div>"
      ],
      "text/plain": [
       "    Year    Month       State                Location  \\\n",
       "0   1998  January  California              Restaurant   \n",
       "1   1998  January  California                     NaN   \n",
       "2   1998  January  California              Restaurant   \n",
       "3   1998  January  California              Restaurant   \n",
       "4   1998  January  California  Private Home/Residence   \n",
       "5   1998  January  California              Restaurant   \n",
       "6   1998  January  California              Restaurant   \n",
       "7   1998  January  California              Restaurant   \n",
       "8   1998  January    Colorado              Restaurant   \n",
       "9   1998  January    Colorado              Restaurant   \n",
       "10  1998  January    Colorado           Grocery Store   \n",
       "11  1998  January    Colorado              Restaurant   \n",
       "12  1998  January    Colorado  Private Home/Residence   \n",
       "13  1998  January     Florida              Restaurant   \n",
       "14  1998  January     Florida              Restaurant   \n",
       "15  1998  January     Florida              Restaurant   \n",
       "16  1998  January     Florida              Restaurant   \n",
       "17  1998  January     Florida              Restaurant   \n",
       "18  1998  January     Florida              Restaurant   \n",
       "19  1998  January     Florida              Restaurant   \n",
       "\n",
       "                                       Food Ingredient  \\\n",
       "0                                       NaN        NaN   \n",
       "1                                   Custard        NaN   \n",
       "2                                       NaN        NaN   \n",
       "3                                 Fish, Ahi        NaN   \n",
       "4         Lasagna, Unspecified; Eggs, Other        NaN   \n",
       "5                                       NaN        NaN   \n",
       "6                                       NaN        NaN   \n",
       "7   Stuffing, Unspecified; Sandwich, Turkey        NaN   \n",
       "8                        Salad, Unspecified        NaN   \n",
       "9                            Peppers, Chili        NaN   \n",
       "10                                      NaN        NaN   \n",
       "11                                      NaN        NaN   \n",
       "12                                      NaN        NaN   \n",
       "13                            Chicken Salad        NaN   \n",
       "14                        Hot Dog, Kielbasa        NaN   \n",
       "15                Ethnic Style, Unspecified        NaN   \n",
       "16                              Greek Salad        NaN   \n",
       "17                Ground Beef, Cheeseburger        NaN   \n",
       "18                       Pasta, Unspecified        NaN   \n",
       "19   Sauces, Unspecified; Tuna, Unspecified        NaN   \n",
       "\n",
       "                    Species Serotype/Genotype     Status  Illnesses  \\\n",
       "0                       NaN               NaN        NaN         20   \n",
       "1                       NaN               NaN        NaN        112   \n",
       "2                       NaN               NaN        NaN         35   \n",
       "3           Scombroid toxin               NaN  Confirmed          4   \n",
       "4       Salmonella enterica       Enteritidis  Confirmed         26   \n",
       "5           Shigella boydii               NaN  Confirmed         25   \n",
       "6                       NaN               NaN        NaN          8   \n",
       "7       Salmonella enterica       Enteritidis  Confirmed          4   \n",
       "8                     Virus               NaN  Suspected         21   \n",
       "9                     Virus               NaN  Suspected          3   \n",
       "10                    Virus               NaN  Suspected          8   \n",
       "11                    Virus               NaN  Suspected         28   \n",
       "12                    Virus               NaN  Suspected         10   \n",
       "13                      NaN               NaN        NaN          2   \n",
       "14                      NaN               NaN        NaN          3   \n",
       "15  Clostridium perfringens               NaN  Suspected          3   \n",
       "16    Norovirus genogroup I               NaN  Suspected          2   \n",
       "17    Staphylococcus aureus               NaN  Suspected          2   \n",
       "18          Bacillus cereus               NaN  Suspected          2   \n",
       "19          Scombroid toxin               NaN  Suspected          2   \n",
       "\n",
       "    Hospitalizations  Fatalities  \n",
       "0                0.0         0.0  \n",
       "1                0.0         0.0  \n",
       "2                0.0         0.0  \n",
       "3                0.0         0.0  \n",
       "4                3.0         0.0  \n",
       "5                3.0         0.0  \n",
       "6                0.0         0.0  \n",
       "7                3.0         0.0  \n",
       "8                NaN         NaN  \n",
       "9                NaN         0.0  \n",
       "10               NaN         NaN  \n",
       "11               NaN         0.0  \n",
       "12               NaN         NaN  \n",
       "13               NaN         NaN  \n",
       "14               0.0         0.0  \n",
       "15               0.0         0.0  \n",
       "16               NaN         NaN  \n",
       "17               0.0         0.0  \n",
       "18               0.0         0.0  \n",
       "19               2.0         0.0  "
      ]
     },
     "execution_count": 9,
     "metadata": {},
     "output_type": "execute_result"
    }
   ],
   "source": [
    "csv_file_path = 'outbreaks.csv'\n",
    "outbreaks_df = pd.read_csv(csv_file_path)\n",
    "outbreaks_df.head(20)"
   ]
  },
  {
   "cell_type": "code",
   "execution_count": 10,
   "metadata": {},
   "outputs": [
    {
     "data": {
      "text/plain": [
       "Year                 19119\n",
       "Month                19119\n",
       "State                19119\n",
       "Location             16953\n",
       "Food                 10156\n",
       "Ingredient            1876\n",
       "Species              12500\n",
       "Serotype/Genotype     3907\n",
       "Status               12500\n",
       "Illnesses            19119\n",
       "Hospitalizations     15494\n",
       "Fatalities           15518\n",
       "dtype: int64"
      ]
     },
     "execution_count": 10,
     "metadata": {},
     "output_type": "execute_result"
    }
   ],
   "source": [
    "#outbreaks_df.count()"
   ]
  },
  {
   "cell_type": "code",
   "execution_count": 11,
   "metadata": {},
   "outputs": [],
   "source": [
    "#everett branch test comment"
   ]
  },
  {
   "cell_type": "code",
   "execution_count": 12,
   "metadata": {},
   "outputs": [
    {
     "data": {
      "text/plain": [
       "([0, 1, 2, 3, 4, 5, 6, 7, 8, 9, 10, 11, 12, 13, 14, 15, 16, 17, 18, 19],\n",
       " <a list of 20 Text xticklabel objects>)"
      ]
     },
     "execution_count": 12,
     "metadata": {},
     "output_type": "execute_result"
    },
    {
     "data": {
      "image/png": "[encoded data removed]",
      "text/plain": [
       "<Figure size 432x288 with 1 Axes>"
      ]
     },
     "metadata": {
      "needs_background": "light"
     },
     "output_type": "display_data"
    }
   ],
   "source": [
    "#contaminant_series = outbreaks_df[\"Species\"].value_counts()\n",
    "#cont_frame = contaminant_series.to_frame()\n",
    "#cont_frame.head(20)\n",
    "#test_frame = cont_frame.head(20)\n",
    "#plt.bar(test_frame.index, test_frame[\"Species\"])\n",
    "#plt.xticks(rotation='vertical')"
   ]
  },
  {
   "cell_type": "code",
   "execution_count": 16,
   "metadata": {},
   "outputs": [
    {
     "data": {
      "text/plain": [
       "([0, 1, 2, 3, 4, 5, 6, 7, 8, 9, 10, 11, 12, 13, 14, 15, 16, 17, 18, 19],\n",
       " <a list of 20 Text xticklabel objects>)"
      ]
     },
     "execution_count": 16,
     "metadata": {},
     "output_type": "execute_result"
    },
    {
     "data": {
      "image/png": "[encoded data removed]",
      "text/plain": [
       "<Figure size 432x288 with 1 Axes>"
      ]
     },
     "metadata": {
      "needs_background": "light"
     },
     "output_type": "display_data"
    }
   ],
   "source": [
    "#food_series = outbreaks_df[\"Food\"].value_counts()\n",
    "#food_frame = food_series.to_frame()\n",
    "#food_frame_1 = food_frame.head(20)\n",
    "#plt.bar(food_frame_1.index, food_frame_1[\"Food\"])\n",
    "#plt.xticks(rotation='vertical')"
   ]
  },
  {
   "cell_type": "code",
   "execution_count": 17,
   "metadata": {},
   "outputs": [
    {
     "data": {
      "text/html": [
       "<div>\n",
       "<style scoped>\n",
       "    .dataframe tbody tr th:only-of-type {\n",
       "        vertical-align: middle;\n",
       "    }\n",
       "\n",
       "    .dataframe tbody tr th {\n",
       "        vertical-align: top;\n",
       "    }\n",
       "\n",
       "    .dataframe thead th {\n",
       "        text-align: right;\n",
       "    }\n",
       "</style>\n",
       "<table border=\"1\" class=\"dataframe\">\n",
       "  <thead>\n",
       "    <tr style=\"text-align: right;\">\n",
       "      <th></th>\n",
       "      <th>Food</th>\n",
       "    </tr>\n",
       "  </thead>\n",
       "  <tbody>\n",
       "    <tr>\n",
       "      <th>Multiple Foods</th>\n",
       "      <td>206</td>\n",
       "    </tr>\n",
       "    <tr>\n",
       "      <th>Oysters, Raw</th>\n",
       "      <td>165</td>\n",
       "    </tr>\n",
       "    <tr>\n",
       "      <th>Ground Beef, Hamburger</th>\n",
       "      <td>127</td>\n",
       "    </tr>\n",
       "    <tr>\n",
       "      <th>Salad, Unspecified</th>\n",
       "      <td>118</td>\n",
       "    </tr>\n",
       "    <tr>\n",
       "      <th>Chicken, Unspecified</th>\n",
       "      <td>105</td>\n",
       "    </tr>\n",
       "    <tr>\n",
       "      <th>Sandwich, Submarine</th>\n",
       "      <td>85</td>\n",
       "    </tr>\n",
       "    <tr>\n",
       "      <th>Chicken, Other</th>\n",
       "      <td>83</td>\n",
       "    </tr>\n",
       "    <tr>\n",
       "      <th>Pizza, Unspecified</th>\n",
       "      <td>81</td>\n",
       "    </tr>\n",
       "    <tr>\n",
       "      <th>Lettuce-Based Salads Unspecified</th>\n",
       "      <td>81</td>\n",
       "    </tr>\n",
       "    <tr>\n",
       "      <th>Pork, Bbq</th>\n",
       "      <td>80</td>\n",
       "    </tr>\n",
       "    <tr>\n",
       "      <th>Fish, Mahi Mahi</th>\n",
       "      <td>78</td>\n",
       "    </tr>\n",
       "    <tr>\n",
       "      <th>Pizza, Meat</th>\n",
       "      <td>72</td>\n",
       "    </tr>\n",
       "    <tr>\n",
       "      <th>Tuna, Unspecified</th>\n",
       "      <td>72</td>\n",
       "    </tr>\n",
       "    <tr>\n",
       "      <th>Chicken Salad</th>\n",
       "      <td>67</td>\n",
       "    </tr>\n",
       "    <tr>\n",
       "      <th>Chicken, Fried</th>\n",
       "      <td>67</td>\n",
       "    </tr>\n",
       "    <tr>\n",
       "      <th>Potato Salad</th>\n",
       "      <td>66</td>\n",
       "    </tr>\n",
       "    <tr>\n",
       "      <th>Fish, Ahi</th>\n",
       "      <td>59</td>\n",
       "    </tr>\n",
       "    <tr>\n",
       "      <th>Ground Beef, Unspecified</th>\n",
       "      <td>59</td>\n",
       "    </tr>\n",
       "    <tr>\n",
       "      <th>Sandwich, Deli</th>\n",
       "      <td>58</td>\n",
       "    </tr>\n",
       "    <tr>\n",
       "      <th>Ice</th>\n",
       "      <td>57</td>\n",
       "    </tr>\n",
       "  </tbody>\n",
       "</table>\n",
       "</div>"
      ],
      "text/plain": [
       "                                  Food\n",
       "Multiple Foods                     206\n",
       "Oysters, Raw                       165\n",
       "Ground Beef, Hamburger             127\n",
       "Salad, Unspecified                 118\n",
       "Chicken, Unspecified               105\n",
       "Sandwich, Submarine                 85\n",
       "Chicken, Other                      83\n",
       "Pizza, Unspecified                  81\n",
       "Lettuce-Based Salads Unspecified    81\n",
       "Pork, Bbq                           80\n",
       "Fish, Mahi Mahi                     78\n",
       "Pizza, Meat                         72\n",
       "Tuna, Unspecified                   72\n",
       "Chicken Salad                       67\n",
       "Chicken, Fried                      67\n",
       "Potato Salad                        66\n",
       "Fish, Ahi                           59\n",
       "Ground Beef, Unspecified            59\n",
       "Sandwich, Deli                      58\n",
       "Ice                                 57"
      ]
     },
     "execution_count": 17,
     "metadata": {},
     "output_type": "execute_result"
    }
   ],
   "source": [
    "#food_frame_1"
   ]
  },
  {
   "cell_type": "code",
   "execution_count": 18,
   "metadata": {},
   "outputs": [
    {
     "data": {
      "text/plain": [
       "Food    3127\n",
       "dtype: int64"
      ]
     },
     "execution_count": 18,
     "metadata": {},
     "output_type": "execute_result"
    }
   ],
   "source": [
    "food_frame.count()"
   ]
  },
  {
   "cell_type": "code",
   "execution_count": 19,
   "metadata": {},
   "outputs": [
    {
     "data": {
      "text/plain": [
       "202"
      ]
     },
     "execution_count": 19,
     "metadata": {},
     "output_type": "execute_result"
    }
   ],
   "source": [
    "species_list = outbreaks_df[\"Species\"].unique()\n",
    "len(species_list)"
   ]
  },
  {
   "cell_type": "code",
   "execution_count": 20,
   "metadata": {},
   "outputs": [
    {
     "data": {
      "text/html": [
       "<div>\n",
       "<style scoped>\n",
       "    .dataframe tbody tr th:only-of-type {\n",
       "        vertical-align: middle;\n",
       "    }\n",
       "\n",
       "    .dataframe tbody tr th {\n",
       "        vertical-align: top;\n",
       "    }\n",
       "\n",
       "    .dataframe thead th {\n",
       "        text-align: right;\n",
       "    }\n",
       "</style>\n",
       "<table border=\"1\" class=\"dataframe\">\n",
       "  <thead>\n",
       "    <tr style=\"text-align: right;\">\n",
       "      <th></th>\n",
       "      <th>Species</th>\n",
       "    </tr>\n",
       "  </thead>\n",
       "  <tbody>\n",
       "    <tr>\n",
       "      <th>Norovirus genogroup I</th>\n",
       "      <td>2744</td>\n",
       "    </tr>\n",
       "    <tr>\n",
       "      <th>Salmonella enterica</th>\n",
       "      <td>2303</td>\n",
       "    </tr>\n",
       "    <tr>\n",
       "      <th>Norovirus genogroup II</th>\n",
       "      <td>1424</td>\n",
       "    </tr>\n",
       "    <tr>\n",
       "      <th>Norovirus unknown</th>\n",
       "      <td>790</td>\n",
       "    </tr>\n",
       "    <tr>\n",
       "      <th>Clostridium perfringens</th>\n",
       "      <td>732</td>\n",
       "    </tr>\n",
       "    <tr>\n",
       "      <th>Staphylococcus aureus</th>\n",
       "      <td>532</td>\n",
       "    </tr>\n",
       "    <tr>\n",
       "      <th>Escherichia coli, Shiga toxin-producing</th>\n",
       "      <td>485</td>\n",
       "    </tr>\n",
       "    <tr>\n",
       "      <th>Scombroid toxin</th>\n",
       "      <td>389</td>\n",
       "    </tr>\n",
       "    <tr>\n",
       "      <th>Norovirus</th>\n",
       "      <td>334</td>\n",
       "    </tr>\n",
       "    <tr>\n",
       "      <th>Bacillus cereus</th>\n",
       "      <td>299</td>\n",
       "    </tr>\n",
       "    <tr>\n",
       "      <th>Campylobacter jejuni</th>\n",
       "      <td>280</td>\n",
       "    </tr>\n",
       "    <tr>\n",
       "      <th>Ciguatoxin</th>\n",
       "      <td>270</td>\n",
       "    </tr>\n",
       "    <tr>\n",
       "      <th>Chemical or toxin</th>\n",
       "      <td>156</td>\n",
       "    </tr>\n",
       "    <tr>\n",
       "      <th>Bacillus cereus; Clostridium perfringens</th>\n",
       "      <td>139</td>\n",
       "    </tr>\n",
       "    <tr>\n",
       "      <th>Shigella sonnei</th>\n",
       "      <td>130</td>\n",
       "    </tr>\n",
       "    <tr>\n",
       "      <th>Vibrio parahaemolyticus</th>\n",
       "      <td>120</td>\n",
       "    </tr>\n",
       "    <tr>\n",
       "      <th>Bacterium</th>\n",
       "      <td>114</td>\n",
       "    </tr>\n",
       "    <tr>\n",
       "      <th>Virus</th>\n",
       "      <td>101</td>\n",
       "    </tr>\n",
       "    <tr>\n",
       "      <th>Campylobacter unknown</th>\n",
       "      <td>90</td>\n",
       "    </tr>\n",
       "    <tr>\n",
       "      <th>Hepatitis A</th>\n",
       "      <td>88</td>\n",
       "    </tr>\n",
       "  </tbody>\n",
       "</table>\n",
       "</div>"
      ],
      "text/plain": [
       "                                          Species\n",
       "Norovirus genogroup I                        2744\n",
       "Salmonella enterica                          2303\n",
       "Norovirus genogroup II                       1424\n",
       "Norovirus unknown                             790\n",
       "Clostridium perfringens                       732\n",
       "Staphylococcus aureus                         532\n",
       "Escherichia coli, Shiga toxin-producing       485\n",
       "Scombroid toxin                               389\n",
       "Norovirus                                     334\n",
       "Bacillus cereus                               299\n",
       "Campylobacter jejuni                          280\n",
       "Ciguatoxin                                    270\n",
       "Chemical or toxin                             156\n",
       "Bacillus cereus; Clostridium perfringens      139\n",
       "Shigella sonnei                               130\n",
       "Vibrio parahaemolyticus                       120\n",
       "Bacterium                                     114\n",
       "Virus                                         101\n",
       "Campylobacter unknown                          90\n",
       "Hepatitis A                                    88"
      ]
     },
     "execution_count": 20,
     "metadata": {},
     "output_type": "execute_result"
    }
   ],
   "source": [
    "#cont_frame.head(20)"
   ]
  },
  {
   "cell_type": "code",
   "execution_count": 21,
   "metadata": {},
   "outputs": [
    {
     "data": {
      "text/plain": [
       "Index(['Norovirus genogroup I', 'Salmonella enterica',\n",
       "       'Norovirus genogroup II', 'Norovirus unknown',\n",
       "       'Clostridium perfringens', 'Staphylococcus aureus',\n",
       "       'Escherichia coli, Shiga toxin-producing', 'Scombroid toxin',\n",
       "       'Norovirus', 'Bacillus cereus', 'Campylobacter jejuni', 'Ciguatoxin',\n",
       "       'Chemical or toxin', 'Bacillus cereus; Clostridium perfringens',\n",
       "       'Shigella sonnei', 'Vibrio parahaemolyticus', 'Bacterium', 'Virus',\n",
       "       'Campylobacter unknown', 'Hepatitis A'],\n",
       "      dtype='object')"
      ]
     },
     "execution_count": 21,
     "metadata": {},
     "output_type": "execute_result"
    }
   ],
   "source": [
    "#test_frame.index"
   ]
  },
  {
   "cell_type": "code",
   "execution_count": null,
   "metadata": {},
   "outputs": [],
   "source": [
    "#cont_frame_trunc = cont_frame.truncate(0,20)\n",
    "#truncate requires a sorted index"
   ]
  },
  {
   "cell_type": "code",
   "execution_count": 22,
   "metadata": {},
   "outputs": [
    {
     "data": {
      "text/plain": [
       "Species    201\n",
       "dtype: int64"
      ]
     },
     "execution_count": 22,
     "metadata": {},
     "output_type": "execute_result"
    }
   ],
   "source": [
    "#cont_frame.count()"
   ]
  },
  {
   "cell_type": "code",
   "execution_count": 31,
   "metadata": {},
   "outputs": [
    {
     "data": {
      "text/plain": [
       "<BarContainer object of 18 artists>"
      ]
     },
     "execution_count": 31,
     "metadata": {},
     "output_type": "execute_result"
    },
    {
     "data": {
      "image/png": "[encoded data removed]",
      "text/plain": [
       "<Figure size 432x288 with 1 Axes>"
      ]
     },
     "metadata": {
      "needs_background": "light"
     },
     "output_type": "display_data"
    }
   ],
   "source": [
    "plt.bar(outbreaks_df[\"Year\"].unique(), outbreaks_df[\"Year\"].value_counts(), color='r', alpha=0.5, align=\"center\")"
   ]
  },
  {
   "cell_type": "code",
   "execution_count": 26,
   "metadata": {},
   "outputs": [],
   "source": [
    "#Now I will make a line graph displaying incidences per year for top contaminants"
   ]
  },
  {
   "cell_type": "code",
   "execution_count": 28,
   "metadata": {},
   "outputs": [
    {
     "data": {
      "text/html": [
       "<div>\n",
       "<style scoped>\n",
       "    .dataframe tbody tr th:only-of-type {\n",
       "        vertical-align: middle;\n",
       "    }\n",
       "\n",
       "    .dataframe tbody tr th {\n",
       "        vertical-align: top;\n",
       "    }\n",
       "\n",
       "    .dataframe thead th {\n",
       "        text-align: right;\n",
       "    }\n",
       "</style>\n",
       "<table border=\"1\" class=\"dataframe\">\n",
       "  <thead>\n",
       "    <tr style=\"text-align: right;\">\n",
       "      <th></th>\n",
       "      <th>Species</th>\n",
       "    </tr>\n",
       "  </thead>\n",
       "  <tbody>\n",
       "    <tr>\n",
       "      <th>Norovirus genogroup I</th>\n",
       "      <td>2744</td>\n",
       "    </tr>\n",
       "    <tr>\n",
       "      <th>Salmonella enterica</th>\n",
       "      <td>2303</td>\n",
       "    </tr>\n",
       "    <tr>\n",
       "      <th>Norovirus genogroup II</th>\n",
       "      <td>1424</td>\n",
       "    </tr>\n",
       "    <tr>\n",
       "      <th>Norovirus unknown</th>\n",
       "      <td>790</td>\n",
       "    </tr>\n",
       "    <tr>\n",
       "      <th>Clostridium perfringens</th>\n",
       "      <td>732</td>\n",
       "    </tr>\n",
       "    <tr>\n",
       "      <th>Staphylococcus aureus</th>\n",
       "      <td>532</td>\n",
       "    </tr>\n",
       "    <tr>\n",
       "      <th>Escherichia coli, Shiga toxin-producing</th>\n",
       "      <td>485</td>\n",
       "    </tr>\n",
       "    <tr>\n",
       "      <th>Scombroid toxin</th>\n",
       "      <td>389</td>\n",
       "    </tr>\n",
       "    <tr>\n",
       "      <th>Norovirus</th>\n",
       "      <td>334</td>\n",
       "    </tr>\n",
       "    <tr>\n",
       "      <th>Bacillus cereus</th>\n",
       "      <td>299</td>\n",
       "    </tr>\n",
       "    <tr>\n",
       "      <th>Campylobacter jejuni</th>\n",
       "      <td>280</td>\n",
       "    </tr>\n",
       "    <tr>\n",
       "      <th>Ciguatoxin</th>\n",
       "      <td>270</td>\n",
       "    </tr>\n",
       "    <tr>\n",
       "      <th>Chemical or toxin</th>\n",
       "      <td>156</td>\n",
       "    </tr>\n",
       "    <tr>\n",
       "      <th>Bacillus cereus; Clostridium perfringens</th>\n",
       "      <td>139</td>\n",
       "    </tr>\n",
       "    <tr>\n",
       "      <th>Shigella sonnei</th>\n",
       "      <td>130</td>\n",
       "    </tr>\n",
       "    <tr>\n",
       "      <th>Vibrio parahaemolyticus</th>\n",
       "      <td>120</td>\n",
       "    </tr>\n",
       "    <tr>\n",
       "      <th>Bacterium</th>\n",
       "      <td>114</td>\n",
       "    </tr>\n",
       "    <tr>\n",
       "      <th>Virus</th>\n",
       "      <td>101</td>\n",
       "    </tr>\n",
       "    <tr>\n",
       "      <th>Campylobacter unknown</th>\n",
       "      <td>90</td>\n",
       "    </tr>\n",
       "    <tr>\n",
       "      <th>Hepatitis A</th>\n",
       "      <td>88</td>\n",
       "    </tr>\n",
       "  </tbody>\n",
       "</table>\n",
       "</div>"
      ],
      "text/plain": [
       "                                          Species\n",
       "Norovirus genogroup I                        2744\n",
       "Salmonella enterica                          2303\n",
       "Norovirus genogroup II                       1424\n",
       "Norovirus unknown                             790\n",
       "Clostridium perfringens                       732\n",
       "Staphylococcus aureus                         532\n",
       "Escherichia coli, Shiga toxin-producing       485\n",
       "Scombroid toxin                               389\n",
       "Norovirus                                     334\n",
       "Bacillus cereus                               299\n",
       "Campylobacter jejuni                          280\n",
       "Ciguatoxin                                    270\n",
       "Chemical or toxin                             156\n",
       "Bacillus cereus; Clostridium perfringens      139\n",
       "Shigella sonnei                               130\n",
       "Vibrio parahaemolyticus                       120\n",
       "Bacterium                                     114\n",
       "Virus                                         101\n",
       "Campylobacter unknown                          90\n",
       "Hepatitis A                                    88"
      ]
     },
     "execution_count": 28,
     "metadata": {},
     "output_type": "execute_result"
    }
   ],
   "source": [
    "#test_frame"
   ]
  },
  {
   "cell_type": "code",
   "execution_count": 29,
   "metadata": {},
   "outputs": [],
   "source": [
    "#okay lets simplify the question, start with a single species\n",
    "#\"Norovirus genogroup I\""
   ]
  },
  {
   "cell_type": "code",
   "execution_count": 102,
   "metadata": {},
   "outputs": [],
   "source": [
    "Noro_df = outbreaks_df[outbreaks_df[\"Species\"]==\"Norovirus genogroup I\"]\n",
    "Noro_year_series = Noro_df[\"Year\"].value_counts()\n",
    "Salm_df = outbreaks_df[outbreaks_df[\"Species\"]==\"Salmonella enterica\"]\n",
    "Salm_year_series = Salm_df[\"Year\"].value_counts()\n",
    "Salm_year_df = Salm_year_series.to_frame()\n",
    "Ind_Salm = Salm_year_df.sort_index()\n",
    "Noro_2_df = outbreaks_df[outbreaks_df[\"Species\"]=='Norovirus genogroup II']\n",
    "Noro_2 = Noro_2_df[\"Year\"].value_counts().to_frame().sort_index()\n",
    "Noro_unk_df = outbreaks_df[outbreaks_df[\"Species\"]==\"Norovirus unknown\"]\n",
    "Noro_unk = Noro_unk_df[\"Year\"].value_counts().to_frame().sort_index()\n",
    "unk_cleaning = pd.DataFrame({\"Year\": [0]}, index = [1999])\n",
    "Noro_unk_cleaned = Noro_unk.append(unk_cleaning).sort_index()\n",
    "Clos_df = outbreaks_df[outbreaks_df[\"Species\"]==\"Clostridium perfringens\"]\n",
    "Clos_ind = Clos_df[\"Year\"].value_counts().to_frame().sort_index()"
   ]
  },
  {
   "cell_type": "code",
   "execution_count": 107,
   "metadata": {},
   "outputs": [
    {
     "data": {
      "image/png": "[encoded data removed]",
      "text/plain": [
       "<Figure size 432x288 with 1 Axes>"
      ]
     },
     "metadata": {
      "needs_background": "light"
     },
     "output_type": "display_data"
    }
   ],
   "source": [
    "Noro_year_df = Noro_year_series.to_frame()\n",
    "Indexed_Noro_year_df  = Noro_year_df.sort_index()\n",
    "x_axis = Indexed_Noro_year_df.index\n",
    "plt.plot(x_axis, Indexed_Noro_year_df[\"Year\"])\n",
    "plt.plot(x_axis, Ind_Salm[\"Year\"])\n",
    "plt.plot(x_axis, Noro_2[\"Year\"])\n",
    "plt.plot(x_axis, Noro_unk_cleaned[\"Year\"])\n",
    "plt.plot(x_axis, Clos_ind[\"Year\"])\n",
    "plt.xlabel(\"Year\")\n",
    "plt.ylabel(\"Incidences by Species\")\n",
    "plt.legend(['Norovirus genogroup I', 'Salmonella enterica', 'Norovirus genogroup II','Norovirus unknown', 'Clostridium perfringens'], loc='upper right')\n",
    "plt.show()\n"
   ]
  },
  {
   "cell_type": "code",
   "execution_count": 91,
   "metadata": {},
   "outputs": [
    {
     "data": {
      "text/plain": [
       "Int64Index([1998, 1999, 2000, 2001, 2002, 2003, 2004, 2005, 2006, 2007, 2008,\n",
       "            2009, 2010, 2011, 2012, 2013, 2014, 2015],\n",
       "           dtype='int64')"
      ]
     },
     "execution_count": 91,
     "metadata": {},
     "output_type": "execute_result"
    }
   ],
   "source": [
    "#x_axis"
   ]
  },
  {
   "cell_type": "code",
   "execution_count": 111,
   "metadata": {},
   "outputs": [
    {
     "data": {
      "text/plain": [
       "202"
      ]
     },
     "execution_count": 111,
     "metadata": {},
     "output_type": "execute_result"
    }
   ],
   "source": [
    "#len(outbreaks_df[\"Species\"].unique())"
   ]
  },
  {
   "cell_type": "code",
   "execution_count": 112,
   "metadata": {},
   "outputs": [
    {
     "data": {
      "text/plain": [
       "3128"
      ]
     },
     "execution_count": 112,
     "metadata": {},
     "output_type": "execute_result"
    }
   ],
   "source": [
    "#len(outbreaks_df[\"Food\"].unique())"
   ]
  },
  {
   "cell_type": "code",
   "execution_count": 122,
   "metadata": {},
   "outputs": [],
   "source": [
    "#Species_by_Illness_df = outbreaks_df.groupby([\"Species\"]).sum()[\"Illnesses\"].sort_values(ascending=False).to_frame().head(10)"
   ]
  },
  {
   "cell_type": "code",
   "execution_count": 123,
   "metadata": {},
   "outputs": [],
   "source": [
    "#Foods_by_Illness_df = outbreaks_df.groupby([\"Food\"]).sum()[\"Illnesses\"].sort_values(ascending=False).to_frame().head(10)"
   ]
  },
  {
   "cell_type": "code",
   "execution_count": 124,
   "metadata": {},
   "outputs": [
    {
     "data": {
      "text/html": [
       "<div>\n",
       "<style scoped>\n",
       "    .dataframe tbody tr th:only-of-type {\n",
       "        vertical-align: middle;\n",
       "    }\n",
       "\n",
       "    .dataframe tbody tr th {\n",
       "        vertical-align: top;\n",
       "    }\n",
       "\n",
       "    .dataframe thead th {\n",
       "        text-align: right;\n",
       "    }\n",
       "</style>\n",
       "<table border=\"1\" class=\"dataframe\">\n",
       "  <thead>\n",
       "    <tr style=\"text-align: right;\">\n",
       "      <th></th>\n",
       "      <th>Illnesses</th>\n",
       "    </tr>\n",
       "    <tr>\n",
       "      <th>Food</th>\n",
       "      <th></th>\n",
       "    </tr>\n",
       "  </thead>\n",
       "  <tbody>\n",
       "    <tr>\n",
       "      <th>Multiple Foods</th>\n",
       "      <td>5451</td>\n",
       "    </tr>\n",
       "    <tr>\n",
       "      <th>Salad, Unspecified</th>\n",
       "      <td>2650</td>\n",
       "    </tr>\n",
       "    <tr>\n",
       "      <th>Pork, Bbq</th>\n",
       "      <td>2401</td>\n",
       "    </tr>\n",
       "    <tr>\n",
       "      <th>Tomato, Unspecified</th>\n",
       "      <td>2356</td>\n",
       "    </tr>\n",
       "    <tr>\n",
       "      <th>Potato Salad</th>\n",
       "      <td>2177</td>\n",
       "    </tr>\n",
       "    <tr>\n",
       "      <th>Shell Egg, Other</th>\n",
       "      <td>1994</td>\n",
       "    </tr>\n",
       "    <tr>\n",
       "      <th>Chicken, Other</th>\n",
       "      <td>1825</td>\n",
       "    </tr>\n",
       "    <tr>\n",
       "      <th>Chicken Salad</th>\n",
       "      <td>1770</td>\n",
       "    </tr>\n",
       "    <tr>\n",
       "      <th>Other Milk, Pasteurized</th>\n",
       "      <td>1744</td>\n",
       "    </tr>\n",
       "    <tr>\n",
       "      <th>Salsa, Unspecified</th>\n",
       "      <td>1712</td>\n",
       "    </tr>\n",
       "  </tbody>\n",
       "</table>\n",
       "</div>"
      ],
      "text/plain": [
       "                         Illnesses\n",
       "Food                              \n",
       "Multiple Foods                5451\n",
       "Salad, Unspecified            2650\n",
       "Pork, Bbq                     2401\n",
       "Tomato, Unspecified           2356\n",
       "Potato Salad                  2177\n",
       "Shell Egg, Other              1994\n",
       "Chicken, Other                1825\n",
       "Chicken Salad                 1770\n",
       "Other Milk, Pasteurized       1744\n",
       "Salsa, Unspecified            1712"
      ]
     },
     "execution_count": 124,
     "metadata": {},
     "output_type": "execute_result"
    }
   ],
   "source": [
    "#Foods_by_Illness_df"
   ]
  },
  {
   "cell_type": "code",
   "execution_count": 127,
   "metadata": {},
   "outputs": [
    {
     "data": {
      "text/plain": [
       "Index(['Multiple Foods', 'Salad, Unspecified', 'Pork, Bbq',\n",
       "       'Tomato, Unspecified', 'Potato Salad', 'Shell Egg, Other',\n",
       "       'Chicken, Other', 'Chicken Salad', 'Other Milk, Pasteurized',\n",
       "       'Salsa, Unspecified'],\n",
       "      dtype='object', name='Food')"
      ]
     },
     "execution_count": 127,
     "metadata": {},
     "output_type": "execute_result"
    }
   ],
   "source": [
    "#Foods_by_Illness_df.index"
   ]
  },
  {
   "cell_type": "code",
   "execution_count": 130,
   "metadata": {},
   "outputs": [
    {
     "data": {
      "text/plain": [
       "([0, 1, 2, 3, 4, 5, 6, 7, 8, 9], <a list of 10 Text xticklabel objects>)"
      ]
     },
     "execution_count": 130,
     "metadata": {},
     "output_type": "execute_result"
    },
    {
     "data": {
      "image/png": "[encoded data removed]",
      "text/plain": [
       "<Figure size 432x288 with 1 Axes>"
      ]
     },
     "metadata": {
      "needs_background": "light"
     },
     "output_type": "display_data"
    }
   ],
   "source": [
    "#plt.bar(Foods_by_Illness_df.index,Foods_by_Illness_df[\"Illnesses\"])\n",
    "#plt.xlabel(\"Food Type\")\n",
    "#plt.ylabel(\"Total Illnesses\")\n",
    "#plt.xticks(rotation='vertical')"
   ]
  },
  {
   "cell_type": "code",
   "execution_count": 131,
   "metadata": {},
   "outputs": [
    {
     "data": {
      "text/plain": [
       "([0, 1, 2, 3, 4, 5, 6, 7, 8, 9], <a list of 10 Text xticklabel objects>)"
      ]
     },
     "execution_count": 131,
     "metadata": {},
     "output_type": "execute_result"
    },
    {
     "data": {
      "image/png": "[encoded data removed]",
      "text/plain": [
       "<Figure size 432x288 with 1 Axes>"
      ]
     },
     "metadata": {
      "needs_background": "light"
     },
     "output_type": "display_data"
    }
   ],
   "source": [
    "#plt.bar(Species_by_Illness_df.index,Species_by_Illness_df[\"Illnesses\"])\n",
    "#plt.xlabel(\"Species\")\n",
    "#plt.ylabel(\"Illnesses Total\")\n",
    "#plt.xticks(rotation='vertical')"
   ]
  },
  {
   "cell_type": "code",
   "execution_count": null,
   "metadata": {},
   "outputs": [],
   "source": []
  }
 ],
 "metadata": {
  "kernelspec": {
   "display_name": "Python 3",
   "language": "python",
   "name": "python3"
  },
  "language_info": {
   "codemirror_mode": {
    "name": "ipython",
    "version": 3
   },
   "file_extension": ".py",
   "mimetype": "text/x-python",
   "name": "python",
   "nbconvert_exporter": "python",
   "pygments_lexer": "ipython3",
   "version": "3.7.6"
  }
 },
 "nbformat": 4,
 "nbformat_minor": 4
}
