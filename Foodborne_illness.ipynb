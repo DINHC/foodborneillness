{
 "cells": [
  {
   "cell_type": "code",
   "execution_count": 91,
   "metadata": {},
   "outputs": [],
   "source": [
    "import matplotlib.pyplot as plt\r\n",
    "import pandas as pd\r\n",
    "import numpy as np"
   ]
  },
  {
   "cell_type": "code",
   "execution_count": 92,
   "metadata": {},
   "outputs": [
    {
     "data": {
      "text/html": [
       "<div>\n",
       "<style scoped>\n",
       "    .dataframe tbody tr th:only-of-type {\n",
       "        vertical-align: middle;\n",
       "    }\n",
       "\n",
       "    .dataframe tbody tr th {\n",
       "        vertical-align: top;\n",
       "    }\n",
       "\n",
       "    .dataframe thead th {\n",
       "        text-align: right;\n",
       "    }\n",
       "</style>\n",
       "<table border=\"1\" class=\"dataframe\">\n",
       "  <thead>\n",
       "    <tr style=\"text-align: right;\">\n",
       "      <th></th>\n",
       "      <th>Year</th>\n",
       "      <th>Month</th>\n",
       "      <th>State</th>\n",
       "      <th>Location</th>\n",
       "      <th>Food</th>\n",
       "      <th>Ingredient</th>\n",
       "      <th>Species</th>\n",
       "      <th>Serotype/Genotype</th>\n",
       "      <th>Status</th>\n",
       "      <th>Illnesses</th>\n",
       "      <th>Hospitalizations</th>\n",
       "      <th>Fatalities</th>\n",
       "    </tr>\n",
       "  </thead>\n",
       "  <tbody>\n",
       "    <tr>\n",
       "      <th>0</th>\n",
       "      <td>1998</td>\n",
       "      <td>January</td>\n",
       "      <td>California</td>\n",
       "      <td>Restaurant</td>\n",
       "      <td>NaN</td>\n",
       "      <td>NaN</td>\n",
       "      <td>NaN</td>\n",
       "      <td>NaN</td>\n",
       "      <td>NaN</td>\n",
       "      <td>20</td>\n",
       "      <td>0.0</td>\n",
       "      <td>0.0</td>\n",
       "    </tr>\n",
       "    <tr>\n",
       "      <th>1</th>\n",
       "      <td>1998</td>\n",
       "      <td>January</td>\n",
       "      <td>California</td>\n",
       "      <td>NaN</td>\n",
       "      <td>Custard</td>\n",
       "      <td>NaN</td>\n",
       "      <td>NaN</td>\n",
       "      <td>NaN</td>\n",
       "      <td>NaN</td>\n",
       "      <td>112</td>\n",
       "      <td>0.0</td>\n",
       "      <td>0.0</td>\n",
       "    </tr>\n",
       "    <tr>\n",
       "      <th>2</th>\n",
       "      <td>1998</td>\n",
       "      <td>January</td>\n",
       "      <td>California</td>\n",
       "      <td>Restaurant</td>\n",
       "      <td>NaN</td>\n",
       "      <td>NaN</td>\n",
       "      <td>NaN</td>\n",
       "      <td>NaN</td>\n",
       "      <td>NaN</td>\n",
       "      <td>35</td>\n",
       "      <td>0.0</td>\n",
       "      <td>0.0</td>\n",
       "    </tr>\n",
       "    <tr>\n",
       "      <th>3</th>\n",
       "      <td>1998</td>\n",
       "      <td>January</td>\n",
       "      <td>California</td>\n",
       "      <td>Restaurant</td>\n",
       "      <td>Fish, Ahi</td>\n",
       "      <td>NaN</td>\n",
       "      <td>Scombroid toxin</td>\n",
       "      <td>NaN</td>\n",
       "      <td>Confirmed</td>\n",
       "      <td>4</td>\n",
       "      <td>0.0</td>\n",
       "      <td>0.0</td>\n",
       "    </tr>\n",
       "    <tr>\n",
       "      <th>4</th>\n",
       "      <td>1998</td>\n",
       "      <td>January</td>\n",
       "      <td>California</td>\n",
       "      <td>Private Home/Residence</td>\n",
       "      <td>Lasagna, Unspecified; Eggs, Other</td>\n",
       "      <td>NaN</td>\n",
       "      <td>Salmonella enterica</td>\n",
       "      <td>Enteritidis</td>\n",
       "      <td>Confirmed</td>\n",
       "      <td>26</td>\n",
       "      <td>3.0</td>\n",
       "      <td>0.0</td>\n",
       "    </tr>\n",
       "  </tbody>\n",
       "</table>\n",
       "</div>"
      ],
      "text/plain": [
       "   Year    Month       State                Location  \\\n",
       "0  1998  January  California              Restaurant   \n",
       "1  1998  January  California                     NaN   \n",
       "2  1998  January  California              Restaurant   \n",
       "3  1998  January  California              Restaurant   \n",
       "4  1998  January  California  Private Home/Residence   \n",
       "\n",
       "                                Food Ingredient              Species  \\\n",
       "0                                NaN        NaN                  NaN   \n",
       "1                            Custard        NaN                  NaN   \n",
       "2                                NaN        NaN                  NaN   \n",
       "3                          Fish, Ahi        NaN      Scombroid toxin   \n",
       "4  Lasagna, Unspecified; Eggs, Other        NaN  Salmonella enterica   \n",
       "\n",
       "  Serotype/Genotype     Status  Illnesses  Hospitalizations  Fatalities  \n",
       "0               NaN        NaN         20               0.0         0.0  \n",
       "1               NaN        NaN        112               0.0         0.0  \n",
       "2               NaN        NaN         35               0.0         0.0  \n",
       "3               NaN  Confirmed          4               0.0         0.0  \n",
       "4       Enteritidis  Confirmed         26               3.0         0.0  "
      ]
     },
     "execution_count": 92,
     "metadata": {},
     "output_type": "execute_result"
    }
   ],
   "source": [
    "csv_file_path = 'outbreaks.csv'\r\n",
    "outbreaks_df = pd.read_csv(csv_file_path)\r\n",
    "outbreaks_df.head()"
   ]
  },
  {
   "cell_type": "code",
   "execution_count": 93,
   "metadata": {},
   "outputs": [],
   "source": [
    "virus_df = outbreaks_df"
   ]
  },
  {
   "cell_type": "code",
   "execution_count": 94,
   "metadata": {},
   "outputs": [
    {
     "data": {
      "text/plain": [
       "3                Scombroid toxin\n",
       "4            Salmonella enterica\n",
       "5                Shigella boydii\n",
       "7            Salmonella enterica\n",
       "8                          Virus\n",
       "                  ...           \n",
       "19113    Clostridium perfringens\n",
       "19114     Norovirus genogroup II\n",
       "19115     Norovirus genogroup II\n",
       "19116     Norovirus genogroup II\n",
       "19117     Norovirus genogroup II\n",
       "Name: Species, Length: 12500, dtype: object"
      ]
     },
     "execution_count": 94,
     "metadata": {},
     "output_type": "execute_result"
    }
   ],
   "source": [
    "virus_df = virus_df['Species'].dropna()\r\n",
    "virus_df"
   ]
  },
  {
   "cell_type": "code",
   "execution_count": 95,
   "metadata": {},
   "outputs": [
    {
     "data": {
      "text/plain": [
       "Year                 19119\n",
       "Month                19119\n",
       "State                19119\n",
       "Location             16953\n",
       "Food                 10156\n",
       "Ingredient            1876\n",
       "Species              12500\n",
       "Serotype/Genotype     3907\n",
       "Status               12500\n",
       "Illnesses            19119\n",
       "Hospitalizations     15494\n",
       "Fatalities           15518\n",
       "dtype: int64"
      ]
     },
     "execution_count": 95,
     "metadata": {},
     "output_type": "execute_result"
    }
   ],
   "source": [
    "outbreaks_df.count()"
   ]
  },
  {
   "cell_type": "code",
<<<<<<< HEAD
   "execution_count": 96,
=======
   "execution_count": 1,
   "metadata": {},
   "outputs": [],
   "source": [
    "#Reported outbreaks per state (Merari's block of code)"
   ]
  },
  {
   "cell_type": "code",
   "execution_count": null,
>>>>>>> 61f0f42f88340c0e79bc0a9423a078219772241c
   "metadata": {},
   "outputs": [
    {
     "data": {
      "text/plain": [
       "12500"
      ]
     },
     "execution_count": 96,
     "metadata": {},
     "output_type": "execute_result"
    }
   ],
   "source": [
    "virus_df.count()"
   ]
  },
  {
   "cell_type": "code",
   "execution_count": 97,
   "metadata": {},
   "outputs": [
    {
     "data": {
      "text/plain": [
       "Norovirus genogroup I                                                                                                                   2744\n",
       "Salmonella enterica                                                                                                                     2303\n",
       "Norovirus genogroup II                                                                                                                  1424\n",
       "Norovirus unknown                                                                                                                        790\n",
       "Clostridium perfringens                                                                                                                  732\n",
       "                                                                                                                                        ... \n",
       "Bacillus other                                                                                                                             1\n",
       "Norovirus genogroup I; Salmonella enterica                                                                                                 1\n",
       "Salmonella enterica; Salmonella enterica; Salmonella enterica; Salmonella enterica; Salmonella enterica                                    1\n",
       "Shigella; Escherichia coli, Shiga toxin-producing; Escherichia coli, Shiga toxin-producing; Salmonella enterica; Salmonella enterica       1\n",
       "Shigella                                                                                                                                   1\n",
       "Name: Species, Length: 201, dtype: int64"
      ]
     },
     "execution_count": 97,
     "metadata": {},
     "output_type": "execute_result"
    }
   ],
   "source": [
    "virus_df.value_counts() "
   ]
  },
  {
   "cell_type": "code",
   "execution_count": 98,
   "metadata": {},
   "outputs": [
    {
     "data": {
      "text/plain": [
       "Norovirus genogroup I      2744\n",
       "Salmonella enterica        2303\n",
       "Norovirus genogroup II     1424\n",
       "Norovirus unknown           790\n",
       "Clostridium perfringens     732\n",
       "Staphylococcus aureus       532\n",
       "Name: Species, dtype: int64"
      ]
     },
     "execution_count": 98,
     "metadata": {},
     "output_type": "execute_result"
    }
   ],
   "source": [
    "virus_df = outbreaks_df.groupby('Species').filter(lambda x : len(x)>500)\r\n",
    "virus_df = virus_df['Species'].value_counts()\r\n",
    "virus_df"
   ]
  },
  {
   "cell_type": "code",
   "execution_count": 273,
   "metadata": {},
   "outputs": [
    {
     "data": {
      "image/png": "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",
      "text/plain": [
       "<Figure size 720x720 with 1 Axes>"
      ]
     },
     "metadata": {
      "needs_background": "light"
     },
     "output_type": "display_data"
    }
   ],
   "source": [
    "virus_series = virus_df\r\n",
    "virus_frame = virus_series.to_frame()\r\n",
    "virus_frame = virus_frame.head(20)\r\n",
    "plt.figure(figsize=(10, 10))\r\n",
    "plt.bar(virus_frame.index, virus_frame[\"Species\"])\r\n",
    "plt.title('Top Species w/in Data')\r\n",
    "plt.ylabel('Species Value Count')\r\n",
    "plt.xlabel('Virus Species')\r\n",
    "plt.xticks(rotation='vertical')\r\n",
    "plt.savefig(\"SpeciesOcc.png\", bbox_inches=\"tight\")\r\n",
    "plt.show()"
   ]
  },
  {
   "cell_type": "code",
   "execution_count": 100,
   "metadata": {},
   "outputs": [
    {
     "data": {
      "text/html": [
       "<div>\n",
       "<style scoped>\n",
       "    .dataframe tbody tr th:only-of-type {\n",
       "        vertical-align: middle;\n",
       "    }\n",
       "\n",
       "    .dataframe tbody tr th {\n",
       "        vertical-align: top;\n",
       "    }\n",
       "\n",
       "    .dataframe thead th {\n",
       "        text-align: right;\n",
       "    }\n",
       "</style>\n",
       "<table border=\"1\" class=\"dataframe\">\n",
       "  <thead>\n",
       "    <tr style=\"text-align: right;\">\n",
       "      <th></th>\n",
       "      <th>Year</th>\n",
       "      <th>Month</th>\n",
       "      <th>State</th>\n",
       "      <th>Location</th>\n",
       "      <th>Food</th>\n",
       "      <th>Ingredient</th>\n",
       "      <th>Species</th>\n",
       "      <th>Serotype/Genotype</th>\n",
       "      <th>Status</th>\n",
       "      <th>Illnesses</th>\n",
       "      <th>Hospitalizations</th>\n",
       "      <th>Fatalities</th>\n",
       "    </tr>\n",
       "  </thead>\n",
       "  <tbody>\n",
       "    <tr>\n",
       "      <th>0</th>\n",
       "      <td>1998</td>\n",
       "      <td>January</td>\n",
       "      <td>California</td>\n",
       "      <td>Restaurant</td>\n",
       "      <td>NaN</td>\n",
       "      <td>NaN</td>\n",
       "      <td>NaN</td>\n",
       "      <td>NaN</td>\n",
       "      <td>NaN</td>\n",
       "      <td>20</td>\n",
       "      <td>0.0</td>\n",
       "      <td>0.0</td>\n",
       "    </tr>\n",
       "    <tr>\n",
       "      <th>1</th>\n",
       "      <td>1998</td>\n",
       "      <td>January</td>\n",
       "      <td>California</td>\n",
       "      <td>NaN</td>\n",
       "      <td>Custard</td>\n",
       "      <td>NaN</td>\n",
       "      <td>NaN</td>\n",
       "      <td>NaN</td>\n",
       "      <td>NaN</td>\n",
       "      <td>112</td>\n",
       "      <td>0.0</td>\n",
       "      <td>0.0</td>\n",
       "    </tr>\n",
       "    <tr>\n",
       "      <th>2</th>\n",
       "      <td>1998</td>\n",
       "      <td>January</td>\n",
       "      <td>California</td>\n",
       "      <td>Restaurant</td>\n",
       "      <td>NaN</td>\n",
       "      <td>NaN</td>\n",
       "      <td>NaN</td>\n",
       "      <td>NaN</td>\n",
       "      <td>NaN</td>\n",
       "      <td>35</td>\n",
       "      <td>0.0</td>\n",
       "      <td>0.0</td>\n",
       "    </tr>\n",
       "    <tr>\n",
       "      <th>3</th>\n",
       "      <td>1998</td>\n",
       "      <td>January</td>\n",
       "      <td>California</td>\n",
       "      <td>Restaurant</td>\n",
       "      <td>Fish, Ahi</td>\n",
       "      <td>NaN</td>\n",
       "      <td>Scombroid toxin</td>\n",
       "      <td>NaN</td>\n",
       "      <td>Confirmed</td>\n",
       "      <td>4</td>\n",
       "      <td>0.0</td>\n",
       "      <td>0.0</td>\n",
       "    </tr>\n",
       "    <tr>\n",
       "      <th>4</th>\n",
       "      <td>1998</td>\n",
       "      <td>January</td>\n",
       "      <td>California</td>\n",
       "      <td>Private Home/Residence</td>\n",
       "      <td>Lasagna, Unspecified; Eggs, Other</td>\n",
       "      <td>NaN</td>\n",
       "      <td>Salmonella enterica</td>\n",
       "      <td>Enteritidis</td>\n",
       "      <td>Confirmed</td>\n",
       "      <td>26</td>\n",
       "      <td>3.0</td>\n",
       "      <td>0.0</td>\n",
       "    </tr>\n",
       "    <tr>\n",
       "      <th>...</th>\n",
       "      <td>...</td>\n",
       "      <td>...</td>\n",
       "      <td>...</td>\n",
       "      <td>...</td>\n",
       "      <td>...</td>\n",
       "      <td>...</td>\n",
       "      <td>...</td>\n",
       "      <td>...</td>\n",
       "      <td>...</td>\n",
       "      <td>...</td>\n",
       "      <td>...</td>\n",
       "      <td>...</td>\n",
       "    </tr>\n",
       "    <tr>\n",
       "      <th>19114</th>\n",
       "      <td>2015</td>\n",
       "      <td>December</td>\n",
       "      <td>Wisconsin</td>\n",
       "      <td>Restaurant</td>\n",
       "      <td>NaN</td>\n",
       "      <td>NaN</td>\n",
       "      <td>Norovirus genogroup II</td>\n",
       "      <td>GII_14</td>\n",
       "      <td>Confirmed</td>\n",
       "      <td>4</td>\n",
       "      <td>0.0</td>\n",
       "      <td>0.0</td>\n",
       "    </tr>\n",
       "    <tr>\n",
       "      <th>19115</th>\n",
       "      <td>2015</td>\n",
       "      <td>December</td>\n",
       "      <td>Wisconsin</td>\n",
       "      <td>Private Home/Residence</td>\n",
       "      <td>Salsa</td>\n",
       "      <td>NaN</td>\n",
       "      <td>Norovirus genogroup II</td>\n",
       "      <td>GII_2</td>\n",
       "      <td>Confirmed</td>\n",
       "      <td>16</td>\n",
       "      <td>0.0</td>\n",
       "      <td>0.0</td>\n",
       "    </tr>\n",
       "    <tr>\n",
       "      <th>19116</th>\n",
       "      <td>2015</td>\n",
       "      <td>December</td>\n",
       "      <td>Wisconsin</td>\n",
       "      <td>Nursing Home/Assisted Living Facility</td>\n",
       "      <td>NaN</td>\n",
       "      <td>NaN</td>\n",
       "      <td>Norovirus genogroup II</td>\n",
       "      <td>GII_17 Kawasaki (2014)</td>\n",
       "      <td>Confirmed</td>\n",
       "      <td>43</td>\n",
       "      <td>3.0</td>\n",
       "      <td>0.0</td>\n",
       "    </tr>\n",
       "    <tr>\n",
       "      <th>19117</th>\n",
       "      <td>2015</td>\n",
       "      <td>December</td>\n",
       "      <td>Wisconsin</td>\n",
       "      <td>Fast Food Restaurant</td>\n",
       "      <td>NaN</td>\n",
       "      <td>NaN</td>\n",
       "      <td>Norovirus genogroup II</td>\n",
       "      <td>GII_2</td>\n",
       "      <td>Confirmed</td>\n",
       "      <td>5</td>\n",
       "      <td>0.0</td>\n",
       "      <td>0.0</td>\n",
       "    </tr>\n",
       "    <tr>\n",
       "      <th>19118</th>\n",
       "      <td>2015</td>\n",
       "      <td>December</td>\n",
       "      <td>Wyoming</td>\n",
       "      <td>NaN</td>\n",
       "      <td>NaN</td>\n",
       "      <td>NaN</td>\n",
       "      <td>NaN</td>\n",
       "      <td>NaN</td>\n",
       "      <td>NaN</td>\n",
       "      <td>3</td>\n",
       "      <td>0.0</td>\n",
       "      <td>0.0</td>\n",
       "    </tr>\n",
       "  </tbody>\n",
       "</table>\n",
       "<p>19119 rows × 12 columns</p>\n",
       "</div>"
      ],
      "text/plain": [
       "       Year     Month       State                               Location  \\\n",
       "0      1998   January  California                             Restaurant   \n",
       "1      1998   January  California                                    NaN   \n",
       "2      1998   January  California                             Restaurant   \n",
       "3      1998   January  California                             Restaurant   \n",
       "4      1998   January  California                 Private Home/Residence   \n",
       "...     ...       ...         ...                                    ...   \n",
       "19114  2015  December   Wisconsin                             Restaurant   \n",
       "19115  2015  December   Wisconsin                 Private Home/Residence   \n",
       "19116  2015  December   Wisconsin  Nursing Home/Assisted Living Facility   \n",
       "19117  2015  December   Wisconsin                   Fast Food Restaurant   \n",
       "19118  2015  December     Wyoming                                    NaN   \n",
       "\n",
       "                                    Food Ingredient                 Species  \\\n",
       "0                                    NaN        NaN                     NaN   \n",
       "1                                Custard        NaN                     NaN   \n",
       "2                                    NaN        NaN                     NaN   \n",
       "3                              Fish, Ahi        NaN         Scombroid toxin   \n",
       "4      Lasagna, Unspecified; Eggs, Other        NaN     Salmonella enterica   \n",
       "...                                  ...        ...                     ...   \n",
       "19114                                NaN        NaN  Norovirus genogroup II   \n",
       "19115                              Salsa        NaN  Norovirus genogroup II   \n",
       "19116                                NaN        NaN  Norovirus genogroup II   \n",
       "19117                                NaN        NaN  Norovirus genogroup II   \n",
       "19118                                NaN        NaN                     NaN   \n",
       "\n",
       "            Serotype/Genotype     Status  Illnesses  Hospitalizations  \\\n",
       "0                         NaN        NaN         20               0.0   \n",
       "1                         NaN        NaN        112               0.0   \n",
       "2                         NaN        NaN         35               0.0   \n",
       "3                         NaN  Confirmed          4               0.0   \n",
       "4                 Enteritidis  Confirmed         26               3.0   \n",
       "...                       ...        ...        ...               ...   \n",
       "19114                  GII_14  Confirmed          4               0.0   \n",
       "19115                   GII_2  Confirmed         16               0.0   \n",
       "19116  GII_17 Kawasaki (2014)  Confirmed         43               3.0   \n",
       "19117                   GII_2  Confirmed          5               0.0   \n",
       "19118                     NaN        NaN          3               0.0   \n",
       "\n",
       "       Fatalities  \n",
       "0             0.0  \n",
       "1             0.0  \n",
       "2             0.0  \n",
       "3             0.0  \n",
       "4             0.0  \n",
       "...           ...  \n",
       "19114         0.0  \n",
       "19115         0.0  \n",
       "19116         0.0  \n",
       "19117         0.0  \n",
       "19118         0.0  \n",
       "\n",
       "[19119 rows x 12 columns]"
      ]
     },
     "execution_count": 100,
     "metadata": {},
     "output_type": "execute_result"
    }
   ],
   "source": [
    "food_df = outbreaks_df\r\n",
    "food_df"
   ]
  },
  {
   "cell_type": "code",
   "execution_count": 101,
   "metadata": {},
   "outputs": [
    {
     "data": {
      "text/plain": [
       "10156"
      ]
     },
     "execution_count": 101,
     "metadata": {},
     "output_type": "execute_result"
    }
   ],
   "source": [
    "food_df['Food'].count()"
   ]
  },
  {
   "cell_type": "code",
   "execution_count": 102,
   "metadata": {},
   "outputs": [
    {
     "data": {
      "text/html": [
       "<div>\n",
       "<style scoped>\n",
       "    .dataframe tbody tr th:only-of-type {\n",
       "        vertical-align: middle;\n",
       "    }\n",
       "\n",
       "    .dataframe tbody tr th {\n",
       "        vertical-align: top;\n",
       "    }\n",
       "\n",
       "    .dataframe thead th {\n",
       "        text-align: right;\n",
       "    }\n",
       "</style>\n",
       "<table border=\"1\" class=\"dataframe\">\n",
       "  <thead>\n",
       "    <tr style=\"text-align: right;\">\n",
       "      <th></th>\n",
       "      <th>Food</th>\n",
       "      <th>Species</th>\n",
       "    </tr>\n",
       "  </thead>\n",
       "  <tbody>\n",
       "    <tr>\n",
       "      <th>3</th>\n",
       "      <td>Fish, Ahi</td>\n",
       "      <td>Scombroid toxin</td>\n",
       "    </tr>\n",
       "    <tr>\n",
       "      <th>4</th>\n",
       "      <td>Lasagna, Unspecified; Eggs, Other</td>\n",
       "      <td>Salmonella enterica</td>\n",
       "    </tr>\n",
       "    <tr>\n",
       "      <th>7</th>\n",
       "      <td>Stuffing, Unspecified; Sandwich, Turkey</td>\n",
       "      <td>Salmonella enterica</td>\n",
       "    </tr>\n",
       "    <tr>\n",
       "      <th>8</th>\n",
       "      <td>Salad, Unspecified</td>\n",
       "      <td>Virus</td>\n",
       "    </tr>\n",
       "    <tr>\n",
       "      <th>9</th>\n",
       "      <td>Peppers, Chili</td>\n",
       "      <td>Virus</td>\n",
       "    </tr>\n",
       "    <tr>\n",
       "      <th>...</th>\n",
       "      <td>...</td>\n",
       "      <td>...</td>\n",
       "    </tr>\n",
       "    <tr>\n",
       "      <th>19105</th>\n",
       "      <td>Meal Replacement Powder</td>\n",
       "      <td>Salmonella enterica</td>\n",
       "    </tr>\n",
       "    <tr>\n",
       "      <th>19108</th>\n",
       "      <td>Foie Gras</td>\n",
       "      <td>Campylobacter unknown</td>\n",
       "    </tr>\n",
       "    <tr>\n",
       "      <th>19111</th>\n",
       "      <td>Cookies, Chocolate Chip</td>\n",
       "      <td>Norovirus genogroup II</td>\n",
       "    </tr>\n",
       "    <tr>\n",
       "      <th>19113</th>\n",
       "      <td>Gravy, Pork</td>\n",
       "      <td>Clostridium perfringens</td>\n",
       "    </tr>\n",
       "    <tr>\n",
       "      <th>19115</th>\n",
       "      <td>Salsa</td>\n",
       "      <td>Norovirus genogroup II</td>\n",
       "    </tr>\n",
       "  </tbody>\n",
       "</table>\n",
       "<p>7245 rows × 2 columns</p>\n",
       "</div>"
      ],
      "text/plain": [
       "                                          Food                  Species\n",
       "3                                    Fish, Ahi          Scombroid toxin\n",
       "4            Lasagna, Unspecified; Eggs, Other      Salmonella enterica\n",
       "7      Stuffing, Unspecified; Sandwich, Turkey      Salmonella enterica\n",
       "8                           Salad, Unspecified                    Virus\n",
       "9                               Peppers, Chili                    Virus\n",
       "...                                        ...                      ...\n",
       "19105                  Meal Replacement Powder      Salmonella enterica\n",
       "19108                                Foie Gras    Campylobacter unknown\n",
       "19111                  Cookies, Chocolate Chip   Norovirus genogroup II\n",
       "19113                              Gravy, Pork  Clostridium perfringens\n",
       "19115                                    Salsa   Norovirus genogroup II\n",
       "\n",
       "[7245 rows x 2 columns]"
      ]
     },
     "execution_count": 102,
     "metadata": {},
     "output_type": "execute_result"
    }
   ],
   "source": [
    "food_df = food_df[['Food','Species']].dropna()\r\n",
    "food_df"
   ]
  },
  {
   "cell_type": "code",
   "execution_count": 103,
   "metadata": {},
   "outputs": [
    {
     "data": {
      "text/plain": [
       "Multiple Foods            206\n",
       "Oysters, Raw              165\n",
       "Ground Beef, Hamburger    127\n",
       "Salad, Unspecified        118\n",
       "Chicken, Unspecified      105\n",
       "Name: Food, dtype: int64"
      ]
     },
     "execution_count": 103,
     "metadata": {},
     "output_type": "execute_result"
    }
   ],
   "source": [
    "food_df = outbreaks_df.groupby('Food').filter(lambda x : len(x)>100)\r\n",
    "# food_df = outbreaks_df.groupby('Species').filter(lambda x : len(x) > 500)\r\n",
    "food_df['Food'].value_counts()\r\n",
    "# ['Multiple Foods', 'Oysters, Raw','Ground Beef, Hamburger','Salad, Unspecified','Chicken, Unspecified']"
   ]
  },
  {
   "cell_type": "code",
   "execution_count": 104,
   "metadata": {},
   "outputs": [
    {
     "data": {
      "text/plain": [
       "Norovirus genogroup I                                                               136\n",
       "Salmonella enterica                                                                  58\n",
       "Vibrio parahaemolyticus                                                              54\n",
       "Escherichia coli, Shiga toxin-producing                                              45\n",
       "Norovirus genogroup II                                                               36\n",
       "Norovirus unknown                                                                    27\n",
       "Staphylococcus aureus                                                                18\n",
       "Bacillus cereus; Clostridium perfringens                                             12\n",
       "Norovirus                                                                            11\n",
       "Virus                                                                                11\n",
       "Clostridium perfringens                                                              10\n",
       "Hepatitis A                                                                           6\n",
       "Bacterium                                                                             6\n",
       "Chemical or toxin                                                                     6\n",
       "Bacillus cereus                                                                       5\n",
       "Vibrio unknown                                                                        4\n",
       "Shigella sonnei                                                                       4\n",
       "Vibrio cholerae                                                                       4\n",
       "Campylobacter jejuni                                                                  4\n",
       "Campylobacter unknown                                                                 3\n",
       "Escherichia coli, Enteropathogenic                                                    2\n",
       "Giardia intestinalis                                                                  2\n",
       "Norovirus genogroup I; Norovirus genogroup II                                         2\n",
       "Shigella unknown                                                                      2\n",
       "Staphylococcus aureus; Bacillus cereus                                                1\n",
       "Norovirus unknown; Salmonella enterica                                                1\n",
       "Shigella boydii                                                                       1\n",
       "Vibrio vulnificus                                                                     1\n",
       "Escherichia coli, Shiga toxin-producing; Escherichia coli, Shiga toxin-producing      1\n",
       "Cleaning agents                                                                       1\n",
       "Clostridium perfringens; Bacillus cereus                                              1\n",
       "Norovirus genogroup I; Staphylococcus aureus                                          1\n",
       "Salmonella unknown                                                                    1\n",
       "Rotavirus                                                                             1\n",
       "Clostridium perfringens; Norovirus genogroup I                                        1\n",
       "Campylobacter other; Vibrio other; Vibrio cholerae                                    1\n",
       "Norovirus genogroup II; Norovirus genogroup II                                        1\n",
       "Rotavirus; Norovirus genogroup I; Clostridium perfringens                             1\n",
       "Vibrio parahaemolyticus; Vibrio other                                                 1\n",
       "Name: Species, dtype: int64"
      ]
     },
     "execution_count": 104,
     "metadata": {},
     "output_type": "execute_result"
    }
   ],
   "source": [
    "food_df['Species'].value_counts() "
   ]
  },
  {
   "cell_type": "code",
   "execution_count": 274,
   "metadata": {},
   "outputs": [
    {
     "data": {
      "image/png": "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",
      "text/plain": [
       "<Figure size 720x720 with 1 Axes>"
      ]
     },
     "metadata": {
      "needs_background": "light"
     },
     "output_type": "display_data"
    }
   ],
   "source": [
    "food_series = outbreaks_df['Food'].value_counts()\r\n",
    "food_frame = food_series.to_frame()\r\n",
    "food_frame = food_frame.head(20)\r\n",
    "plt.figure(figsize=(10, 10))\r\n",
    "plt.bar(food_frame.index, food_frame[\"Food\"])\r\n",
    "plt.title('Top Food w/in Data')\r\n",
    "plt.ylabel('Food Value Count')\r\n",
    "plt.xlabel('Food')\r\n",
    "plt.xticks(rotation='vertical')\r\n",
    "plt.savefig('FoodOcc.png', bbox_inches='tight')\r\n",
    "plt.show()\r\n"
   ]
  },
  {
   "cell_type": "code",
   "execution_count": 277,
   "metadata": {},
   "outputs": [
    {
     "data": {
      "image/png": "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",
      "text/plain": [
       "<Figure size 720x720 with 1 Axes>"
      ]
     },
     "metadata": {
      "needs_background": "light"
     },
     "output_type": "display_data"
    }
   ],
   "source": [
    "food_df = food_df.astype(str)\r\n",
    "food_df.plot(kind=\"scatter\", x='Food', y='Species', grid=True,figsize=(10,10), title=\"Food and Virus\")\r\n",
    "plt.ylabel('Viruses')\r\n",
    "plt.xlabel('Top Food(ValueCount)')\r\n",
    "plt.savefig('FoodaVirus.png', bbox_inches='tight')\r\n",
    "plt.show()\r\n"
   ]
  },
  {
   "cell_type": "code",
   "execution_count": 211,
   "metadata": {},
   "outputs": [],
   "source": [
    "foodvirus = outbreaks_df"
   ]
  },
  {
   "cell_type": "code",
   "execution_count": 217,
   "metadata": {},
   "outputs": [
    {
     "data": {
      "text/plain": [
       "<pandas.core.groupby.generic.SeriesGroupBy object at 0x000002671887FF28>"
      ]
     },
     "execution_count": 217,
     "metadata": {},
     "output_type": "execute_result"
    }
   ],
   "source": [
    "foodill = foodvirus.groupby('Species')['Illnesses']\r\n",
    "# foodill = foodill['Species'].dropna()\r\n",
    "#foodill = foodill.groupby('Species').filter(lambda x : len(x)>100)\r\n",
    "foodill"
   ]
  },
  {
   "cell_type": "code",
   "execution_count": 219,
   "metadata": {},
   "outputs": [
    {
     "data": {
      "text/html": [
       "<div>\n",
       "<style scoped>\n",
       "    .dataframe tbody tr th:only-of-type {\n",
       "        vertical-align: middle;\n",
       "    }\n",
       "\n",
       "    .dataframe tbody tr th {\n",
       "        vertical-align: top;\n",
       "    }\n",
       "\n",
       "    .dataframe thead th {\n",
       "        text-align: right;\n",
       "    }\n",
       "</style>\n",
       "<table border=\"1\" class=\"dataframe\">\n",
       "  <thead>\n",
       "    <tr style=\"text-align: right;\">\n",
       "      <th></th>\n",
       "      <th>Food</th>\n",
       "      <th>Year</th>\n",
       "      <th>Month</th>\n",
       "      <th>State</th>\n",
       "      <th>Location</th>\n",
       "      <th>Ingredient</th>\n",
       "      <th>Species</th>\n",
       "      <th>Serotype/Genotype</th>\n",
       "      <th>Status</th>\n",
       "      <th>Illnesses</th>\n",
       "      <th>Hospitalizations</th>\n",
       "      <th>Fatalities</th>\n",
       "    </tr>\n",
       "  </thead>\n",
       "  <tbody>\n",
       "    <tr>\n",
       "      <th>0</th>\n",
       "      <td>Acai, Bananas, Strawberries, Sugar Cane Juice</td>\n",
       "      <td>1</td>\n",
       "      <td>1</td>\n",
       "      <td>1</td>\n",
       "      <td>1</td>\n",
       "      <td>0</td>\n",
       "      <td>1</td>\n",
       "      <td>0</td>\n",
       "      <td>1</td>\n",
       "      <td>1</td>\n",
       "      <td>1</td>\n",
       "      <td>1</td>\n",
       "    </tr>\n",
       "    <tr>\n",
       "      <th>1</th>\n",
       "      <td>Ackawi Cheese, Pasteurized; Chives Cheese, Pas...</td>\n",
       "      <td>1</td>\n",
       "      <td>1</td>\n",
       "      <td>1</td>\n",
       "      <td>1</td>\n",
       "      <td>0</td>\n",
       "      <td>1</td>\n",
       "      <td>0</td>\n",
       "      <td>1</td>\n",
       "      <td>1</td>\n",
       "      <td>1</td>\n",
       "      <td>1</td>\n",
       "    </tr>\n",
       "    <tr>\n",
       "      <th>2</th>\n",
       "      <td>Alcohol</td>\n",
       "      <td>6</td>\n",
       "      <td>6</td>\n",
       "      <td>6</td>\n",
       "      <td>5</td>\n",
       "      <td>0</td>\n",
       "      <td>6</td>\n",
       "      <td>1</td>\n",
       "      <td>6</td>\n",
       "      <td>6</td>\n",
       "      <td>6</td>\n",
       "      <td>5</td>\n",
       "    </tr>\n",
       "    <tr>\n",
       "      <th>3</th>\n",
       "      <td>Alcohol; Water</td>\n",
       "      <td>1</td>\n",
       "      <td>1</td>\n",
       "      <td>1</td>\n",
       "      <td>0</td>\n",
       "      <td>1</td>\n",
       "      <td>1</td>\n",
       "      <td>1</td>\n",
       "      <td>1</td>\n",
       "      <td>1</td>\n",
       "      <td>1</td>\n",
       "      <td>1</td>\n",
       "    </tr>\n",
       "    <tr>\n",
       "      <th>4</th>\n",
       "      <td>Alfalfa Sprouts</td>\n",
       "      <td>24</td>\n",
       "      <td>24</td>\n",
       "      <td>24</td>\n",
       "      <td>15</td>\n",
       "      <td>6</td>\n",
       "      <td>23</td>\n",
       "      <td>22</td>\n",
       "      <td>23</td>\n",
       "      <td>24</td>\n",
       "      <td>17</td>\n",
       "      <td>15</td>\n",
       "    </tr>\n",
       "    <tr>\n",
       "      <th>...</th>\n",
       "      <td>...</td>\n",
       "      <td>...</td>\n",
       "      <td>...</td>\n",
       "      <td>...</td>\n",
       "      <td>...</td>\n",
       "      <td>...</td>\n",
       "      <td>...</td>\n",
       "      <td>...</td>\n",
       "      <td>...</td>\n",
       "      <td>...</td>\n",
       "      <td>...</td>\n",
       "      <td>...</td>\n",
       "    </tr>\n",
       "    <tr>\n",
       "      <th>3122</th>\n",
       "      <td>Yogurt, Unspecified</td>\n",
       "      <td>1</td>\n",
       "      <td>1</td>\n",
       "      <td>1</td>\n",
       "      <td>0</td>\n",
       "      <td>1</td>\n",
       "      <td>1</td>\n",
       "      <td>0</td>\n",
       "      <td>1</td>\n",
       "      <td>1</td>\n",
       "      <td>1</td>\n",
       "      <td>1</td>\n",
       "    </tr>\n",
       "    <tr>\n",
       "      <th>3123</th>\n",
       "      <td>Ziti &amp; Meatballs; Water; Paella</td>\n",
       "      <td>1</td>\n",
       "      <td>1</td>\n",
       "      <td>1</td>\n",
       "      <td>1</td>\n",
       "      <td>0</td>\n",
       "      <td>1</td>\n",
       "      <td>0</td>\n",
       "      <td>1</td>\n",
       "      <td>1</td>\n",
       "      <td>1</td>\n",
       "      <td>1</td>\n",
       "    </tr>\n",
       "    <tr>\n",
       "      <th>3124</th>\n",
       "      <td>Zucchini</td>\n",
       "      <td>2</td>\n",
       "      <td>2</td>\n",
       "      <td>2</td>\n",
       "      <td>2</td>\n",
       "      <td>1</td>\n",
       "      <td>1</td>\n",
       "      <td>0</td>\n",
       "      <td>1</td>\n",
       "      <td>2</td>\n",
       "      <td>2</td>\n",
       "      <td>2</td>\n",
       "    </tr>\n",
       "    <tr>\n",
       "      <th>3125</th>\n",
       "      <td>Zucchini, Marinated; Zucchini, Fried; Bruschet...</td>\n",
       "      <td>1</td>\n",
       "      <td>1</td>\n",
       "      <td>1</td>\n",
       "      <td>1</td>\n",
       "      <td>0</td>\n",
       "      <td>0</td>\n",
       "      <td>0</td>\n",
       "      <td>0</td>\n",
       "      <td>1</td>\n",
       "      <td>1</td>\n",
       "      <td>1</td>\n",
       "    </tr>\n",
       "    <tr>\n",
       "      <th>3126</th>\n",
       "      <td>Zucchini, Unspecified; Cake, Custard-Filled; V...</td>\n",
       "      <td>1</td>\n",
       "      <td>1</td>\n",
       "      <td>1</td>\n",
       "      <td>1</td>\n",
       "      <td>0</td>\n",
       "      <td>0</td>\n",
       "      <td>0</td>\n",
       "      <td>0</td>\n",
       "      <td>1</td>\n",
       "      <td>1</td>\n",
       "      <td>1</td>\n",
       "    </tr>\n",
       "  </tbody>\n",
       "</table>\n",
       "<p>3127 rows × 12 columns</p>\n",
       "</div>"
      ],
      "text/plain": [
       "                                                   Food  Year  Month  State  \\\n",
       "0         Acai, Bananas, Strawberries, Sugar Cane Juice     1      1      1   \n",
       "1     Ackawi Cheese, Pasteurized; Chives Cheese, Pas...     1      1      1   \n",
       "2                                               Alcohol     6      6      6   \n",
       "3                                        Alcohol; Water     1      1      1   \n",
       "4                                       Alfalfa Sprouts    24     24     24   \n",
       "...                                                 ...   ...    ...    ...   \n",
       "3122                                Yogurt, Unspecified     1      1      1   \n",
       "3123                    Ziti & Meatballs; Water; Paella     1      1      1   \n",
       "3124                                           Zucchini     2      2      2   \n",
       "3125  Zucchini, Marinated; Zucchini, Fried; Bruschet...     1      1      1   \n",
       "3126  Zucchini, Unspecified; Cake, Custard-Filled; V...     1      1      1   \n",
       "\n",
       "      Location  Ingredient  Species  Serotype/Genotype  Status  Illnesses  \\\n",
       "0            1           0        1                  0       1          1   \n",
       "1            1           0        1                  0       1          1   \n",
       "2            5           0        6                  1       6          6   \n",
       "3            0           1        1                  1       1          1   \n",
       "4           15           6       23                 22      23         24   \n",
       "...        ...         ...      ...                ...     ...        ...   \n",
       "3122         0           1        1                  0       1          1   \n",
       "3123         1           0        1                  0       1          1   \n",
       "3124         2           1        1                  0       1          2   \n",
       "3125         1           0        0                  0       0          1   \n",
       "3126         1           0        0                  0       0          1   \n",
       "\n",
       "      Hospitalizations  Fatalities  \n",
       "0                    1           1  \n",
       "1                    1           1  \n",
       "2                    6           5  \n",
       "3                    1           1  \n",
       "4                   17          15  \n",
       "...                ...         ...  \n",
       "3122                 1           1  \n",
       "3123                 1           1  \n",
       "3124                 2           2  \n",
       "3125                 1           1  \n",
       "3126                 1           1  \n",
       "\n",
       "[3127 rows x 12 columns]"
      ]
     },
     "execution_count": 219,
     "metadata": {},
     "output_type": "execute_result"
    }
   ],
   "source": [
    "foodill_data"
   ]
  },
  {
   "cell_type": "code",
   "execution_count": 233,
   "metadata": {},
   "outputs": [
    {
     "data": {
      "text/plain": [
       "Index(['Norovirus genogroup I', 'Salmonella enterica',\n",
       "       'Norovirus genogroup II', 'Clostridium perfringens',\n",
       "       'Norovirus unknown', 'Escherichia coli, Shiga toxin-producing',\n",
       "       'Staphylococcus aureus', 'Campylobacter jejuni', 'Shigella sonnei',\n",
       "       'Norovirus'],\n",
       "      dtype='object', name='Species')"
      ]
     },
     "execution_count": 233,
     "metadata": {},
     "output_type": "execute_result"
    }
   ],
   "source": [
    "foodill_data.index"
   ]
  },
  {
   "cell_type": "code",
   "execution_count": 237,
   "metadata": {},
   "outputs": [],
   "source": [
    "foodill = outbreaks_df.groupby([\"Food\"]).sum()[\"Illnesses\"].sort_values(ascending=False).to_frame().head(10)"
   ]
  },
  {
   "cell_type": "code",
   "execution_count": 279,
   "metadata": {},
   "outputs": [
    {
     "data": {
      "image/png": "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",
      "text/plain": [
       "<Figure size 792x360 with 1 Axes>"
      ]
     },
     "metadata": {
      "needs_background": "light"
     },
     "output_type": "display_data"
    },
    {
     "data": {
      "text/plain": [
       "<Figure size 432x288 with 0 Axes>"
      ]
     },
     "metadata": {},
     "output_type": "display_data"
    }
   ],
   "source": [
    "\r\n",
    "foodill.plot(kind=\"bar\", figsize=(11,5))\r\n",
    "plt.title(\"Food and Illness\")\r\n",
    "plt.ylabel('Illness Count')\r\n",
    "plt.savefig('FoodaIllness(Bar)', bbox_inches='tight')\r\n",
    "plt.show()\r\n",
    "plt.tight_layout()\r\n"
   ]
  },
  {
   "cell_type": "code",
   "execution_count": 239,
   "metadata": {},
   "outputs": [],
   "source": [
    "foodv = outbreaks_df.groupby([\"Species\"]).sum()[\"Illnesses\"].sort_values(ascending=False).to_frame().head(10)"
   ]
  },
  {
   "cell_type": "code",
   "execution_count": 280,
   "metadata": {},
   "outputs": [
    {
     "data": {
      "image/png": "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",
      "text/plain": [
       "<Figure size 792x360 with 1 Axes>"
      ]
     },
     "metadata": {
      "needs_background": "light"
     },
     "output_type": "display_data"
    },
    {
     "data": {
      "text/plain": [
       "<Figure size 432x288 with 0 Axes>"
      ]
     },
     "metadata": {},
     "output_type": "display_data"
    }
   ],
   "source": [
    "foodv.plot(kind=\"bar\", figsize=(11,5))\r\n",
    "\r\n",
    "plt.title(\"Viruses and Illness\")\r\n",
    "plt.ylabel('Illness Count')\r\n",
    "plt.savefig('Virus&Ill(Bar).png', bbox_inches='tight')\r\n",
    "plt.show()\r\n",
    "plt.tight_layout()\r\n"
   ]
  }
 ],
 "metadata": {
  "interpreter": {
   "hash": "61ee4eedbb40f6b204db7353fb8ee3c1ac35e9b22dd076c003bd79c74bdea4cf"
  },
  "kernelspec": {
<<<<<<< HEAD
   "display_name": "Python 3.6.10 64-bit ('PythonData': conda)",
   "name": "python3"
=======
   "name": "python3",
   "display_name": "Python 3.8.8 64-bit ('base': conda)"
>>>>>>> 61f0f42f88340c0e79bc0a9423a078219772241c
  },
  "language_info": {
   "codemirror_mode": {
    "name": "ipython",
    "version": 3
   },
   "file_extension": ".py",
   "mimetype": "text/x-python",
   "name": "python",
   "nbconvert_exporter": "python",
   "pygments_lexer": "ipython3",
<<<<<<< HEAD
   "version": "3.6.10"
=======
   "version": "3.8.8"
  },
  "interpreter": {
   "hash": "d0612af51d520778623e3976a8283ab01d740464dfd1d7760c60614b40f0e147"
>>>>>>> 61f0f42f88340c0e79bc0a9423a078219772241c
  }
 },
 "nbformat": 4,
 "nbformat_minor": 4
}