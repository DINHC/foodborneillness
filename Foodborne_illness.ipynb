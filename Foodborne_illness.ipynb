{
 "cells": [
  {
   "cell_type": "code",
   "execution_count": 91,
   "metadata": {},
   "outputs": [],
   "source": [
    "import matplotlib.pyplot as plt\r\n",
    "import pandas as pd\r\n",
    "import numpy as np"
   ]
  },
  {
   "cell_type": "code",
   "execution_count": 92,
   "metadata": {},
   "outputs": [
    {
     "data": {
      "text/html": [
       "<div>\n",
       "<style scoped>\n",
       "    .dataframe tbody tr th:only-of-type {\n",
       "        vertical-align: middle;\n",
       "    }\n",
       "\n",
       "    .dataframe tbody tr th {\n",
       "        vertical-align: top;\n",
       "    }\n",
       "\n",
       "    .dataframe thead th {\n",
       "        text-align: right;\n",
       "    }\n",
       "</style>\n",
       "<table border=\"1\" class=\"dataframe\">\n",
       "  <thead>\n",
       "    <tr style=\"text-align: right;\">\n",
       "      <th></th>\n",
       "      <th>Year</th>\n",
       "      <th>Month</th>\n",
       "      <th>State</th>\n",
       "      <th>Location</th>\n",
       "      <th>Food</th>\n",
       "      <th>Ingredient</th>\n",
       "      <th>Species</th>\n",
       "      <th>Serotype/Genotype</th>\n",
       "      <th>Status</th>\n",
       "      <th>Illnesses</th>\n",
       "      <th>Hospitalizations</th>\n",
       "      <th>Fatalities</th>\n",
       "    </tr>\n",
       "  </thead>\n",
       "  <tbody>\n",
       "    <tr>\n",
       "      <th>0</th>\n",
       "      <td>1998</td>\n",
       "      <td>January</td>\n",
       "      <td>California</td>\n",
       "      <td>Restaurant</td>\n",
       "      <td>NaN</td>\n",
       "      <td>NaN</td>\n",
       "      <td>NaN</td>\n",
       "      <td>NaN</td>\n",
       "      <td>NaN</td>\n",
       "      <td>20</td>\n",
       "      <td>0.0</td>\n",
       "      <td>0.0</td>\n",
       "    </tr>\n",
       "    <tr>\n",
       "      <th>1</th>\n",
       "      <td>1998</td>\n",
       "      <td>January</td>\n",
       "      <td>California</td>\n",
       "      <td>NaN</td>\n",
       "      <td>Custard</td>\n",
       "      <td>NaN</td>\n",
       "      <td>NaN</td>\n",
       "      <td>NaN</td>\n",
       "      <td>NaN</td>\n",
       "      <td>112</td>\n",
       "      <td>0.0</td>\n",
       "      <td>0.0</td>\n",
       "    </tr>\n",
       "    <tr>\n",
       "      <th>2</th>\n",
       "      <td>1998</td>\n",
       "      <td>January</td>\n",
       "      <td>California</td>\n",
       "      <td>Restaurant</td>\n",
       "      <td>NaN</td>\n",
       "      <td>NaN</td>\n",
       "      <td>NaN</td>\n",
       "      <td>NaN</td>\n",
       "      <td>NaN</td>\n",
       "      <td>35</td>\n",
       "      <td>0.0</td>\n",
       "      <td>0.0</td>\n",
       "    </tr>\n",
       "    <tr>\n",
       "      <th>3</th>\n",
       "      <td>1998</td>\n",
       "      <td>January</td>\n",
       "      <td>California</td>\n",
       "      <td>Restaurant</td>\n",
       "      <td>Fish, Ahi</td>\n",
       "      <td>NaN</td>\n",
       "      <td>Scombroid toxin</td>\n",
       "      <td>NaN</td>\n",
       "      <td>Confirmed</td>\n",
       "      <td>4</td>\n",
       "      <td>0.0</td>\n",
       "      <td>0.0</td>\n",
       "    </tr>\n",
       "    <tr>\n",
       "      <th>4</th>\n",
       "      <td>1998</td>\n",
       "      <td>January</td>\n",
       "      <td>California</td>\n",
       "      <td>Private Home/Residence</td>\n",
       "      <td>Lasagna, Unspecified; Eggs, Other</td>\n",
       "      <td>NaN</td>\n",
       "      <td>Salmonella enterica</td>\n",
       "      <td>Enteritidis</td>\n",
       "      <td>Confirmed</td>\n",
       "      <td>26</td>\n",
       "      <td>3.0</td>\n",
       "      <td>0.0</td>\n",
       "    </tr>\n",
       "  </tbody>\n",
       "</table>\n",
       "</div>"
      ],
      "text/plain": [
       "   Year    Month       State                Location  \\\n",
       "0  1998  January  California              Restaurant   \n",
       "1  1998  January  California                     NaN   \n",
       "2  1998  January  California              Restaurant   \n",
       "3  1998  January  California              Restaurant   \n",
       "4  1998  January  California  Private Home/Residence   \n",
       "\n",
       "                                Food Ingredient              Species  \\\n",
       "0                                NaN        NaN                  NaN   \n",
       "1                            Custard        NaN                  NaN   \n",
       "2                                NaN        NaN                  NaN   \n",
       "3                          Fish, Ahi        NaN      Scombroid toxin   \n",
       "4  Lasagna, Unspecified; Eggs, Other        NaN  Salmonella enterica   \n",
       "\n",
       "  Serotype/Genotype     Status  Illnesses  Hospitalizations  Fatalities  \n",
       "0               NaN        NaN         20               0.0         0.0  \n",
       "1               NaN        NaN        112               0.0         0.0  \n",
       "2               NaN        NaN         35               0.0         0.0  \n",
       "3               NaN  Confirmed          4               0.0         0.0  \n",
       "4       Enteritidis  Confirmed         26               3.0         0.0  "
      ]
     },
     "execution_count": 92,
     "metadata": {},
     "output_type": "execute_result"
    }
   ],
   "source": [
    "csv_file_path = 'outbreaks.csv'\r\n",
    "outbreaks_df = pd.read_csv(csv_file_path)\r\n",
    "outbreaks_df.head()"
   ]
  },
  {
   "cell_type": "code",
   "execution_count": 93,
   "metadata": {},
   "outputs": [],
   "source": [
    "virus_df = outbreaks_df"
   ]
  },
  {
   "cell_type": "code",
   "execution_count": 94,
   "metadata": {},
   "outputs": [
    {
     "data": {
      "text/plain": [
       "3                Scombroid toxin\n",
       "4            Salmonella enterica\n",
       "5                Shigella boydii\n",
       "7            Salmonella enterica\n",
       "8                          Virus\n",
       "                  ...           \n",
       "19113    Clostridium perfringens\n",
       "19114     Norovirus genogroup II\n",
       "19115     Norovirus genogroup II\n",
       "19116     Norovirus genogroup II\n",
       "19117     Norovirus genogroup II\n",
       "Name: Species, Length: 12500, dtype: object"
      ]
     },
     "execution_count": 94,
     "metadata": {},
     "output_type": "execute_result"
    }
   ],
   "source": [
    "virus_df = virus_df['Species'].dropna()\r\n",
    "virus_df"
   ]
  },
  {
   "cell_type": "code",
   "execution_count": 95,
   "metadata": {},
   "outputs": [
    {
     "data": {
      "text/plain": [
       "Year                 19119\n",
       "Month                19119\n",
       "State                19119\n",
       "Location             16953\n",
       "Food                 10156\n",
       "Ingredient            1876\n",
       "Species              12500\n",
       "Serotype/Genotype     3907\n",
       "Status               12500\n",
       "Illnesses            19119\n",
       "Hospitalizations     15494\n",
       "Fatalities           15518\n",
       "dtype: int64"
      ]
     },
     "execution_count": 95,
     "metadata": {},
     "output_type": "execute_result"
    }
   ],
   "source": [
    "outbreaks_df.count()"
   ]
  },
  {
   "cell_type": "code",
   "execution_count": 96,
   "metadata": {},
   "outputs": [
    {
     "data": {
      "text/plain": [
       "12500"
      ]
     },
     "execution_count": 96,
     "metadata": {},
     "output_type": "execute_result"
    }
   ],
   "source": [
    "virus_df.count()"
   ]
  },
  {
   "cell_type": "code",
   "execution_count": 97,
   "metadata": {},
   "outputs": [
    {
     "data": {
      "text/plain": [
       "Norovirus genogroup I                                                                                                                   2744\n",
       "Salmonella enterica                                                                                                                     2303\n",
       "Norovirus genogroup II                                                                                                                  1424\n",
       "Norovirus unknown                                                                                                                        790\n",
       "Clostridium perfringens                                                                                                                  732\n",
       "                                                                                                                                        ... \n",
       "Bacillus other                                                                                                                             1\n",
       "Norovirus genogroup I; Salmonella enterica                                                                                                 1\n",
       "Salmonella enterica; Salmonella enterica; Salmonella enterica; Salmonella enterica; Salmonella enterica                                    1\n",
       "Shigella; Escherichia coli, Shiga toxin-producing; Escherichia coli, Shiga toxin-producing; Salmonella enterica; Salmonella enterica       1\n",
       "Shigella                                                                                                                                   1\n",
       "Name: Species, Length: 201, dtype: int64"
      ]
     },
     "execution_count": 97,
     "metadata": {},
     "output_type": "execute_result"
    }
   ],
   "source": [
    "virus_df.value_counts() "
   ]
  },
  {
   "cell_type": "code",
   "execution_count": 98,
   "metadata": {},
   "outputs": [
    {
     "data": {
      "text/plain": [
       "Norovirus genogroup I      2744\n",
       "Salmonella enterica        2303\n",
       "Norovirus genogroup II     1424\n",
       "Norovirus unknown           790\n",
       "Clostridium perfringens     732\n",
       "Staphylococcus aureus       532\n",
       "Name: Species, dtype: int64"
      ]
     },
     "execution_count": 98,
     "metadata": {},
     "output_type": "execute_result"
    }
   ],
   "source": [
    "virus_df = outbreaks_df.groupby('Species').filter(lambda x : len(x)>500)\r\n",
    "virus_df = virus_df['Species'].value_counts()\r\n",
    "virus_df"
   ]
  },
  {
   "cell_type": "code",
   "execution_count": 99,
   "metadata": {},
   "outputs": [
    {
     "data": {
      "text/plain": [
       "([0, 1, 2, 3, 4, 5], <a list of 6 Text major ticklabel objects>)"
      ]
     },
     "execution_count": 99,
     "metadata": {},
     "output_type": "execute_result"
    },
    {
     "data": {
      "image/png": "[encoded data removed]",
      "text/plain": [
       "<Figure size 432x288 with 1 Axes>"
      ]
     },
     "metadata": {
      "needs_background": "light"
     },
     "output_type": "display_data"
    }
   ],
   "source": [
    "virus_series = virus_df\r\n",
    "virus_frame = virus_series.to_frame()\r\n",
    "virus_frame = virus_frame.head(20)\r\n",
    "plt.bar(virus_frame.index, virus_frame[\"Species\"])\r\n",
    "plt.xticks(rotation='vertical')"
   ]
  },
  {
   "cell_type": "code",
   "execution_count": 100,
   "metadata": {},
   "outputs": [
    {
     "data": {
      "text/html": [
       "<div>\n",
       "<style scoped>\n",
       "    .dataframe tbody tr th:only-of-type {\n",
       "        vertical-align: middle;\n",
       "    }\n",
       "\n",
       "    .dataframe tbody tr th {\n",
       "        vertical-align: top;\n",
       "    }\n",
       "\n",
       "    .dataframe thead th {\n",
       "        text-align: right;\n",
       "    }\n",
       "</style>\n",
       "<table border=\"1\" class=\"dataframe\">\n",
       "  <thead>\n",
       "    <tr style=\"text-align: right;\">\n",
       "      <th></th>\n",
       "      <th>Year</th>\n",
       "      <th>Month</th>\n",
       "      <th>State</th>\n",
       "      <th>Location</th>\n",
       "      <th>Food</th>\n",
       "      <th>Ingredient</th>\n",
       "      <th>Species</th>\n",
       "      <th>Serotype/Genotype</th>\n",
       "      <th>Status</th>\n",
       "      <th>Illnesses</th>\n",
       "      <th>Hospitalizations</th>\n",
       "      <th>Fatalities</th>\n",
       "    </tr>\n",
       "  </thead>\n",
       "  <tbody>\n",
       "    <tr>\n",
       "      <th>0</th>\n",
       "      <td>1998</td>\n",
       "      <td>January</td>\n",
       "      <td>California</td>\n",
       "      <td>Restaurant</td>\n",
       "      <td>NaN</td>\n",
       "      <td>NaN</td>\n",
       "      <td>NaN</td>\n",
       "      <td>NaN</td>\n",
       "      <td>NaN</td>\n",
       "      <td>20</td>\n",
       "      <td>0.0</td>\n",
       "      <td>0.0</td>\n",
       "    </tr>\n",
       "    <tr>\n",
       "      <th>1</th>\n",
       "      <td>1998</td>\n",
       "      <td>January</td>\n",
       "      <td>California</td>\n",
       "      <td>NaN</td>\n",
       "      <td>Custard</td>\n",
       "      <td>NaN</td>\n",
       "      <td>NaN</td>\n",
       "      <td>NaN</td>\n",
       "      <td>NaN</td>\n",
       "      <td>112</td>\n",
       "      <td>0.0</td>\n",
       "      <td>0.0</td>\n",
       "    </tr>\n",
       "    <tr>\n",
       "      <th>2</th>\n",
       "      <td>1998</td>\n",
       "      <td>January</td>\n",
       "      <td>California</td>\n",
       "      <td>Restaurant</td>\n",
       "      <td>NaN</td>\n",
       "      <td>NaN</td>\n",
       "      <td>NaN</td>\n",
       "      <td>NaN</td>\n",
       "      <td>NaN</td>\n",
       "      <td>35</td>\n",
       "      <td>0.0</td>\n",
       "      <td>0.0</td>\n",
       "    </tr>\n",
       "    <tr>\n",
       "      <th>3</th>\n",
       "      <td>1998</td>\n",
       "      <td>January</td>\n",
       "      <td>California</td>\n",
       "      <td>Restaurant</td>\n",
       "      <td>Fish, Ahi</td>\n",
       "      <td>NaN</td>\n",
       "      <td>Scombroid toxin</td>\n",
       "      <td>NaN</td>\n",
       "      <td>Confirmed</td>\n",
       "      <td>4</td>\n",
       "      <td>0.0</td>\n",
       "      <td>0.0</td>\n",
       "    </tr>\n",
       "    <tr>\n",
       "      <th>4</th>\n",
       "      <td>1998</td>\n",
       "      <td>January</td>\n",
       "      <td>California</td>\n",
       "      <td>Private Home/Residence</td>\n",
       "      <td>Lasagna, Unspecified; Eggs, Other</td>\n",
       "      <td>NaN</td>\n",
       "      <td>Salmonella enterica</td>\n",
       "      <td>Enteritidis</td>\n",
       "      <td>Confirmed</td>\n",
       "      <td>26</td>\n",
       "      <td>3.0</td>\n",
       "      <td>0.0</td>\n",
       "    </tr>\n",
       "    <tr>\n",
       "      <th>...</th>\n",
       "      <td>...</td>\n",
       "      <td>...</td>\n",
       "      <td>...</td>\n",
       "      <td>...</td>\n",
       "      <td>...</td>\n",
       "      <td>...</td>\n",
       "      <td>...</td>\n",
       "      <td>...</td>\n",
       "      <td>...</td>\n",
       "      <td>...</td>\n",
       "      <td>...</td>\n",
       "      <td>...</td>\n",
       "    </tr>\n",
       "    <tr>\n",
       "      <th>19114</th>\n",
       "      <td>2015</td>\n",
       "      <td>December</td>\n",
       "      <td>Wisconsin</td>\n",
       "      <td>Restaurant</td>\n",
       "      <td>NaN</td>\n",
       "      <td>NaN</td>\n",
       "      <td>Norovirus genogroup II</td>\n",
       "      <td>GII_14</td>\n",
       "      <td>Confirmed</td>\n",
       "      <td>4</td>\n",
       "      <td>0.0</td>\n",
       "      <td>0.0</td>\n",
       "    </tr>\n",
       "    <tr>\n",
       "      <th>19115</th>\n",
       "      <td>2015</td>\n",
       "      <td>December</td>\n",
       "      <td>Wisconsin</td>\n",
       "      <td>Private Home/Residence</td>\n",
       "      <td>Salsa</td>\n",
       "      <td>NaN</td>\n",
       "      <td>Norovirus genogroup II</td>\n",
       "      <td>GII_2</td>\n",
       "      <td>Confirmed</td>\n",
       "      <td>16</td>\n",
       "      <td>0.0</td>\n",
       "      <td>0.0</td>\n",
       "    </tr>\n",
       "    <tr>\n",
       "      <th>19116</th>\n",
       "      <td>2015</td>\n",
       "      <td>December</td>\n",
       "      <td>Wisconsin</td>\n",
       "      <td>Nursing Home/Assisted Living Facility</td>\n",
       "      <td>NaN</td>\n",
       "      <td>NaN</td>\n",
       "      <td>Norovirus genogroup II</td>\n",
       "      <td>GII_17 Kawasaki (2014)</td>\n",
       "      <td>Confirmed</td>\n",
       "      <td>43</td>\n",
       "      <td>3.0</td>\n",
       "      <td>0.0</td>\n",
       "    </tr>\n",
       "    <tr>\n",
       "      <th>19117</th>\n",
       "      <td>2015</td>\n",
       "      <td>December</td>\n",
       "      <td>Wisconsin</td>\n",
       "      <td>Fast Food Restaurant</td>\n",
       "      <td>NaN</td>\n",
       "      <td>NaN</td>\n",
       "      <td>Norovirus genogroup II</td>\n",
       "      <td>GII_2</td>\n",
       "      <td>Confirmed</td>\n",
       "      <td>5</td>\n",
       "      <td>0.0</td>\n",
       "      <td>0.0</td>\n",
       "    </tr>\n",
       "    <tr>\n",
       "      <th>19118</th>\n",
       "      <td>2015</td>\n",
       "      <td>December</td>\n",
       "      <td>Wyoming</td>\n",
       "      <td>NaN</td>\n",
       "      <td>NaN</td>\n",
       "      <td>NaN</td>\n",
       "      <td>NaN</td>\n",
       "      <td>NaN</td>\n",
       "      <td>NaN</td>\n",
       "      <td>3</td>\n",
       "      <td>0.0</td>\n",
       "      <td>0.0</td>\n",
       "    </tr>\n",
       "  </tbody>\n",
       "</table>\n",
       "<p>19119 rows × 12 columns</p>\n",
       "</div>"
      ],
      "text/plain": [
       "       Year     Month       State                               Location  \\\n",
       "0      1998   January  California                             Restaurant   \n",
       "1      1998   January  California                                    NaN   \n",
       "2      1998   January  California                             Restaurant   \n",
       "3      1998   January  California                             Restaurant   \n",
       "4      1998   January  California                 Private Home/Residence   \n",
       "...     ...       ...         ...                                    ...   \n",
       "19114  2015  December   Wisconsin                             Restaurant   \n",
       "19115  2015  December   Wisconsin                 Private Home/Residence   \n",
       "19116  2015  December   Wisconsin  Nursing Home/Assisted Living Facility   \n",
       "19117  2015  December   Wisconsin                   Fast Food Restaurant   \n",
       "19118  2015  December     Wyoming                                    NaN   \n",
       "\n",
       "                                    Food Ingredient                 Species  \\\n",
       "0                                    NaN        NaN                     NaN   \n",
       "1                                Custard        NaN                     NaN   \n",
       "2                                    NaN        NaN                     NaN   \n",
       "3                              Fish, Ahi        NaN         Scombroid toxin   \n",
       "4      Lasagna, Unspecified; Eggs, Other        NaN     Salmonella enterica   \n",
       "...                                  ...        ...                     ...   \n",
       "19114                                NaN        NaN  Norovirus genogroup II   \n",
       "19115                              Salsa        NaN  Norovirus genogroup II   \n",
       "19116                                NaN        NaN  Norovirus genogroup II   \n",
       "19117                                NaN        NaN  Norovirus genogroup II   \n",
       "19118                                NaN        NaN                     NaN   \n",
       "\n",
       "            Serotype/Genotype     Status  Illnesses  Hospitalizations  \\\n",
       "0                         NaN        NaN         20               0.0   \n",
       "1                         NaN        NaN        112               0.0   \n",
       "2                         NaN        NaN         35               0.0   \n",
       "3                         NaN  Confirmed          4               0.0   \n",
       "4                 Enteritidis  Confirmed         26               3.0   \n",
       "...                       ...        ...        ...               ...   \n",
       "19114                  GII_14  Confirmed          4               0.0   \n",
       "19115                   GII_2  Confirmed         16               0.0   \n",
       "19116  GII_17 Kawasaki (2014)  Confirmed         43               3.0   \n",
       "19117                   GII_2  Confirmed          5               0.0   \n",
       "19118                     NaN        NaN          3               0.0   \n",
       "\n",
       "       Fatalities  \n",
       "0             0.0  \n",
       "1             0.0  \n",
       "2             0.0  \n",
       "3             0.0  \n",
       "4             0.0  \n",
       "...           ...  \n",
       "19114         0.0  \n",
       "19115         0.0  \n",
       "19116         0.0  \n",
       "19117         0.0  \n",
       "19118         0.0  \n",
       "\n",
       "[19119 rows x 12 columns]"
      ]
     },
     "execution_count": 100,
     "metadata": {},
     "output_type": "execute_result"
    }
   ],
   "source": [
    "food_df = outbreaks_df\r\n",
    "food_df"
   ]
  },
  {
   "cell_type": "code",
   "execution_count": 101,
   "metadata": {},
   "outputs": [
    {
     "data": {
      "text/plain": [
       "10156"
      ]
     },
     "execution_count": 101,
     "metadata": {},
     "output_type": "execute_result"
    }
   ],
   "source": [
    "food_df['Food'].count()"
   ]
  },
  {
   "cell_type": "code",
   "execution_count": 102,
   "metadata": {},
   "outputs": [
    {
     "data": {
      "text/html": [
       "<div>\n",
       "<style scoped>\n",
       "    .dataframe tbody tr th:only-of-type {\n",
       "        vertical-align: middle;\n",
       "    }\n",
       "\n",
       "    .dataframe tbody tr th {\n",
       "        vertical-align: top;\n",
       "    }\n",
       "\n",
       "    .dataframe thead th {\n",
       "        text-align: right;\n",
       "    }\n",
       "</style>\n",
       "<table border=\"1\" class=\"dataframe\">\n",
       "  <thead>\n",
       "    <tr style=\"text-align: right;\">\n",
       "      <th></th>\n",
       "      <th>Food</th>\n",
       "      <th>Species</th>\n",
       "    </tr>\n",
       "  </thead>\n",
       "  <tbody>\n",
       "    <tr>\n",
       "      <th>3</th>\n",
       "      <td>Fish, Ahi</td>\n",
       "      <td>Scombroid toxin</td>\n",
       "    </tr>\n",
       "    <tr>\n",
       "      <th>4</th>\n",
       "      <td>Lasagna, Unspecified; Eggs, Other</td>\n",
       "      <td>Salmonella enterica</td>\n",
       "    </tr>\n",
       "    <tr>\n",
       "      <th>7</th>\n",
       "      <td>Stuffing, Unspecified; Sandwich, Turkey</td>\n",
       "      <td>Salmonella enterica</td>\n",
       "    </tr>\n",
       "    <tr>\n",
       "      <th>8</th>\n",
       "      <td>Salad, Unspecified</td>\n",
       "      <td>Virus</td>\n",
       "    </tr>\n",
       "    <tr>\n",
       "      <th>9</th>\n",
       "      <td>Peppers, Chili</td>\n",
       "      <td>Virus</td>\n",
       "    </tr>\n",
       "    <tr>\n",
       "      <th>...</th>\n",
       "      <td>...</td>\n",
       "      <td>...</td>\n",
       "    </tr>\n",
       "    <tr>\n",
       "      <th>19105</th>\n",
       "      <td>Meal Replacement Powder</td>\n",
       "      <td>Salmonella enterica</td>\n",
       "    </tr>\n",
       "    <tr>\n",
       "      <th>19108</th>\n",
       "      <td>Foie Gras</td>\n",
       "      <td>Campylobacter unknown</td>\n",
       "    </tr>\n",
       "    <tr>\n",
       "      <th>19111</th>\n",
       "      <td>Cookies, Chocolate Chip</td>\n",
       "      <td>Norovirus genogroup II</td>\n",
       "    </tr>\n",
       "    <tr>\n",
       "      <th>19113</th>\n",
       "      <td>Gravy, Pork</td>\n",
       "      <td>Clostridium perfringens</td>\n",
       "    </tr>\n",
       "    <tr>\n",
       "      <th>19115</th>\n",
       "      <td>Salsa</td>\n",
       "      <td>Norovirus genogroup II</td>\n",
       "    </tr>\n",
       "  </tbody>\n",
       "</table>\n",
       "<p>7245 rows × 2 columns</p>\n",
       "</div>"
      ],
      "text/plain": [
       "                                          Food                  Species\n",
       "3                                    Fish, Ahi          Scombroid toxin\n",
       "4            Lasagna, Unspecified; Eggs, Other      Salmonella enterica\n",
       "7      Stuffing, Unspecified; Sandwich, Turkey      Salmonella enterica\n",
       "8                           Salad, Unspecified                    Virus\n",
       "9                               Peppers, Chili                    Virus\n",
       "...                                        ...                      ...\n",
       "19105                  Meal Replacement Powder      Salmonella enterica\n",
       "19108                                Foie Gras    Campylobacter unknown\n",
       "19111                  Cookies, Chocolate Chip   Norovirus genogroup II\n",
       "19113                              Gravy, Pork  Clostridium perfringens\n",
       "19115                                    Salsa   Norovirus genogroup II\n",
       "\n",
       "[7245 rows x 2 columns]"
      ]
     },
     "execution_count": 102,
     "metadata": {},
     "output_type": "execute_result"
    }
   ],
   "source": [
    "food_df = food_df[['Food','Species']].dropna()\r\n",
    "food_df"
   ]
  },
  {
   "cell_type": "code",
   "execution_count": 103,
   "metadata": {},
   "outputs": [
    {
     "data": {
      "text/plain": [
       "Multiple Foods            206\n",
       "Oysters, Raw              165\n",
       "Ground Beef, Hamburger    127\n",
       "Salad, Unspecified        118\n",
       "Chicken, Unspecified      105\n",
       "Name: Food, dtype: int64"
      ]
     },
     "execution_count": 103,
     "metadata": {},
     "output_type": "execute_result"
    }
   ],
   "source": [
    "food_df = outbreaks_df.groupby('Food').filter(lambda x : len(x)>100)\r\n",
    "# food_df = outbreaks_df.groupby('Species').filter(lambda x : len(x) > 500)\r\n",
    "food_df['Food'].value_counts()\r\n",
    "# ['Multiple Foods', 'Oysters, Raw','Ground Beef, Hamburger','Salad, Unspecified','Chicken, Unspecified']"
   ]
  },
  {
   "cell_type": "code",
   "execution_count": 104,
   "metadata": {},
   "outputs": [
    {
     "data": {
      "text/plain": [
       "Norovirus genogroup I                                                               136\n",
       "Salmonella enterica                                                                  58\n",
       "Vibrio parahaemolyticus                                                              54\n",
       "Escherichia coli, Shiga toxin-producing                                              45\n",
       "Norovirus genogroup II                                                               36\n",
       "Norovirus unknown                                                                    27\n",
       "Staphylococcus aureus                                                                18\n",
       "Bacillus cereus; Clostridium perfringens                                             12\n",
       "Norovirus                                                                            11\n",
       "Virus                                                                                11\n",
       "Clostridium perfringens                                                              10\n",
       "Hepatitis A                                                                           6\n",
       "Bacterium                                                                             6\n",
       "Chemical or toxin                                                                     6\n",
       "Bacillus cereus                                                                       5\n",
       "Vibrio unknown                                                                        4\n",
       "Shigella sonnei                                                                       4\n",
       "Vibrio cholerae                                                                       4\n",
       "Campylobacter jejuni                                                                  4\n",
       "Campylobacter unknown                                                                 3\n",
       "Escherichia coli, Enteropathogenic                                                    2\n",
       "Giardia intestinalis                                                                  2\n",
       "Norovirus genogroup I; Norovirus genogroup II                                         2\n",
       "Shigella unknown                                                                      2\n",
       "Staphylococcus aureus; Bacillus cereus                                                1\n",
       "Norovirus unknown; Salmonella enterica                                                1\n",
       "Shigella boydii                                                                       1\n",
       "Vibrio vulnificus                                                                     1\n",
       "Escherichia coli, Shiga toxin-producing; Escherichia coli, Shiga toxin-producing      1\n",
       "Cleaning agents                                                                       1\n",
       "Clostridium perfringens; Bacillus cereus                                              1\n",
       "Norovirus genogroup I; Staphylococcus aureus                                          1\n",
       "Salmonella unknown                                                                    1\n",
       "Rotavirus                                                                             1\n",
       "Clostridium perfringens; Norovirus genogroup I                                        1\n",
       "Campylobacter other; Vibrio other; Vibrio cholerae                                    1\n",
       "Norovirus genogroup II; Norovirus genogroup II                                        1\n",
       "Rotavirus; Norovirus genogroup I; Clostridium perfringens                             1\n",
       "Vibrio parahaemolyticus; Vibrio other                                                 1\n",
       "Name: Species, dtype: int64"
      ]
     },
     "execution_count": 104,
     "metadata": {},
     "output_type": "execute_result"
    }
   ],
   "source": [
    "food_df['Species'].value_counts() "
   ]
  },
  {
   "cell_type": "code",
   "execution_count": 105,
   "metadata": {},
   "outputs": [
    {
     "data": {
      "text/plain": [
       "([0, 1, 2, 3, 4, 5, 6, 7, 8, 9, 10, 11, 12, 13, 14, 15, 16, 17, 18, 19],\n",
       " <a list of 20 Text major ticklabel objects>)"
      ]
     },
     "execution_count": 105,
     "metadata": {},
     "output_type": "execute_result"
    },
    {
     "data": {
      "image/png": "[encoded data removed]",
      "text/plain": [
       "<Figure size 432x288 with 1 Axes>"
      ]
     },
     "metadata": {
      "needs_background": "light"
     },
     "output_type": "display_data"
    }
   ],
   "source": [
    "food_series = outbreaks_df['Food'].value_counts()\r\n",
    "food_frame = food_series.to_frame()\r\n",
    "food_frame = food_frame.head(20)\r\n",
    "plt.bar(food_frame.index, food_frame[\"Food\"])\r\n",
    "plt.xticks(rotation='vertical')"
   ]
  },
  {
   "cell_type": "code",
   "execution_count": 106,
   "metadata": {},
   "outputs": [
    {
     "data": {
      "image/png": "[encoded data removed]",
      "text/plain": [
       "<Figure size 720x720 with 1 Axes>"
      ]
     },
     "metadata": {
      "needs_background": "light"
     },
     "output_type": "display_data"
    }
   ],
   "source": [
    "food_df = food_df.astype(str)\r\n",
    "food_df.plot(kind=\"scatter\", x='Food', y='Species', grid=True,figsize=(10,10), title=\"Food and Virus\")\r\n",
    "plt.show()"
   ]
  },
  {
   "cell_type": "code",
   "execution_count": 211,
   "metadata": {},
   "outputs": [],
   "source": [
    "foodvirus = outbreaks_df"
   ]
  },
  {
   "cell_type": "code",
   "execution_count": 217,
   "metadata": {},
   "outputs": [
    {
     "data": {
      "text/plain": [
       "<pandas.core.groupby.generic.SeriesGroupBy object at 0x000002671887FF28>"
      ]
     },
     "execution_count": 217,
     "metadata": {},
     "output_type": "execute_result"
    }
   ],
   "source": [
    "foodill = foodvirus.groupby('Species')['Illnesses']\r\n",
    "# foodill = foodill['Species'].dropna()\r\n",
    "#foodill = foodill.groupby('Species').filter(lambda x : len(x)>100)\r\n",
    "foodill"
   ]
  },
  {
   "cell_type": "code",
   "execution_count": 219,
   "metadata": {},
   "outputs": [
    {
     "data": {
      "text/html": [
       "<div>\n",
       "<style scoped>\n",
       "    .dataframe tbody tr th:only-of-type {\n",
       "        vertical-align: middle;\n",
       "    }\n",
       "\n",
       "    .dataframe tbody tr th {\n",
       "        vertical-align: top;\n",
       "    }\n",
       "\n",
       "    .dataframe thead th {\n",
       "        text-align: right;\n",
       "    }\n",
       "</style>\n",
       "<table border=\"1\" class=\"dataframe\">\n",
       "  <thead>\n",
       "    <tr style=\"text-align: right;\">\n",
       "      <th></th>\n",
       "      <th>Food</th>\n",
       "      <th>Year</th>\n",
       "      <th>Month</th>\n",
       "      <th>State</th>\n",
       "      <th>Location</th>\n",
       "      <th>Ingredient</th>\n",
       "      <th>Species</th>\n",
       "      <th>Serotype/Genotype</th>\n",
       "      <th>Status</th>\n",
       "      <th>Illnesses</th>\n",
       "      <th>Hospitalizations</th>\n",
       "      <th>Fatalities</th>\n",
       "    </tr>\n",
       "  </thead>\n",
       "  <tbody>\n",
       "    <tr>\n",
       "      <th>0</th>\n",
       "      <td>Acai, Bananas, Strawberries, Sugar Cane Juice</td>\n",
       "      <td>1</td>\n",
       "      <td>1</td>\n",
       "      <td>1</td>\n",
       "      <td>1</td>\n",
       "      <td>0</td>\n",
       "      <td>1</td>\n",
       "      <td>0</td>\n",
       "      <td>1</td>\n",
       "      <td>1</td>\n",
       "      <td>1</td>\n",
       "      <td>1</td>\n",
       "    </tr>\n",
       "    <tr>\n",
       "      <th>1</th>\n",
       "      <td>Ackawi Cheese, Pasteurized; Chives Cheese, Pas...</td>\n",
       "      <td>1</td>\n",
       "      <td>1</td>\n",
       "      <td>1</td>\n",
       "      <td>1</td>\n",
       "      <td>0</td>\n",
       "      <td>1</td>\n",
       "      <td>0</td>\n",
       "      <td>1</td>\n",
       "      <td>1</td>\n",
       "      <td>1</td>\n",
       "      <td>1</td>\n",
       "    </tr>\n",
       "    <tr>\n",
       "      <th>2</th>\n",
       "      <td>Alcohol</td>\n",
       "      <td>6</td>\n",
       "      <td>6</td>\n",
       "      <td>6</td>\n",
       "      <td>5</td>\n",
       "      <td>0</td>\n",
       "      <td>6</td>\n",
       "      <td>1</td>\n",
       "      <td>6</td>\n",
       "      <td>6</td>\n",
       "      <td>6</td>\n",
       "      <td>5</td>\n",
       "    </tr>\n",
       "    <tr>\n",
       "      <th>3</th>\n",
       "      <td>Alcohol; Water</td>\n",
       "      <td>1</td>\n",
       "      <td>1</td>\n",
       "      <td>1</td>\n",
       "      <td>0</td>\n",
       "      <td>1</td>\n",
       "      <td>1</td>\n",
       "      <td>1</td>\n",
       "      <td>1</td>\n",
       "      <td>1</td>\n",
       "      <td>1</td>\n",
       "      <td>1</td>\n",
       "    </tr>\n",
       "    <tr>\n",
       "      <th>4</th>\n",
       "      <td>Alfalfa Sprouts</td>\n",
       "      <td>24</td>\n",
       "      <td>24</td>\n",
       "      <td>24</td>\n",
       "      <td>15</td>\n",
       "      <td>6</td>\n",
       "      <td>23</td>\n",
       "      <td>22</td>\n",
       "      <td>23</td>\n",
       "      <td>24</td>\n",
       "      <td>17</td>\n",
       "      <td>15</td>\n",
       "    </tr>\n",
       "    <tr>\n",
       "      <th>...</th>\n",
       "      <td>...</td>\n",
       "      <td>...</td>\n",
       "      <td>...</td>\n",
       "      <td>...</td>\n",
       "      <td>...</td>\n",
       "      <td>...</td>\n",
       "      <td>...</td>\n",
       "      <td>...</td>\n",
       "      <td>...</td>\n",
       "      <td>...</td>\n",
       "      <td>...</td>\n",
       "      <td>...</td>\n",
       "    </tr>\n",
       "    <tr>\n",
       "      <th>3122</th>\n",
       "      <td>Yogurt, Unspecified</td>\n",
       "      <td>1</td>\n",
       "      <td>1</td>\n",
       "      <td>1</td>\n",
       "      <td>0</td>\n",
       "      <td>1</td>\n",
       "      <td>1</td>\n",
       "      <td>0</td>\n",
       "      <td>1</td>\n",
       "      <td>1</td>\n",
       "      <td>1</td>\n",
       "      <td>1</td>\n",
       "    </tr>\n",
       "    <tr>\n",
       "      <th>3123</th>\n",
       "      <td>Ziti &amp; Meatballs; Water; Paella</td>\n",
       "      <td>1</td>\n",
       "      <td>1</td>\n",
       "      <td>1</td>\n",
       "      <td>1</td>\n",
       "      <td>0</td>\n",
       "      <td>1</td>\n",
       "      <td>0</td>\n",
       "      <td>1</td>\n",
       "      <td>1</td>\n",
       "      <td>1</td>\n",
       "      <td>1</td>\n",
       "    </tr>\n",
       "    <tr>\n",
       "      <th>3124</th>\n",
       "      <td>Zucchini</td>\n",
       "      <td>2</td>\n",
       "      <td>2</td>\n",
       "      <td>2</td>\n",
       "      <td>2</td>\n",
       "      <td>1</td>\n",
       "      <td>1</td>\n",
       "      <td>0</td>\n",
       "      <td>1</td>\n",
       "      <td>2</td>\n",
       "      <td>2</td>\n",
       "      <td>2</td>\n",
       "    </tr>\n",
       "    <tr>\n",
       "      <th>3125</th>\n",
       "      <td>Zucchini, Marinated; Zucchini, Fried; Bruschet...</td>\n",
       "      <td>1</td>\n",
       "      <td>1</td>\n",
       "      <td>1</td>\n",
       "      <td>1</td>\n",
       "      <td>0</td>\n",
       "      <td>0</td>\n",
       "      <td>0</td>\n",
       "      <td>0</td>\n",
       "      <td>1</td>\n",
       "      <td>1</td>\n",
       "      <td>1</td>\n",
       "    </tr>\n",
       "    <tr>\n",
       "      <th>3126</th>\n",
       "      <td>Zucchini, Unspecified; Cake, Custard-Filled; V...</td>\n",
       "      <td>1</td>\n",
       "      <td>1</td>\n",
       "      <td>1</td>\n",
       "      <td>1</td>\n",
       "      <td>0</td>\n",
       "      <td>0</td>\n",
       "      <td>0</td>\n",
       "      <td>0</td>\n",
       "      <td>1</td>\n",
       "      <td>1</td>\n",
       "      <td>1</td>\n",
       "    </tr>\n",
       "  </tbody>\n",
       "</table>\n",
       "<p>3127 rows × 12 columns</p>\n",
       "</div>"
      ],
      "text/plain": [
       "                                                   Food  Year  Month  State  \\\n",
       "0         Acai, Bananas, Strawberries, Sugar Cane Juice     1      1      1   \n",
       "1     Ackawi Cheese, Pasteurized; Chives Cheese, Pas...     1      1      1   \n",
       "2                                               Alcohol     6      6      6   \n",
       "3                                        Alcohol; Water     1      1      1   \n",
       "4                                       Alfalfa Sprouts    24     24     24   \n",
       "...                                                 ...   ...    ...    ...   \n",
       "3122                                Yogurt, Unspecified     1      1      1   \n",
       "3123                    Ziti & Meatballs; Water; Paella     1      1      1   \n",
       "3124                                           Zucchini     2      2      2   \n",
       "3125  Zucchini, Marinated; Zucchini, Fried; Bruschet...     1      1      1   \n",
       "3126  Zucchini, Unspecified; Cake, Custard-Filled; V...     1      1      1   \n",
       "\n",
       "      Location  Ingredient  Species  Serotype/Genotype  Status  Illnesses  \\\n",
       "0            1           0        1                  0       1          1   \n",
       "1            1           0        1                  0       1          1   \n",
       "2            5           0        6                  1       6          6   \n",
       "3            0           1        1                  1       1          1   \n",
       "4           15           6       23                 22      23         24   \n",
       "...        ...         ...      ...                ...     ...        ...   \n",
       "3122         0           1        1                  0       1          1   \n",
       "3123         1           0        1                  0       1          1   \n",
       "3124         2           1        1                  0       1          2   \n",
       "3125         1           0        0                  0       0          1   \n",
       "3126         1           0        0                  0       0          1   \n",
       "\n",
       "      Hospitalizations  Fatalities  \n",
       "0                    1           1  \n",
       "1                    1           1  \n",
       "2                    6           5  \n",
       "3                    1           1  \n",
       "4                   17          15  \n",
       "...                ...         ...  \n",
       "3122                 1           1  \n",
       "3123                 1           1  \n",
       "3124                 2           2  \n",
       "3125                 1           1  \n",
       "3126                 1           1  \n",
       "\n",
       "[3127 rows x 12 columns]"
      ]
     },
     "execution_count": 219,
     "metadata": {},
     "output_type": "execute_result"
    }
   ],
   "source": [
    "foodill_data"
   ]
  },
  {
   "cell_type": "code",
   "execution_count": 233,
   "metadata": {},
   "outputs": [
    {
     "data": {
      "text/plain": [
       "Index(['Norovirus genogroup I', 'Salmonella enterica',\n",
       "       'Norovirus genogroup II', 'Clostridium perfringens',\n",
       "       'Norovirus unknown', 'Escherichia coli, Shiga toxin-producing',\n",
       "       'Staphylococcus aureus', 'Campylobacter jejuni', 'Shigella sonnei',\n",
       "       'Norovirus'],\n",
       "      dtype='object', name='Species')"
      ]
     },
     "execution_count": 233,
     "metadata": {},
     "output_type": "execute_result"
    }
   ],
   "source": [
    "foodill_data.index"
   ]
  },
  {
   "cell_type": "code",
   "execution_count": 237,
   "metadata": {},
   "outputs": [],
   "source": [
    "foodill = outbreaks_df.groupby([\"Food\"]).sum()[\"Illnesses\"].sort_values(ascending=False).to_frame().head(10)"
   ]
  },
  {
   "cell_type": "code",
   "execution_count": 238,
   "metadata": {},
   "outputs": [
    {
     "data": {
      "image/png": "[encoded data removed]",
      "text/plain": [
       "<Figure size 792x360 with 1 Axes>"
      ]
     },
     "metadata": {
      "needs_background": "light"
     },
     "output_type": "display_data"
    },
    {
     "data": {
      "text/plain": [
       "<Figure size 432x288 with 0 Axes>"
      ]
     },
     "metadata": {},
     "output_type": "display_data"
    }
   ],
   "source": [
    "foodill.plot(kind=\"bar\", figsize=(11,5))\r\n",
    "\r\n",
    "plt.title(\"Food Illness\")\r\n",
    "plt.show()\r\n",
    "plt.tight_layout()"
   ]
  }
 ],
 "metadata": {
  "interpreter": {
   "hash": "61ee4eedbb40f6b204db7353fb8ee3c1ac35e9b22dd076c003bd79c74bdea4cf"
  },
  "kernelspec": {
   "display_name": "Python 3.6.10 64-bit ('PythonData': conda)",
   "name": "python3"
  },
  "language_info": {
   "codemirror_mode": {
    "name": "ipython",
    "version": 3
   },
   "file_extension": ".py",
   "mimetype": "text/x-python",
   "name": "python",
   "nbconvert_exporter": "python",
   "pygments_lexer": "ipython3",
   "version": "3.6.10"
  }
 },
 "nbformat": 4,
 "nbformat_minor": 4
}