{
 "cells": [
  {
   "cell_type": "code",
   "execution_count": 1,
   "metadata": {},
   "outputs": [],
   "source": [
    "import matplotlib.pyplot as plt\n",
    "import pandas as pd\n",
    "import numpy as np"
   ]
  },
  {
   "cell_type": "code",
   "execution_count": 2,
   "metadata": {},
   "outputs": [
    {
     "data": {
      "text/html": [
       "<div>\n",
       "<style scoped>\n",
       "    .dataframe tbody tr th:only-of-type {\n",
       "        vertical-align: middle;\n",
       "    }\n",
       "\n",
       "    .dataframe tbody tr th {\n",
       "        vertical-align: top;\n",
       "    }\n",
       "\n",
       "    .dataframe thead th {\n",
       "        text-align: right;\n",
       "    }\n",
       "</style>\n",
       "<table border=\"1\" class=\"dataframe\">\n",
       "  <thead>\n",
       "    <tr style=\"text-align: right;\">\n",
       "      <th></th>\n",
       "      <th>Year</th>\n",
       "      <th>Month</th>\n",
       "      <th>State</th>\n",
       "      <th>Location</th>\n",
       "      <th>Food</th>\n",
       "      <th>Ingredient</th>\n",
       "      <th>Species</th>\n",
       "      <th>Serotype/Genotype</th>\n",
       "      <th>Status</th>\n",
       "      <th>Illnesses</th>\n",
       "      <th>Hospitalizations</th>\n",
       "      <th>Fatalities</th>\n",
       "    </tr>\n",
       "  </thead>\n",
       "  <tbody>\n",
       "    <tr>\n",
       "      <th>0</th>\n",
       "      <td>1998</td>\n",
       "      <td>January</td>\n",
       "      <td>California</td>\n",
       "      <td>Restaurant</td>\n",
       "      <td>NaN</td>\n",
       "      <td>NaN</td>\n",
       "      <td>NaN</td>\n",
       "      <td>NaN</td>\n",
       "      <td>NaN</td>\n",
       "      <td>20</td>\n",
       "      <td>0.0</td>\n",
       "      <td>0.0</td>\n",
       "    </tr>\n",
       "    <tr>\n",
       "      <th>1</th>\n",
       "      <td>1998</td>\n",
       "      <td>January</td>\n",
       "      <td>California</td>\n",
       "      <td>NaN</td>\n",
       "      <td>Custard</td>\n",
       "      <td>NaN</td>\n",
       "      <td>NaN</td>\n",
       "      <td>NaN</td>\n",
       "      <td>NaN</td>\n",
       "      <td>112</td>\n",
       "      <td>0.0</td>\n",
       "      <td>0.0</td>\n",
       "    </tr>\n",
       "    <tr>\n",
       "      <th>2</th>\n",
       "      <td>1998</td>\n",
       "      <td>January</td>\n",
       "      <td>California</td>\n",
       "      <td>Restaurant</td>\n",
       "      <td>NaN</td>\n",
       "      <td>NaN</td>\n",
       "      <td>NaN</td>\n",
       "      <td>NaN</td>\n",
       "      <td>NaN</td>\n",
       "      <td>35</td>\n",
       "      <td>0.0</td>\n",
       "      <td>0.0</td>\n",
       "    </tr>\n",
       "    <tr>\n",
       "      <th>3</th>\n",
       "      <td>1998</td>\n",
       "      <td>January</td>\n",
       "      <td>California</td>\n",
       "      <td>Restaurant</td>\n",
       "      <td>Fish, Ahi</td>\n",
       "      <td>NaN</td>\n",
       "      <td>Scombroid toxin</td>\n",
       "      <td>NaN</td>\n",
       "      <td>Confirmed</td>\n",
       "      <td>4</td>\n",
       "      <td>0.0</td>\n",
       "      <td>0.0</td>\n",
       "    </tr>\n",
       "    <tr>\n",
       "      <th>4</th>\n",
       "      <td>1998</td>\n",
       "      <td>January</td>\n",
       "      <td>California</td>\n",
       "      <td>Private Home/Residence</td>\n",
       "      <td>Lasagna, Unspecified; Eggs, Other</td>\n",
       "      <td>NaN</td>\n",
       "      <td>Salmonella enterica</td>\n",
       "      <td>Enteritidis</td>\n",
       "      <td>Confirmed</td>\n",
       "      <td>26</td>\n",
       "      <td>3.0</td>\n",
       "      <td>0.0</td>\n",
       "    </tr>\n",
       "  </tbody>\n",
       "</table>\n",
       "</div>"
      ],
      "text/plain": [
       "   Year    Month       State                Location  \\\n",
       "0  1998  January  California              Restaurant   \n",
       "1  1998  January  California                     NaN   \n",
       "2  1998  January  California              Restaurant   \n",
       "3  1998  January  California              Restaurant   \n",
       "4  1998  January  California  Private Home/Residence   \n",
       "\n",
       "                                Food Ingredient              Species  \\\n",
       "0                                NaN        NaN                  NaN   \n",
       "1                            Custard        NaN                  NaN   \n",
       "2                                NaN        NaN                  NaN   \n",
       "3                          Fish, Ahi        NaN      Scombroid toxin   \n",
       "4  Lasagna, Unspecified; Eggs, Other        NaN  Salmonella enterica   \n",
       "\n",
       "  Serotype/Genotype     Status  Illnesses  Hospitalizations  Fatalities  \n",
       "0               NaN        NaN         20               0.0         0.0  \n",
       "1               NaN        NaN        112               0.0         0.0  \n",
       "2               NaN        NaN         35               0.0         0.0  \n",
       "3               NaN  Confirmed          4               0.0         0.0  \n",
       "4       Enteritidis  Confirmed         26               3.0         0.0  "
      ]
     },
     "execution_count": 2,
     "metadata": {},
     "output_type": "execute_result"
    }
   ],
   "source": [
    "csv_file_path = 'outbreaks.csv'\n",
    "outbreaks_df = pd.read_csv(csv_file_path)\n",
    "outbreaks_df.head()"
   ]
  },
  {
   "cell_type": "code",
   "execution_count": 3,
   "metadata": {},
   "outputs": [],
   "source": [
    "virus_df = outbreaks_df"
   ]
  },
  {
   "cell_type": "code",
   "execution_count": 4,
   "metadata": {},
   "outputs": [
    {
     "data": {
      "text/plain": [
       "3                Scombroid toxin\n",
       "4            Salmonella enterica\n",
       "5                Shigella boydii\n",
       "7            Salmonella enterica\n",
       "8                          Virus\n",
       "                  ...           \n",
       "19113    Clostridium perfringens\n",
       "19114     Norovirus genogroup II\n",
       "19115     Norovirus genogroup II\n",
       "19116     Norovirus genogroup II\n",
       "19117     Norovirus genogroup II\n",
       "Name: Species, Length: 12500, dtype: object"
      ]
     },
     "execution_count": 4,
     "metadata": {},
     "output_type": "execute_result"
    }
   ],
   "source": [
    "virus_df = virus_df['Species'].dropna()\r\n",
    "virus_df"
   ]
  },
  {
   "cell_type": "code",
   "execution_count": 5,
   "metadata": {},
   "outputs": [
    {
     "data": {
      "text/plain": [
       "Year                 19119\n",
       "Month                19119\n",
       "State                19119\n",
       "Location             16953\n",
       "Food                 10156\n",
       "Ingredient            1876\n",
       "Species              12500\n",
       "Serotype/Genotype     3907\n",
       "Status               12500\n",
       "Illnesses            19119\n",
       "Hospitalizations     15494\n",
       "Fatalities           15518\n",
       "dtype: int64"
      ]
     },
     "execution_count": 5,
     "metadata": {},
     "output_type": "execute_result"
    }
   ],
   "source": [
    "outbreaks_df.count()"
   ]
  },
  {
   "cell_type": "code",
   "execution_count": 6,
   "metadata": {},
   "outputs": [
    {
     "data": {
      "text/plain": [
       "3        Scombroid toxin\n",
       "4    Salmonella enterica\n",
       "5        Shigella boydii\n",
       "7    Salmonella enterica\n",
       "8                  Virus\n",
       "Name: Species, dtype: object"
      ]
     },
     "execution_count": 6,
     "metadata": {},
     "output_type": "execute_result"
    }
   ],
   "source": [
    "virus_df.head()"
   ]
  },
  {
   "cell_type": "code",
   "execution_count": 7,
   "metadata": {},
   "outputs": [
    {
     "data": {
      "text/plain": [
       "12500"
      ]
     },
     "execution_count": 7,
     "metadata": {},
     "output_type": "execute_result"
    }
   ],
   "source": [
    "virus_df.count()"
   ]
  },
  {
   "cell_type": "code",
   "execution_count": 8,
   "metadata": {},
   "outputs": [
    {
     "data": {
      "text/plain": [
       "Norovirus genogroup I                                             2744\n",
       "Salmonella enterica                                               2303\n",
       "Norovirus genogroup II                                            1424\n",
       "Norovirus unknown                                                  790\n",
       "Clostridium perfringens                                            732\n",
       "                                                                  ... \n",
       "Campylobacter jejuni; Escherichia coli, Shiga toxin-producing        1\n",
       "Bacillus other                                                       1\n",
       "Escherichia coli, Shiga toxin-producing; Norovirus genogroup I       1\n",
       "Clostridium perfringens; Streptococcus group A                       1\n",
       "Bacillus cereus; Bacillus other                                      1\n",
       "Name: Species, Length: 201, dtype: int64"
      ]
     },
     "execution_count": 8,
     "metadata": {},
     "output_type": "execute_result"
    }
   ],
   "source": [
    "virus_df.value_counts() "
   ]
  },
  {
   "cell_type": "code",
   "execution_count": 9,
   "metadata": {},
   "outputs": [
    {
     "data": {
      "text/plain": [
       "Norovirus genogroup I      2744\n",
       "Salmonella enterica        2303\n",
       "Norovirus genogroup II     1424\n",
       "Norovirus unknown           790\n",
       "Clostridium perfringens     732\n",
       "Staphylococcus aureus       532\n",
       "Name: Species, dtype: int64"
      ]
     },
     "execution_count": 9,
     "metadata": {},
     "output_type": "execute_result"
    }
   ],
   "source": [
    "virus_df = outbreaks_df.groupby('Species').filter(lambda x : len(x)>500)\r\n",
    "virus_df = virus_df['Species'].value_counts()\r\n",
    "virus_df"
   ]
  },
  {
   "cell_type": "code",
   "execution_count": 10,
   "metadata": {},
   "outputs": [
    {
     "data": {
      "text/plain": [
       "([0, 1, 2, 3, 4, 5], <a list of 6 Text major ticklabel objects>)"
      ]
     },
     "execution_count": 10,
     "metadata": {},
     "output_type": "execute_result"
    },
    {
     "data": {
      "image/png": "[encoded data removed]",
      "text/plain": [
       "<Figure size 432x288 with 1 Axes>"
      ]
     },
     "metadata": {
      "needs_background": "light"
     },
     "output_type": "display_data"
    }
   ],
   "source": [
    "virus_series = virus_df\r\n",
    "virus_frame = virus_series.to_frame()\r\n",
    "virus_frame = virus_frame.head(20)\r\n",
    "plt.bar(virus_frame.index, virus_frame[\"Species\"])\r\n",
    "plt.xticks(rotation='vertical')"
   ]
  },
  {
   "cell_type": "code",
   "execution_count": 11,
   "metadata": {},
   "outputs": [
    {
     "data": {
      "text/html": [
       "<div>\n",
       "<style scoped>\n",
       "    .dataframe tbody tr th:only-of-type {\n",
       "        vertical-align: middle;\n",
       "    }\n",
       "\n",
       "    .dataframe tbody tr th {\n",
       "        vertical-align: top;\n",
       "    }\n",
       "\n",
       "    .dataframe thead th {\n",
       "        text-align: right;\n",
       "    }\n",
       "</style>\n",
       "<table border=\"1\" class=\"dataframe\">\n",
       "  <thead>\n",
       "    <tr style=\"text-align: right;\">\n",
       "      <th></th>\n",
       "      <th>Year</th>\n",
       "      <th>Month</th>\n",
       "      <th>State</th>\n",
       "      <th>Location</th>\n",
       "      <th>Food</th>\n",
       "      <th>Ingredient</th>\n",
       "      <th>Species</th>\n",
       "      <th>Serotype/Genotype</th>\n",
       "      <th>Status</th>\n",
       "      <th>Illnesses</th>\n",
       "      <th>Hospitalizations</th>\n",
       "      <th>Fatalities</th>\n",
       "    </tr>\n",
       "  </thead>\n",
       "  <tbody>\n",
       "    <tr>\n",
       "      <th>0</th>\n",
       "      <td>1998</td>\n",
       "      <td>January</td>\n",
       "      <td>California</td>\n",
       "      <td>Restaurant</td>\n",
       "      <td>NaN</td>\n",
       "      <td>NaN</td>\n",
       "      <td>NaN</td>\n",
       "      <td>NaN</td>\n",
       "      <td>NaN</td>\n",
       "      <td>20</td>\n",
       "      <td>0.0</td>\n",
       "      <td>0.0</td>\n",
       "    </tr>\n",
       "    <tr>\n",
       "      <th>1</th>\n",
       "      <td>1998</td>\n",
       "      <td>January</td>\n",
       "      <td>California</td>\n",
       "      <td>NaN</td>\n",
       "      <td>Custard</td>\n",
       "      <td>NaN</td>\n",
       "      <td>NaN</td>\n",
       "      <td>NaN</td>\n",
       "      <td>NaN</td>\n",
       "      <td>112</td>\n",
       "      <td>0.0</td>\n",
       "      <td>0.0</td>\n",
       "    </tr>\n",
       "    <tr>\n",
       "      <th>2</th>\n",
       "      <td>1998</td>\n",
       "      <td>January</td>\n",
       "      <td>California</td>\n",
       "      <td>Restaurant</td>\n",
       "      <td>NaN</td>\n",
       "      <td>NaN</td>\n",
       "      <td>NaN</td>\n",
       "      <td>NaN</td>\n",
       "      <td>NaN</td>\n",
       "      <td>35</td>\n",
       "      <td>0.0</td>\n",
       "      <td>0.0</td>\n",
       "    </tr>\n",
       "    <tr>\n",
       "      <th>3</th>\n",
       "      <td>1998</td>\n",
       "      <td>January</td>\n",
       "      <td>California</td>\n",
       "      <td>Restaurant</td>\n",
       "      <td>Fish, Ahi</td>\n",
       "      <td>NaN</td>\n",
       "      <td>Scombroid toxin</td>\n",
       "      <td>NaN</td>\n",
       "      <td>Confirmed</td>\n",
       "      <td>4</td>\n",
       "      <td>0.0</td>\n",
       "      <td>0.0</td>\n",
       "    </tr>\n",
       "    <tr>\n",
       "      <th>4</th>\n",
       "      <td>1998</td>\n",
       "      <td>January</td>\n",
       "      <td>California</td>\n",
       "      <td>Private Home/Residence</td>\n",
       "      <td>Lasagna, Unspecified; Eggs, Other</td>\n",
       "      <td>NaN</td>\n",
       "      <td>Salmonella enterica</td>\n",
       "      <td>Enteritidis</td>\n",
       "      <td>Confirmed</td>\n",
       "      <td>26</td>\n",
       "      <td>3.0</td>\n",
       "      <td>0.0</td>\n",
       "    </tr>\n",
       "    <tr>\n",
       "      <th>...</th>\n",
       "      <td>...</td>\n",
       "      <td>...</td>\n",
       "      <td>...</td>\n",
       "      <td>...</td>\n",
       "      <td>...</td>\n",
       "      <td>...</td>\n",
       "      <td>...</td>\n",
       "      <td>...</td>\n",
       "      <td>...</td>\n",
       "      <td>...</td>\n",
       "      <td>...</td>\n",
       "      <td>...</td>\n",
       "    </tr>\n",
       "    <tr>\n",
       "      <th>19114</th>\n",
       "      <td>2015</td>\n",
       "      <td>December</td>\n",
       "      <td>Wisconsin</td>\n",
       "      <td>Restaurant</td>\n",
       "      <td>NaN</td>\n",
       "      <td>NaN</td>\n",
       "      <td>Norovirus genogroup II</td>\n",
       "      <td>GII_14</td>\n",
       "      <td>Confirmed</td>\n",
       "      <td>4</td>\n",
       "      <td>0.0</td>\n",
       "      <td>0.0</td>\n",
       "    </tr>\n",
       "    <tr>\n",
       "      <th>19115</th>\n",
       "      <td>2015</td>\n",
       "      <td>December</td>\n",
       "      <td>Wisconsin</td>\n",
       "      <td>Private Home/Residence</td>\n",
       "      <td>Salsa</td>\n",
       "      <td>NaN</td>\n",
       "      <td>Norovirus genogroup II</td>\n",
       "      <td>GII_2</td>\n",
       "      <td>Confirmed</td>\n",
       "      <td>16</td>\n",
       "      <td>0.0</td>\n",
       "      <td>0.0</td>\n",
       "    </tr>\n",
       "    <tr>\n",
       "      <th>19116</th>\n",
       "      <td>2015</td>\n",
       "      <td>December</td>\n",
       "      <td>Wisconsin</td>\n",
       "      <td>Nursing Home/Assisted Living Facility</td>\n",
       "      <td>NaN</td>\n",
       "      <td>NaN</td>\n",
       "      <td>Norovirus genogroup II</td>\n",
       "      <td>GII_17 Kawasaki (2014)</td>\n",
       "      <td>Confirmed</td>\n",
       "      <td>43</td>\n",
       "      <td>3.0</td>\n",
       "      <td>0.0</td>\n",
       "    </tr>\n",
       "    <tr>\n",
       "      <th>19117</th>\n",
       "      <td>2015</td>\n",
       "      <td>December</td>\n",
       "      <td>Wisconsin</td>\n",
       "      <td>Fast Food Restaurant</td>\n",
       "      <td>NaN</td>\n",
       "      <td>NaN</td>\n",
       "      <td>Norovirus genogroup II</td>\n",
       "      <td>GII_2</td>\n",
       "      <td>Confirmed</td>\n",
       "      <td>5</td>\n",
       "      <td>0.0</td>\n",
       "      <td>0.0</td>\n",
       "    </tr>\n",
       "    <tr>\n",
       "      <th>19118</th>\n",
       "      <td>2015</td>\n",
       "      <td>December</td>\n",
       "      <td>Wyoming</td>\n",
       "      <td>NaN</td>\n",
       "      <td>NaN</td>\n",
       "      <td>NaN</td>\n",
       "      <td>NaN</td>\n",
       "      <td>NaN</td>\n",
       "      <td>NaN</td>\n",
       "      <td>3</td>\n",
       "      <td>0.0</td>\n",
       "      <td>0.0</td>\n",
       "    </tr>\n",
       "  </tbody>\n",
       "</table>\n",
       "<p>19119 rows × 12 columns</p>\n",
       "</div>"
      ],
      "text/plain": [
       "       Year     Month       State                               Location  \\\n",
       "0      1998   January  California                             Restaurant   \n",
       "1      1998   January  California                                    NaN   \n",
       "2      1998   January  California                             Restaurant   \n",
       "3      1998   January  California                             Restaurant   \n",
       "4      1998   January  California                 Private Home/Residence   \n",
       "...     ...       ...         ...                                    ...   \n",
       "19114  2015  December   Wisconsin                             Restaurant   \n",
       "19115  2015  December   Wisconsin                 Private Home/Residence   \n",
       "19116  2015  December   Wisconsin  Nursing Home/Assisted Living Facility   \n",
       "19117  2015  December   Wisconsin                   Fast Food Restaurant   \n",
       "19118  2015  December     Wyoming                                    NaN   \n",
       "\n",
       "                                    Food Ingredient                 Species  \\\n",
       "0                                    NaN        NaN                     NaN   \n",
       "1                                Custard        NaN                     NaN   \n",
       "2                                    NaN        NaN                     NaN   \n",
       "3                              Fish, Ahi        NaN         Scombroid toxin   \n",
       "4      Lasagna, Unspecified; Eggs, Other        NaN     Salmonella enterica   \n",
       "...                                  ...        ...                     ...   \n",
       "19114                                NaN        NaN  Norovirus genogroup II   \n",
       "19115                              Salsa        NaN  Norovirus genogroup II   \n",
       "19116                                NaN        NaN  Norovirus genogroup II   \n",
       "19117                                NaN        NaN  Norovirus genogroup II   \n",
       "19118                                NaN        NaN                     NaN   \n",
       "\n",
       "            Serotype/Genotype     Status  Illnesses  Hospitalizations  \\\n",
       "0                         NaN        NaN         20               0.0   \n",
       "1                         NaN        NaN        112               0.0   \n",
       "2                         NaN        NaN         35               0.0   \n",
       "3                         NaN  Confirmed          4               0.0   \n",
       "4                 Enteritidis  Confirmed         26               3.0   \n",
       "...                       ...        ...        ...               ...   \n",
       "19114                  GII_14  Confirmed          4               0.0   \n",
       "19115                   GII_2  Confirmed         16               0.0   \n",
       "19116  GII_17 Kawasaki (2014)  Confirmed         43               3.0   \n",
       "19117                   GII_2  Confirmed          5               0.0   \n",
       "19118                     NaN        NaN          3               0.0   \n",
       "\n",
       "       Fatalities  \n",
       "0             0.0  \n",
       "1             0.0  \n",
       "2             0.0  \n",
       "3             0.0  \n",
       "4             0.0  \n",
       "...           ...  \n",
       "19114         0.0  \n",
       "19115         0.0  \n",
       "19116         0.0  \n",
       "19117         0.0  \n",
       "19118         0.0  \n",
       "\n",
       "[19119 rows x 12 columns]"
      ]
     },
     "execution_count": 11,
     "metadata": {},
     "output_type": "execute_result"
    }
   ],
   "source": [
    "food_df = outbreaks_df\r\n",
    "food_df"
   ]
  },
  {
   "cell_type": "code",
   "execution_count": 26,
   "metadata": {},
   "outputs": [
    {
     "data": {
      "text/plain": [
       "721"
      ]
     },
     "execution_count": 26,
     "metadata": {},
     "output_type": "execute_result"
    }
   ],
   "source": [
    "food_df['Food'].count()"
   ]
  },
  {
   "cell_type": "code",
   "execution_count": 12,
   "metadata": {},
   "outputs": [
    {
     "data": {
      "text/plain": [
       "1                                        Custard\n",
       "3                                      Fish, Ahi\n",
       "4              Lasagna, Unspecified; Eggs, Other\n",
       "7        Stuffing, Unspecified; Sandwich, Turkey\n",
       "8                             Salad, Unspecified\n",
       "                          ...                   \n",
       "19105                    Meal Replacement Powder\n",
       "19108                                  Foie Gras\n",
       "19111                    Cookies, Chocolate Chip\n",
       "19113                                Gravy, Pork\n",
       "19115                                      Salsa\n",
       "Name: Food, Length: 10156, dtype: object"
      ]
     },
     "execution_count": 12,
     "metadata": {},
     "output_type": "execute_result"
    }
   ],
   "source": [
    "food_df = food_df['Food'].dropna()\r\n",
    "food_df"
   ]
  },
  {
   "cell_type": "code",
   "execution_count": 23,
   "metadata": {},
   "outputs": [
    {
     "data": {
      "text/plain": [
       "Multiple Foods            206\n",
       "Oysters, Raw              165\n",
       "Ground Beef, Hamburger    127\n",
       "Salad, Unspecified        118\n",
       "Chicken, Unspecified      105\n",
       "Name: Food, dtype: int64"
      ]
     },
     "execution_count": 23,
     "metadata": {},
     "output_type": "execute_result"
    }
   ],
   "source": [
    "food_df = outbreaks_df.groupby('Food').filter(lambda x : len(x)>100)\r\n",
    "food_df['Food'].value_counts()"
   ]
  },
  {
   "cell_type": "code",
   "execution_count": 24,
   "metadata": {},
   "outputs": [
    {
     "data": {
      "text/plain": [
       "([0, 1, 2, 3, 4, 5, 6, 7, 8, 9, 10, 11, 12, 13, 14, 15, 16, 17, 18, 19],\n",
       " <a list of 20 Text major ticklabel objects>)"
      ]
     },
     "execution_count": 24,
     "metadata": {},
     "output_type": "execute_result"
    },
    {
     "data": {
      "image/png": "[encoded data removed]",
      "text/plain": [
       "<Figure size 432x288 with 1 Axes>"
      ]
     },
     "metadata": {
      "needs_background": "light"
     },
     "output_type": "display_data"
    }
   ],
   "source": [
    "food_series = outbreaks_df['Food'].value_counts()\r\n",
    "food_frame = food_series.to_frame()\r\n",
    "food_frame = food_frame.head(20)\r\n",
    "plt.bar(food_frame.index, food_frame[\"Food\"])\r\n",
    "plt.xticks(rotation='vertical')"
   ]
  },
  {
   "cell_type": "code",
   "execution_count": null,
   "metadata": {},
   "outputs": [],
   "source": []
  }
 ],
 "metadata": {
  "interpreter": {
   "hash": "61ee4eedbb40f6b204db7353fb8ee3c1ac35e9b22dd076c003bd79c74bdea4cf"
  },
  "kernelspec": {
   "display_name": "Python 3.6.10 64-bit ('PythonData': conda)",
   "name": "python3"
  },
  "language_info": {
   "codemirror_mode": {
    "name": "ipython",
    "version": 3
   },
   "file_extension": ".py",
   "mimetype": "text/x-python",
   "name": "python",
   "nbconvert_exporter": "python",
   "pygments_lexer": "ipython3",
   "version": "3.6.10"
  }
 },
 "nbformat": 4,
 "nbformat_minor": 4
}