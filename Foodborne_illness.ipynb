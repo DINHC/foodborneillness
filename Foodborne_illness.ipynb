{
 "cells": [
  {
   "cell_type": "code",
   "execution_count": 2,
   "metadata": {},
   "outputs": [],
   "source": [
    "import matplotlib.pyplot as plt\n",
    "import pandas as pd\n",
    "import numpy as np"
   ]
  },
  {
   "cell_type": "code",
   "execution_count": 3,
   "metadata": {},
   "outputs": [
    {
     "data": {
      "text/html": [
       "<div>\n",
       "<style scoped>\n",
       "    .dataframe tbody tr th:only-of-type {\n",
       "        vertical-align: middle;\n",
       "    }\n",
       "\n",
       "    .dataframe tbody tr th {\n",
       "        vertical-align: top;\n",
       "    }\n",
       "\n",
       "    .dataframe thead th {\n",
       "        text-align: right;\n",
       "    }\n",
       "</style>\n",
       "<table border=\"1\" class=\"dataframe\">\n",
       "  <thead>\n",
       "    <tr style=\"text-align: right;\">\n",
       "      <th></th>\n",
       "      <th>Year</th>\n",
       "      <th>Month</th>\n",
       "      <th>State</th>\n",
       "      <th>Location</th>\n",
       "      <th>Food</th>\n",
       "      <th>Ingredient</th>\n",
       "      <th>Species</th>\n",
       "      <th>Serotype/Genotype</th>\n",
       "      <th>Status</th>\n",
       "      <th>Illnesses</th>\n",
       "      <th>Hospitalizations</th>\n",
       "      <th>Fatalities</th>\n",
       "    </tr>\n",
       "  </thead>\n",
       "  <tbody>\n",
       "    <tr>\n",
       "      <th>0</th>\n",
       "      <td>1998</td>\n",
       "      <td>January</td>\n",
       "      <td>California</td>\n",
       "      <td>Restaurant</td>\n",
       "      <td>NaN</td>\n",
       "      <td>NaN</td>\n",
       "      <td>NaN</td>\n",
       "      <td>NaN</td>\n",
       "      <td>NaN</td>\n",
       "      <td>20</td>\n",
       "      <td>0.0</td>\n",
       "      <td>0.0</td>\n",
       "    </tr>\n",
       "    <tr>\n",
       "      <th>1</th>\n",
       "      <td>1998</td>\n",
       "      <td>January</td>\n",
       "      <td>California</td>\n",
       "      <td>NaN</td>\n",
       "      <td>Custard</td>\n",
       "      <td>NaN</td>\n",
       "      <td>NaN</td>\n",
       "      <td>NaN</td>\n",
       "      <td>NaN</td>\n",
       "      <td>112</td>\n",
       "      <td>0.0</td>\n",
       "      <td>0.0</td>\n",
       "    </tr>\n",
       "    <tr>\n",
       "      <th>2</th>\n",
       "      <td>1998</td>\n",
       "      <td>January</td>\n",
       "      <td>California</td>\n",
       "      <td>Restaurant</td>\n",
       "      <td>NaN</td>\n",
       "      <td>NaN</td>\n",
       "      <td>NaN</td>\n",
       "      <td>NaN</td>\n",
       "      <td>NaN</td>\n",
       "      <td>35</td>\n",
       "      <td>0.0</td>\n",
       "      <td>0.0</td>\n",
       "    </tr>\n",
       "    <tr>\n",
       "      <th>3</th>\n",
       "      <td>1998</td>\n",
       "      <td>January</td>\n",
       "      <td>California</td>\n",
       "      <td>Restaurant</td>\n",
       "      <td>Fish, Ahi</td>\n",
       "      <td>NaN</td>\n",
       "      <td>Scombroid toxin</td>\n",
       "      <td>NaN</td>\n",
       "      <td>Confirmed</td>\n",
       "      <td>4</td>\n",
       "      <td>0.0</td>\n",
       "      <td>0.0</td>\n",
       "    </tr>\n",
       "    <tr>\n",
       "      <th>4</th>\n",
       "      <td>1998</td>\n",
       "      <td>January</td>\n",
       "      <td>California</td>\n",
       "      <td>Private Home/Residence</td>\n",
       "      <td>Lasagna, Unspecified; Eggs, Other</td>\n",
       "      <td>NaN</td>\n",
       "      <td>Salmonella enterica</td>\n",
       "      <td>Enteritidis</td>\n",
       "      <td>Confirmed</td>\n",
       "      <td>26</td>\n",
       "      <td>3.0</td>\n",
       "      <td>0.0</td>\n",
       "    </tr>\n",
       "    <tr>\n",
       "      <th>5</th>\n",
       "      <td>1998</td>\n",
       "      <td>January</td>\n",
       "      <td>California</td>\n",
       "      <td>Restaurant</td>\n",
       "      <td>NaN</td>\n",
       "      <td>NaN</td>\n",
       "      <td>Shigella boydii</td>\n",
       "      <td>NaN</td>\n",
       "      <td>Confirmed</td>\n",
       "      <td>25</td>\n",
       "      <td>3.0</td>\n",
       "      <td>0.0</td>\n",
       "    </tr>\n",
       "    <tr>\n",
       "      <th>6</th>\n",
       "      <td>1998</td>\n",
       "      <td>January</td>\n",
       "      <td>California</td>\n",
       "      <td>Restaurant</td>\n",
       "      <td>NaN</td>\n",
       "      <td>NaN</td>\n",
       "      <td>NaN</td>\n",
       "      <td>NaN</td>\n",
       "      <td>NaN</td>\n",
       "      <td>8</td>\n",
       "      <td>0.0</td>\n",
       "      <td>0.0</td>\n",
       "    </tr>\n",
       "    <tr>\n",
       "      <th>7</th>\n",
       "      <td>1998</td>\n",
       "      <td>January</td>\n",
       "      <td>California</td>\n",
       "      <td>Restaurant</td>\n",
       "      <td>Stuffing, Unspecified; Sandwich, Turkey</td>\n",
       "      <td>NaN</td>\n",
       "      <td>Salmonella enterica</td>\n",
       "      <td>Enteritidis</td>\n",
       "      <td>Confirmed</td>\n",
       "      <td>4</td>\n",
       "      <td>3.0</td>\n",
       "      <td>0.0</td>\n",
       "    </tr>\n",
       "    <tr>\n",
       "      <th>8</th>\n",
       "      <td>1998</td>\n",
       "      <td>January</td>\n",
       "      <td>Colorado</td>\n",
       "      <td>Restaurant</td>\n",
       "      <td>Salad, Unspecified</td>\n",
       "      <td>NaN</td>\n",
       "      <td>Virus</td>\n",
       "      <td>NaN</td>\n",
       "      <td>Suspected</td>\n",
       "      <td>21</td>\n",
       "      <td>NaN</td>\n",
       "      <td>NaN</td>\n",
       "    </tr>\n",
       "    <tr>\n",
       "      <th>9</th>\n",
       "      <td>1998</td>\n",
       "      <td>January</td>\n",
       "      <td>Colorado</td>\n",
       "      <td>Restaurant</td>\n",
       "      <td>Peppers, Chili</td>\n",
       "      <td>NaN</td>\n",
       "      <td>Virus</td>\n",
       "      <td>NaN</td>\n",
       "      <td>Suspected</td>\n",
       "      <td>3</td>\n",
       "      <td>NaN</td>\n",
       "      <td>0.0</td>\n",
       "    </tr>\n",
       "    <tr>\n",
       "      <th>10</th>\n",
       "      <td>1998</td>\n",
       "      <td>January</td>\n",
       "      <td>Colorado</td>\n",
       "      <td>Grocery Store</td>\n",
       "      <td>NaN</td>\n",
       "      <td>NaN</td>\n",
       "      <td>Virus</td>\n",
       "      <td>NaN</td>\n",
       "      <td>Suspected</td>\n",
       "      <td>8</td>\n",
       "      <td>NaN</td>\n",
       "      <td>NaN</td>\n",
       "    </tr>\n",
       "    <tr>\n",
       "      <th>11</th>\n",
       "      <td>1998</td>\n",
       "      <td>January</td>\n",
       "      <td>Colorado</td>\n",
       "      <td>Restaurant</td>\n",
       "      <td>NaN</td>\n",
       "      <td>NaN</td>\n",
       "      <td>Virus</td>\n",
       "      <td>NaN</td>\n",
       "      <td>Suspected</td>\n",
       "      <td>28</td>\n",
       "      <td>NaN</td>\n",
       "      <td>0.0</td>\n",
       "    </tr>\n",
       "    <tr>\n",
       "      <th>12</th>\n",
       "      <td>1998</td>\n",
       "      <td>January</td>\n",
       "      <td>Colorado</td>\n",
       "      <td>Private Home/Residence</td>\n",
       "      <td>NaN</td>\n",
       "      <td>NaN</td>\n",
       "      <td>Virus</td>\n",
       "      <td>NaN</td>\n",
       "      <td>Suspected</td>\n",
       "      <td>10</td>\n",
       "      <td>NaN</td>\n",
       "      <td>NaN</td>\n",
       "    </tr>\n",
       "    <tr>\n",
       "      <th>13</th>\n",
       "      <td>1998</td>\n",
       "      <td>January</td>\n",
       "      <td>Florida</td>\n",
       "      <td>Restaurant</td>\n",
       "      <td>Chicken Salad</td>\n",
       "      <td>NaN</td>\n",
       "      <td>NaN</td>\n",
       "      <td>NaN</td>\n",
       "      <td>NaN</td>\n",
       "      <td>2</td>\n",
       "      <td>NaN</td>\n",
       "      <td>NaN</td>\n",
       "    </tr>\n",
       "    <tr>\n",
       "      <th>14</th>\n",
       "      <td>1998</td>\n",
       "      <td>January</td>\n",
       "      <td>Florida</td>\n",
       "      <td>Restaurant</td>\n",
       "      <td>Hot Dog, Kielbasa</td>\n",
       "      <td>NaN</td>\n",
       "      <td>NaN</td>\n",
       "      <td>NaN</td>\n",
       "      <td>NaN</td>\n",
       "      <td>3</td>\n",
       "      <td>0.0</td>\n",
       "      <td>0.0</td>\n",
       "    </tr>\n",
       "    <tr>\n",
       "      <th>15</th>\n",
       "      <td>1998</td>\n",
       "      <td>January</td>\n",
       "      <td>Florida</td>\n",
       "      <td>Restaurant</td>\n",
       "      <td>Ethnic Style, Unspecified</td>\n",
       "      <td>NaN</td>\n",
       "      <td>Clostridium perfringens</td>\n",
       "      <td>NaN</td>\n",
       "      <td>Suspected</td>\n",
       "      <td>3</td>\n",
       "      <td>0.0</td>\n",
       "      <td>0.0</td>\n",
       "    </tr>\n",
       "    <tr>\n",
       "      <th>16</th>\n",
       "      <td>1998</td>\n",
       "      <td>January</td>\n",
       "      <td>Florida</td>\n",
       "      <td>Restaurant</td>\n",
       "      <td>Greek Salad</td>\n",
       "      <td>NaN</td>\n",
       "      <td>Norovirus genogroup I</td>\n",
       "      <td>NaN</td>\n",
       "      <td>Suspected</td>\n",
       "      <td>2</td>\n",
       "      <td>NaN</td>\n",
       "      <td>NaN</td>\n",
       "    </tr>\n",
       "    <tr>\n",
       "      <th>17</th>\n",
       "      <td>1998</td>\n",
       "      <td>January</td>\n",
       "      <td>Florida</td>\n",
       "      <td>Restaurant</td>\n",
       "      <td>Ground Beef, Cheeseburger</td>\n",
       "      <td>NaN</td>\n",
       "      <td>Staphylococcus aureus</td>\n",
       "      <td>NaN</td>\n",
       "      <td>Suspected</td>\n",
       "      <td>2</td>\n",
       "      <td>0.0</td>\n",
       "      <td>0.0</td>\n",
       "    </tr>\n",
       "    <tr>\n",
       "      <th>18</th>\n",
       "      <td>1998</td>\n",
       "      <td>January</td>\n",
       "      <td>Florida</td>\n",
       "      <td>Restaurant</td>\n",
       "      <td>Pasta, Unspecified</td>\n",
       "      <td>NaN</td>\n",
       "      <td>Bacillus cereus</td>\n",
       "      <td>NaN</td>\n",
       "      <td>Suspected</td>\n",
       "      <td>2</td>\n",
       "      <td>0.0</td>\n",
       "      <td>0.0</td>\n",
       "    </tr>\n",
       "    <tr>\n",
       "      <th>19</th>\n",
       "      <td>1998</td>\n",
       "      <td>January</td>\n",
       "      <td>Florida</td>\n",
       "      <td>Restaurant</td>\n",
       "      <td>Sauces, Unspecified; Tuna, Unspecified</td>\n",
       "      <td>NaN</td>\n",
       "      <td>Scombroid toxin</td>\n",
       "      <td>NaN</td>\n",
       "      <td>Suspected</td>\n",
       "      <td>2</td>\n",
       "      <td>2.0</td>\n",
       "      <td>0.0</td>\n",
       "    </tr>\n",
       "  </tbody>\n",
       "</table>\n",
       "</div>"
      ],
      "text/plain": [
       "    Year    Month       State                Location  \\\n",
       "0   1998  January  California              Restaurant   \n",
       "1   1998  January  California                     NaN   \n",
       "2   1998  January  California              Restaurant   \n",
       "3   1998  January  California              Restaurant   \n",
       "4   1998  January  California  Private Home/Residence   \n",
       "5   1998  January  California              Restaurant   \n",
       "6   1998  January  California              Restaurant   \n",
       "7   1998  January  California              Restaurant   \n",
       "8   1998  January    Colorado              Restaurant   \n",
       "9   1998  January    Colorado              Restaurant   \n",
       "10  1998  January    Colorado           Grocery Store   \n",
       "11  1998  January    Colorado              Restaurant   \n",
       "12  1998  January    Colorado  Private Home/Residence   \n",
       "13  1998  January     Florida              Restaurant   \n",
       "14  1998  January     Florida              Restaurant   \n",
       "15  1998  January     Florida              Restaurant   \n",
       "16  1998  January     Florida              Restaurant   \n",
       "17  1998  January     Florida              Restaurant   \n",
       "18  1998  January     Florida              Restaurant   \n",
       "19  1998  January     Florida              Restaurant   \n",
       "\n",
       "                                       Food Ingredient  \\\n",
       "0                                       NaN        NaN   \n",
       "1                                   Custard        NaN   \n",
       "2                                       NaN        NaN   \n",
       "3                                 Fish, Ahi        NaN   \n",
       "4         Lasagna, Unspecified; Eggs, Other        NaN   \n",
       "5                                       NaN        NaN   \n",
       "6                                       NaN        NaN   \n",
       "7   Stuffing, Unspecified; Sandwich, Turkey        NaN   \n",
       "8                        Salad, Unspecified        NaN   \n",
       "9                            Peppers, Chili        NaN   \n",
       "10                                      NaN        NaN   \n",
       "11                                      NaN        NaN   \n",
       "12                                      NaN        NaN   \n",
       "13                            Chicken Salad        NaN   \n",
       "14                        Hot Dog, Kielbasa        NaN   \n",
       "15                Ethnic Style, Unspecified        NaN   \n",
       "16                              Greek Salad        NaN   \n",
       "17                Ground Beef, Cheeseburger        NaN   \n",
       "18                       Pasta, Unspecified        NaN   \n",
       "19   Sauces, Unspecified; Tuna, Unspecified        NaN   \n",
       "\n",
       "                    Species Serotype/Genotype     Status  Illnesses  \\\n",
       "0                       NaN               NaN        NaN         20   \n",
       "1                       NaN               NaN        NaN        112   \n",
       "2                       NaN               NaN        NaN         35   \n",
       "3           Scombroid toxin               NaN  Confirmed          4   \n",
       "4       Salmonella enterica       Enteritidis  Confirmed         26   \n",
       "5           Shigella boydii               NaN  Confirmed         25   \n",
       "6                       NaN               NaN        NaN          8   \n",
       "7       Salmonella enterica       Enteritidis  Confirmed          4   \n",
       "8                     Virus               NaN  Suspected         21   \n",
       "9                     Virus               NaN  Suspected          3   \n",
       "10                    Virus               NaN  Suspected          8   \n",
       "11                    Virus               NaN  Suspected         28   \n",
       "12                    Virus               NaN  Suspected         10   \n",
       "13                      NaN               NaN        NaN          2   \n",
       "14                      NaN               NaN        NaN          3   \n",
       "15  Clostridium perfringens               NaN  Suspected          3   \n",
       "16    Norovirus genogroup I               NaN  Suspected          2   \n",
       "17    Staphylococcus aureus               NaN  Suspected          2   \n",
       "18          Bacillus cereus               NaN  Suspected          2   \n",
       "19          Scombroid toxin               NaN  Suspected          2   \n",
       "\n",
       "    Hospitalizations  Fatalities  \n",
       "0                0.0         0.0  \n",
       "1                0.0         0.0  \n",
       "2                0.0         0.0  \n",
       "3                0.0         0.0  \n",
       "4                3.0         0.0  \n",
       "5                3.0         0.0  \n",
       "6                0.0         0.0  \n",
       "7                3.0         0.0  \n",
       "8                NaN         NaN  \n",
       "9                NaN         0.0  \n",
       "10               NaN         NaN  \n",
       "11               NaN         0.0  \n",
       "12               NaN         NaN  \n",
       "13               NaN         NaN  \n",
       "14               0.0         0.0  \n",
       "15               0.0         0.0  \n",
       "16               NaN         NaN  \n",
       "17               0.0         0.0  \n",
       "18               0.0         0.0  \n",
       "19               2.0         0.0  "
      ]
     },
     "execution_count": 3,
     "metadata": {},
     "output_type": "execute_result"
    }
   ],
   "source": [
    "csv_file_path = 'outbreaks.csv'\n",
    "outbreaks_df = pd.read_csv(csv_file_path)\n",
    "outbreaks_df.head(20)"
   ]
  },
  {
   "cell_type": "code",
   "execution_count": 27,
   "metadata": {},
   "outputs": [
    {
     "data": {
      "text/plain": [
       "Year                 19119\n",
       "Month                19119\n",
       "State                19119\n",
       "Location             16953\n",
       "Food                 10156\n",
       "Ingredient            1876\n",
       "Species              12500\n",
       "Serotype/Genotype     3907\n",
       "Status               12500\n",
       "Illnesses            19119\n",
       "Hospitalizations     15494\n",
       "Fatalities           15518\n",
       "dtype: int64"
      ]
     },
     "execution_count": 27,
     "metadata": {},
     "output_type": "execute_result"
    }
   ],
   "source": [
    "outbreaks_df.count()"
   ]
  },
  {
   "cell_type": "code",
   "execution_count": 28,
   "metadata": {},
   "outputs": [],
   "source": [
    "#everett branch test comment"
   ]
  },
  {
   "cell_type": "code",
   "execution_count": 29,
   "metadata": {},
   "outputs": [
    {
     "data": {
      "text/plain": [
       "([0, 1, 2, 3, 4, 5, 6, 7, 8, 9, 10, 11, 12, 13, 14, 15, 16, 17, 18, 19],\n",
       " <a list of 20 Text xticklabel objects>)"
      ]
     },
     "execution_count": 29,
     "metadata": {},
     "output_type": "execute_result"
    },
    {
     "data": {
      "image/png": "[encoded data removed]",
      "text/plain": [
       "<Figure size 432x288 with 1 Axes>"
      ]
     },
     "metadata": {
      "needs_background": "light"
     },
     "output_type": "display_data"
    }
   ],
   "source": [
    "contaminant_series = outbreaks_df[\"Species\"].value_counts()\n",
    "cont_frame = contaminant_series.to_frame()\n",
    "cont_frame.head(20)\n",
    "test_frame = cont_frame.head(20)\n",
    "plt.bar(test_frame.index, test_frame[\"Species\"])\n",
    "plt.xticks(rotation='vertical')"
   ]
  },
  {
   "cell_type": "code",
   "execution_count": 39,
   "metadata": {},
   "outputs": [
    {
     "data": {
      "text/plain": [
       "([0, 1, 2, 3, 4, 5, 6, 7, 8, 9, 10, 11, 12, 13, 14, 15, 16, 17, 18, 19],\n",
       " <a list of 20 Text xticklabel objects>)"
      ]
     },
     "execution_count": 39,
     "metadata": {},
     "output_type": "execute_result"
    },
    {
     "data": {
      "image/png": "[encoded data removed]",
      "text/plain": [
       "<Figure size 432x288 with 1 Axes>"
      ]
     },
     "metadata": {
      "needs_background": "light"
     },
     "output_type": "display_data"
    }
   ],
   "source": [
    "food_series = outbreaks_df[\"Food\"].value_counts()\n",
    "food_frame = food_series.to_frame()\n",
    "food_frame_1 = food_frame.head(20)\n",
    "plt.bar(food_frame_1.index, food_frame_1[\"Food\"])\n",
    "plt.xticks(rotation='vertical')"
   ]
  },
  {
   "cell_type": "code",
   "execution_count": 40,
   "metadata": {},
   "outputs": [
    {
     "data": {
      "text/plain": [
       "Food    3127\n",
       "dtype: int64"
      ]
     },
     "execution_count": 40,
     "metadata": {},
     "output_type": "execute_result"
    }
   ],
   "source": [
    "food_frame.count()"
   ]
  },
  {
   "cell_type": "code",
   "execution_count": 37,
   "metadata": {},
   "outputs": [
    {
     "data": {
      "text/plain": [
       "202"
      ]
     },
     "execution_count": 37,
     "metadata": {},
     "output_type": "execute_result"
    }
   ],
   "source": [
    "species_list = outbreaks_df[\"Species\"].unique()\n",
    "len(species_list)"
   ]
  },
  {
   "cell_type": "code",
   "execution_count": 31,
   "metadata": {},
   "outputs": [
    {
     "data": {
      "text/html": [
       "<div>\n",
       "<style scoped>\n",
       "    .dataframe tbody tr th:only-of-type {\n",
       "        vertical-align: middle;\n",
       "    }\n",
       "\n",
       "    .dataframe tbody tr th {\n",
       "        vertical-align: top;\n",
       "    }\n",
       "\n",
       "    .dataframe thead th {\n",
       "        text-align: right;\n",
       "    }\n",
       "</style>\n",
       "<table border=\"1\" class=\"dataframe\">\n",
       "  <thead>\n",
       "    <tr style=\"text-align: right;\">\n",
       "      <th></th>\n",
       "      <th>Species</th>\n",
       "    </tr>\n",
       "  </thead>\n",
       "  <tbody>\n",
       "    <tr>\n",
       "      <th>Norovirus genogroup I</th>\n",
       "      <td>2744</td>\n",
       "    </tr>\n",
       "    <tr>\n",
       "      <th>Salmonella enterica</th>\n",
       "      <td>2303</td>\n",
       "    </tr>\n",
       "    <tr>\n",
       "      <th>Norovirus genogroup II</th>\n",
       "      <td>1424</td>\n",
       "    </tr>\n",
       "    <tr>\n",
       "      <th>Norovirus unknown</th>\n",
       "      <td>790</td>\n",
       "    </tr>\n",
       "    <tr>\n",
       "      <th>Clostridium perfringens</th>\n",
       "      <td>732</td>\n",
       "    </tr>\n",
       "    <tr>\n",
       "      <th>Staphylococcus aureus</th>\n",
       "      <td>532</td>\n",
       "    </tr>\n",
       "    <tr>\n",
       "      <th>Escherichia coli, Shiga toxin-producing</th>\n",
       "      <td>485</td>\n",
       "    </tr>\n",
       "    <tr>\n",
       "      <th>Scombroid toxin</th>\n",
       "      <td>389</td>\n",
       "    </tr>\n",
       "    <tr>\n",
       "      <th>Norovirus</th>\n",
       "      <td>334</td>\n",
       "    </tr>\n",
       "    <tr>\n",
       "      <th>Bacillus cereus</th>\n",
       "      <td>299</td>\n",
       "    </tr>\n",
       "    <tr>\n",
       "      <th>Campylobacter jejuni</th>\n",
       "      <td>280</td>\n",
       "    </tr>\n",
       "    <tr>\n",
       "      <th>Ciguatoxin</th>\n",
       "      <td>270</td>\n",
       "    </tr>\n",
       "    <tr>\n",
       "      <th>Chemical or toxin</th>\n",
       "      <td>156</td>\n",
       "    </tr>\n",
       "    <tr>\n",
       "      <th>Bacillus cereus; Clostridium perfringens</th>\n",
       "      <td>139</td>\n",
       "    </tr>\n",
       "    <tr>\n",
       "      <th>Shigella sonnei</th>\n",
       "      <td>130</td>\n",
       "    </tr>\n",
       "    <tr>\n",
       "      <th>Vibrio parahaemolyticus</th>\n",
       "      <td>120</td>\n",
       "    </tr>\n",
       "    <tr>\n",
       "      <th>Bacterium</th>\n",
       "      <td>114</td>\n",
       "    </tr>\n",
       "    <tr>\n",
       "      <th>Virus</th>\n",
       "      <td>101</td>\n",
       "    </tr>\n",
       "    <tr>\n",
       "      <th>Campylobacter unknown</th>\n",
       "      <td>90</td>\n",
       "    </tr>\n",
       "    <tr>\n",
       "      <th>Hepatitis A</th>\n",
       "      <td>88</td>\n",
       "    </tr>\n",
       "  </tbody>\n",
       "</table>\n",
       "</div>"
      ],
      "text/plain": [
       "                                          Species\n",
       "Norovirus genogroup I                        2744\n",
       "Salmonella enterica                          2303\n",
       "Norovirus genogroup II                       1424\n",
       "Norovirus unknown                             790\n",
       "Clostridium perfringens                       732\n",
       "Staphylococcus aureus                         532\n",
       "Escherichia coli, Shiga toxin-producing       485\n",
       "Scombroid toxin                               389\n",
       "Norovirus                                     334\n",
       "Bacillus cereus                               299\n",
       "Campylobacter jejuni                          280\n",
       "Ciguatoxin                                    270\n",
       "Chemical or toxin                             156\n",
       "Bacillus cereus; Clostridium perfringens      139\n",
       "Shigella sonnei                               130\n",
       "Vibrio parahaemolyticus                       120\n",
       "Bacterium                                     114\n",
       "Virus                                         101\n",
       "Campylobacter unknown                          90\n",
       "Hepatitis A                                    88"
      ]
     },
     "execution_count": 31,
     "metadata": {},
     "output_type": "execute_result"
    }
   ],
   "source": [
    "cont_frame.head(20)"
   ]
  },
  {
   "cell_type": "code",
   "execution_count": 32,
   "metadata": {},
   "outputs": [
    {
     "data": {
      "text/plain": [
       "Index(['Norovirus genogroup I', 'Salmonella enterica',\n",
       "       'Norovirus genogroup II', 'Norovirus unknown',\n",
       "       'Clostridium perfringens', 'Staphylococcus aureus',\n",
       "       'Escherichia coli, Shiga toxin-producing', 'Scombroid toxin',\n",
       "       'Norovirus', 'Bacillus cereus', 'Campylobacter jejuni', 'Ciguatoxin',\n",
       "       'Chemical or toxin', 'Bacillus cereus; Clostridium perfringens',\n",
       "       'Shigella sonnei', 'Vibrio parahaemolyticus', 'Bacterium', 'Virus',\n",
       "       'Campylobacter unknown', 'Hepatitis A'],\n",
       "      dtype='object')"
      ]
     },
     "execution_count": 32,
     "metadata": {},
     "output_type": "execute_result"
    }
   ],
   "source": [
    "test_frame.index"
   ]
  },
  {
   "cell_type": "code",
   "execution_count": 33,
   "metadata": {},
   "outputs": [],
   "source": [
    "#cont_frame_trunc = cont_frame.truncate(0,20)\n",
    "#truncate requires a sorted index"
   ]
  },
  {
   "cell_type": "code",
   "execution_count": 34,
   "metadata": {},
   "outputs": [
    {
     "data": {
      "text/plain": [
       "Species    201\n",
       "dtype: int64"
      ]
     },
     "execution_count": 34,
     "metadata": {},
     "output_type": "execute_result"
    }
   ],
   "source": [
    "cont_frame.count()"
   ]
  },
  {
   "cell_type": "code",
   "execution_count": 31,
   "metadata": {},
   "outputs": [
    {
     "data": {
      "text/plain": [
       "<BarContainer object of 18 artists>"
      ]
     },
     "execution_count": 31,
     "metadata": {},
     "output_type": "execute_result"
    },
    {
     "data": {
      "image/png": "[encoded data removed]",
      "text/plain": [
       "<Figure size 432x288 with 1 Axes>"
      ]
     },
     "metadata": {
      "needs_background": "light"
     },
     "output_type": "display_data"
    }
   ],
   "source": [
    "plt.bar(outbreaks_df[\"Year\"].unique(), outbreaks_df[\"Year\"].value_counts(), color='r', alpha=0.5, align=\"center\")"
   ]
  },
  {
   "cell_type": "code",
   "execution_count": 32,
   "metadata": {},
   "outputs": [
    {
     "ename": "KeyError",
     "evalue": "'Species'",
     "output_type": "error",
     "traceback": [
      "\u001b[1;31m---------------------------------------------------------------------------\u001b[0m",
      "\u001b[1;31mKeyError\u001b[0m                                  Traceback (most recent call last)",
      "\u001b[1;32m<ipython-input-32-e13e191f2f15>\u001b[0m in \u001b[0;36m<module>\u001b[1;34m\u001b[0m\n\u001b[1;32m----> 1\u001b[1;33m \u001b[0mplt\u001b[0m\u001b[1;33m.\u001b[0m\u001b[0mbar\u001b[0m\u001b[1;33m(\u001b[0m\u001b[0moutbreaks_df\u001b[0m\u001b[1;33m[\u001b[0m\u001b[1;34m\"Year\"\u001b[0m\u001b[1;33m]\u001b[0m\u001b[1;33m.\u001b[0m\u001b[0munique\u001b[0m\u001b[1;33m(\u001b[0m\u001b[1;33m)\u001b[0m\u001b[1;33m,\u001b[0m \u001b[0moutbreaks_df\u001b[0m\u001b[1;33m[\u001b[0m\u001b[1;34m\"Year\"\u001b[0m\u001b[1;33m]\u001b[0m\u001b[1;33m[\u001b[0m\u001b[1;34m\"Species\"\u001b[0m\u001b[1;33m]\u001b[0m\u001b[1;33m.\u001b[0m\u001b[0mvalue_counts\u001b[0m\u001b[1;33m(\u001b[0m\u001b[1;33m)\u001b[0m\u001b[1;33m,\u001b[0m \u001b[0mcolor\u001b[0m\u001b[1;33m=\u001b[0m\u001b[1;34m'r'\u001b[0m\u001b[1;33m,\u001b[0m \u001b[0malpha\u001b[0m\u001b[1;33m=\u001b[0m\u001b[1;36m0.5\u001b[0m\u001b[1;33m,\u001b[0m \u001b[0malign\u001b[0m\u001b[1;33m=\u001b[0m\u001b[1;34m\"center\"\u001b[0m\u001b[1;33m)\u001b[0m\u001b[1;33m\u001b[0m\u001b[1;33m\u001b[0m\u001b[0m\n\u001b[0m",
      "\u001b[1;32mD:\\anaconda3\\lib\\site-packages\\pandas\\core\\series.py\u001b[0m in \u001b[0;36m__getitem__\u001b[1;34m(self, key)\u001b[0m\n\u001b[0;32m    869\u001b[0m         \u001b[0mkey\u001b[0m \u001b[1;33m=\u001b[0m \u001b[0mcom\u001b[0m\u001b[1;33m.\u001b[0m\u001b[0mapply_if_callable\u001b[0m\u001b[1;33m(\u001b[0m\u001b[0mkey\u001b[0m\u001b[1;33m,\u001b[0m \u001b[0mself\u001b[0m\u001b[1;33m)\u001b[0m\u001b[1;33m\u001b[0m\u001b[1;33m\u001b[0m\u001b[0m\n\u001b[0;32m    870\u001b[0m         \u001b[1;32mtry\u001b[0m\u001b[1;33m:\u001b[0m\u001b[1;33m\u001b[0m\u001b[1;33m\u001b[0m\u001b[0m\n\u001b[1;32m--> 871\u001b[1;33m             \u001b[0mresult\u001b[0m \u001b[1;33m=\u001b[0m \u001b[0mself\u001b[0m\u001b[1;33m.\u001b[0m\u001b[0mindex\u001b[0m\u001b[1;33m.\u001b[0m\u001b[0mget_value\u001b[0m\u001b[1;33m(\u001b[0m\u001b[0mself\u001b[0m\u001b[1;33m,\u001b[0m \u001b[0mkey\u001b[0m\u001b[1;33m)\u001b[0m\u001b[1;33m\u001b[0m\u001b[1;33m\u001b[0m\u001b[0m\n\u001b[0m\u001b[0;32m    872\u001b[0m \u001b[1;33m\u001b[0m\u001b[0m\n\u001b[0;32m    873\u001b[0m             \u001b[1;32mif\u001b[0m \u001b[1;32mnot\u001b[0m \u001b[0mis_scalar\u001b[0m\u001b[1;33m(\u001b[0m\u001b[0mresult\u001b[0m\u001b[1;33m)\u001b[0m\u001b[1;33m:\u001b[0m\u001b[1;33m\u001b[0m\u001b[1;33m\u001b[0m\u001b[0m\n",
      "\u001b[1;32mD:\\anaconda3\\lib\\site-packages\\pandas\\core\\indexes\\base.py\u001b[0m in \u001b[0;36mget_value\u001b[1;34m(self, series, key)\u001b[0m\n\u001b[0;32m   4403\u001b[0m         \u001b[0mk\u001b[0m \u001b[1;33m=\u001b[0m \u001b[0mself\u001b[0m\u001b[1;33m.\u001b[0m\u001b[0m_convert_scalar_indexer\u001b[0m\u001b[1;33m(\u001b[0m\u001b[0mk\u001b[0m\u001b[1;33m,\u001b[0m \u001b[0mkind\u001b[0m\u001b[1;33m=\u001b[0m\u001b[1;34m\"getitem\"\u001b[0m\u001b[1;33m)\u001b[0m\u001b[1;33m\u001b[0m\u001b[1;33m\u001b[0m\u001b[0m\n\u001b[0;32m   4404\u001b[0m         \u001b[1;32mtry\u001b[0m\u001b[1;33m:\u001b[0m\u001b[1;33m\u001b[0m\u001b[1;33m\u001b[0m\u001b[0m\n\u001b[1;32m-> 4405\u001b[1;33m             \u001b[1;32mreturn\u001b[0m \u001b[0mself\u001b[0m\u001b[1;33m.\u001b[0m\u001b[0m_engine\u001b[0m\u001b[1;33m.\u001b[0m\u001b[0mget_value\u001b[0m\u001b[1;33m(\u001b[0m\u001b[0ms\u001b[0m\u001b[1;33m,\u001b[0m \u001b[0mk\u001b[0m\u001b[1;33m,\u001b[0m \u001b[0mtz\u001b[0m\u001b[1;33m=\u001b[0m\u001b[0mgetattr\u001b[0m\u001b[1;33m(\u001b[0m\u001b[0mseries\u001b[0m\u001b[1;33m.\u001b[0m\u001b[0mdtype\u001b[0m\u001b[1;33m,\u001b[0m \u001b[1;34m\"tz\"\u001b[0m\u001b[1;33m,\u001b[0m \u001b[1;32mNone\u001b[0m\u001b[1;33m)\u001b[0m\u001b[1;33m)\u001b[0m\u001b[1;33m\u001b[0m\u001b[1;33m\u001b[0m\u001b[0m\n\u001b[0m\u001b[0;32m   4406\u001b[0m         \u001b[1;32mexcept\u001b[0m \u001b[0mKeyError\u001b[0m \u001b[1;32mas\u001b[0m \u001b[0me1\u001b[0m\u001b[1;33m:\u001b[0m\u001b[1;33m\u001b[0m\u001b[1;33m\u001b[0m\u001b[0m\n\u001b[0;32m   4407\u001b[0m             \u001b[1;32mif\u001b[0m \u001b[0mlen\u001b[0m\u001b[1;33m(\u001b[0m\u001b[0mself\u001b[0m\u001b[1;33m)\u001b[0m \u001b[1;33m>\u001b[0m \u001b[1;36m0\u001b[0m \u001b[1;32mand\u001b[0m \u001b[1;33m(\u001b[0m\u001b[0mself\u001b[0m\u001b[1;33m.\u001b[0m\u001b[0mholds_integer\u001b[0m\u001b[1;33m(\u001b[0m\u001b[1;33m)\u001b[0m \u001b[1;32mor\u001b[0m \u001b[0mself\u001b[0m\u001b[1;33m.\u001b[0m\u001b[0mis_boolean\u001b[0m\u001b[1;33m(\u001b[0m\u001b[1;33m)\u001b[0m\u001b[1;33m)\u001b[0m\u001b[1;33m:\u001b[0m\u001b[1;33m\u001b[0m\u001b[1;33m\u001b[0m\u001b[0m\n",
      "\u001b[1;32mpandas\\_libs\\index.pyx\u001b[0m in \u001b[0;36mpandas._libs.index.IndexEngine.get_value\u001b[1;34m()\u001b[0m\n",
      "\u001b[1;32mpandas\\_libs\\index.pyx\u001b[0m in \u001b[0;36mpandas._libs.index.IndexEngine.get_value\u001b[1;34m()\u001b[0m\n",
      "\u001b[1;32mpandas\\_libs\\index.pyx\u001b[0m in \u001b[0;36mpandas._libs.index.IndexEngine.get_loc\u001b[1;34m()\u001b[0m\n",
      "\u001b[1;32mpandas\\_libs\\index_class_helper.pxi\u001b[0m in \u001b[0;36mpandas._libs.index.Int64Engine._check_type\u001b[1;34m()\u001b[0m\n",
      "\u001b[1;31mKeyError\u001b[0m: 'Species'"
     ]
    }
   ],
   "source": [
    "plt.bar(outbreaks_df[\"Year\"].unique(), outbreaks_df[\"Year\"][\"Species\"].value_counts(), color='r', alpha=0.5, align=\"center\")"
   ]
  },
  {
   "cell_type": "code",
   "execution_count": 33,
   "metadata": {},
   "outputs": [
    {
     "data": {
      "text/plain": [
       "Multiple Foods                                                                                                                                              206\n",
       "Oysters, Raw                                                                                                                                                165\n",
       "Ground Beef, Hamburger                                                                                                                                      127\n",
       "Salad, Unspecified                                                                                                                                          118\n",
       "Chicken, Unspecified                                                                                                                                        105\n",
       "                                                                                                                                                           ... \n",
       "Crabcake                                                                                                                                                      1\n",
       "Salmon, Raw; Sushi, Unspecified                                                                                                                               1\n",
       "Lettuce Based Salads; Salad Dressings; Cheddar Cheese; Salad Dressings; Milk, 1% Milk Pasteurized; Leaf Lettuce; Cheddar Cheese, Pasteurized; Vegetables      1\n",
       "Turkey And Gravy; Bread, Cornbread Dressing; Coleslaw                                                                                                         1\n",
       "Lettuce-Based Salads Unspecified; Bread, Unspecified                                                                                                          1\n",
       "Name: Food, Length: 3127, dtype: int64"
      ]
     },
     "execution_count": 33,
     "metadata": {},
     "output_type": "execute_result"
    }
   ],
   "source": [
    "outbreaks_df[\"Food\"].value_counts()"
   ]
  },
  {
   "cell_type": "code",
   "execution_count": null,
   "metadata": {},
   "outputs": [],
   "source": []
  }
 ],
 "metadata": {
  "kernelspec": {
   "display_name": "Python 3",
   "language": "python",
   "name": "python3"
  },
  "language_info": {
   "codemirror_mode": {
    "name": "ipython",
    "version": 3
   },
   "file_extension": ".py",
   "mimetype": "text/x-python",
   "name": "python",
   "nbconvert_exporter": "python",
   "pygments_lexer": "ipython3",
   "version": "3.7.6"
  }
 },
 "nbformat": 4,
 "nbformat_minor": 4
}
