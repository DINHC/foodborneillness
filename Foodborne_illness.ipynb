{
 "cells": [
  {
   "cell_type": "code",
   "execution_count": 9,
   "metadata": {},
   "outputs": [],
   "source": [
    "import matplotlib.pyplot as plt\n",
    "import pandas as pd\n",
    "import numpy as np"
   ]
  },
  {
   "cell_type": "code",
   "execution_count": 20,
   "metadata": {},
   "outputs": [
    {
     "name": "stderr",
     "output_type": "stream",
     "text": [
      "D:\\anaconda3\\lib\\site-packages\\ipykernel_launcher.py:2: ParserWarning: Falling back to the 'python' engine because the 'c' engine does not support regex separators (separators > 1 char and different from '\\s+' are interpreted as regex); you can avoid this warning by specifying engine='python'.\n",
      "  \n"
     ]
    },
    {
     "data": {
      "text/html": [
       "<div>\n",
       "<style scoped>\n",
       "    .dataframe tbody tr th:only-of-type {\n",
       "        vertical-align: middle;\n",
       "    }\n",
       "\n",
       "    .dataframe tbody tr th {\n",
       "        vertical-align: top;\n",
       "    }\n",
       "\n",
       "    .dataframe thead th {\n",
       "        text-align: right;\n",
       "    }\n",
       "</style>\n",
       "<table border=\"1\" class=\"dataframe\">\n",
       "  <thead>\n",
       "    <tr style=\"text-align: right;\">\n",
       "      <th></th>\n",
       "      <th>0</th>\n",
       "    </tr>\n",
       "  </thead>\n",
       "  <tbody>\n",
       "    <tr>\n",
       "      <th>0</th>\n",
       "      <td>PK\u0003\u0004-\u0000\u0000\u0000\b\u0000\\tC4O ¬8(ÿÿÿÿÿÿÿÿ</td>\n",
       "    </tr>\n",
       "    <tr>\n",
       "      <th>1</th>\n",
       "      <td>\u0000\u0014\u0000outbreaks.csv\u0001\u0000\u0010\u0000\u0015x\u0017\u0000\u0000\u0000\u0000\u0000AF\u0003\u0000\u0000\u0000\u0000\u0000Ä½Ys\u001bG²(üî...</td>\n",
       "    </tr>\n",
       "    <tr>\n",
       "      <th>2</th>\n",
       "      <td>ã</td>\n",
       "    </tr>\n",
       "    <tr>\n",
       "      <th>3</th>\n",
       "      <td>�\"\\¶ßËÛº¬¢]^ç�y±©ÖÏ‡r%nŽö–ÏÜ…ø˜ÿÈ9{‚áª¸3Aa9Õw\u001e",
       "...</td>\n",
       "    </tr>\n",
       "    <tr>\n",
       "      <th>4</th>\n",
       "      <td>Øw°í~Ÿ¯\u001e",
       "�ûâp0¨Æè]¹s˜™Ž&lt;ì«í¶0ÄÌÙ‚MýÀ[ª\u000502WœS,\u001fr...</td>\n",
       "    </tr>\n",
       "  </tbody>\n",
       "</table>\n",
       "</div>"
      ],
      "text/plain": [
       "                                                   0\n",
       "0                        PK\u0003\u0004-\u0000\u0000\u0000\b\u0000\\tC4O ¬8(ÿÿÿÿÿÿÿÿ\n",
       "1  \u0000\u0014\u0000outbreaks.csv\u0001\u0000\u0010\u0000\u0015x\u0017\u0000\u0000\u0000\u0000\u0000AF\u0003\u0000\u0000\u0000\u0000\u0000Ä½Ys\u001bG²(üî...\n",
       "2                                                  ã\n",
       "3  �\"\\¶ßËÛº¬¢]^ç�y±©ÖÏ‡r%nŽö–ÏÜ…ø˜ÿÈ9{‚áª¸3Aa9Õw\n",
       "...\n",
       "4  Øw°í~Ÿ¯\n",
       "�ûâp0¨Æè]¹s˜™Ž<ì«í¶0ÄÌÙ‚MýÀ[ª\u000502WœS,\u001fr..."
      ]
     },
     "execution_count": 20,
     "metadata": {},
     "output_type": "execute_result"
    }
   ],
   "source": [
    "csv_file_path = 'outbreaks.csv'\n",
    "outbreaks_df = pd.read_csv(csv_file_path, sep='delimiter', header=None)\n",
    "outbreaks_df.head()"
   ]
  },
  {
   "cell_type": "code",
   "execution_count": null,
   "metadata": {},
   "outputs": [],
   "source": []
  },
  {
   "cell_type": "code",
   "execution_count": null,
   "metadata": {},
   "outputs": [],
   "source": []
  }
 ],
 "metadata": {
  "kernelspec": {
   "display_name": "Python 3",
   "language": "python",
   "name": "python3"
  },
  "language_info": {
   "codemirror_mode": {
    "name": "ipython",
    "version": 3
   },
   "file_extension": ".py",
   "mimetype": "text/x-python",
   "name": "python",
   "nbconvert_exporter": "python",
   "pygments_lexer": "ipython3",
   "version": "3.7.6"
  }
 },
 "nbformat": 4,
 "nbformat_minor": 4
}
